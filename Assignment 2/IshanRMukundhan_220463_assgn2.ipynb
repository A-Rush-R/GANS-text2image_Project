{
  "cells": [
    {
      "cell_type": "markdown",
      "source": [
        "**Fill the Code blocks according to the comments provided as hints**"
      ],
      "metadata": {
        "id": "7Pjuly3ZBDS0"
      },
      "id": "7Pjuly3ZBDS0"
    },
    {
      "cell_type": "code",
      "execution_count": 2,
      "id": "7d78b116",
      "metadata": {
        "id": "7d78b116"
      },
      "outputs": [],
      "source": [
        "from sklearn.datasets import load_diabetes #We will use this dataset\n",
        "from sklearn.datasets import make_regression\n",
        "import numpy as np\n",
        "from sklearn.metrics import r2_score\n",
        "from sklearn.model_selection import train_test_split\n",
        "import matplotlib.pyplot as plt\n",
        "#import libraries for numpy, Linear regression, r2_score, train_test_split"
      ]
    },
    {
      "cell_type": "code",
      "execution_count": 3,
      "id": "6b46625d",
      "metadata": {
        "id": "6b46625d"
      },
      "outputs": [],
      "source": [
        "X,y = load_diabetes(return_X_y=True)  #loading dataset"
      ]
    },
    {
      "cell_type": "code",
      "execution_count": 10,
      "id": "c2ad6cd1",
      "metadata": {
        "id": "c2ad6cd1",
        "colab": {
          "base_uri": "https://localhost:8080/"
        },
        "outputId": "a56db5f0-2ee1-4d9a-a67c-6db33e95da12"
      },
      "outputs": [
        {
          "output_type": "stream",
          "name": "stdout",
          "text": [
            "(442, 10)\n",
            "(442,)\n"
          ]
        }
      ],
      "source": [
        "#print shape of X and y and write in a text block what do you observe about both \n",
        "\n",
        "print(X.shape)\n",
        "print(y.shape)"
      ]
    },
    {
      "cell_type": "code",
      "execution_count": 14,
      "id": "a70d2eb2",
      "metadata": {
        "id": "a70d2eb2"
      },
      "outputs": [],
      "source": [
        "#split the dataset into Train(80%) and Test(20%)\n",
        "X_train,X_test,y_train,y_test=train_test_split(X,y,test_size=0.2)\n"
      ]
    },
    {
      "cell_type": "code",
      "execution_count": 15,
      "id": "a8ec5613",
      "metadata": {
        "id": "a8ec5613"
      },
      "outputs": [],
      "source": [
        "#fit X,y in Linear Regression Model of sklearn\n",
        "X,y = make_regression(n_samples=442, n_features=10, n_informative=10, n_targets=1,noise=80,random_state=13)\n"
      ]
    },
    {
      "cell_type": "code",
      "execution_count": 16,
      "id": "d3e3934e",
      "metadata": {
        "id": "d3e3934e",
        "colab": {
          "base_uri": "https://localhost:8080/"
        },
        "outputId": "0a8db515-1ca9-4f52-d3f1-189ba0aa7f51"
      },
      "outputs": [
        {
          "output_type": "stream",
          "name": "stdout",
          "text": [
            "[ -50.76441693 -251.04249579  514.10400316  369.1661142  -718.71002455\n",
            "  435.78852386   82.49899261  179.99625955  733.65167727   46.2810014 ]\n",
            "151.3797055924144\n"
          ]
        }
      ],
      "source": [
        "#print coefficients and intercepts (in @d gradient descent in was only m and b but as it is n dimensional it will have n coefficients and 1 intercept)\n",
        "from sklearn.linear_model import LinearRegression\n",
        "lr = LinearRegression()\n",
        "lr.fit(X_train,y_train)\n",
        "print(lr.coef_)\n",
        "print(lr.intercept_)"
      ]
    },
    {
      "cell_type": "code",
      "execution_count": 17,
      "id": "d8b0bb30",
      "metadata": {
        "id": "d8b0bb30",
        "colab": {
          "base_uri": "https://localhost:8080/"
        },
        "outputId": "6e13f848-b255-419e-dcf6-09d22ea084bf"
      },
      "outputs": [
        {
          "output_type": "execute_result",
          "data": {
            "text/plain": [
              "0.5322860978921791"
            ]
          },
          "metadata": {},
          "execution_count": 17
        }
      ],
      "source": [
        "#predict on X_test and calculate r2_score\n",
        "y_pred = lr.predict(X_test)\n",
        "from sklearn.metrics import r2_score\n",
        "r2_score(y_test,y_pred)\n"
      ]
    },
    {
      "cell_type": "code",
      "execution_count": 18,
      "id": "b5f8dc27",
      "metadata": {
        "id": "b5f8dc27",
        "colab": {
          "base_uri": "https://localhost:8080/"
        },
        "outputId": "8719e98e-2332-4494-d631-53db4598fe20"
      },
      "outputs": [
        {
          "output_type": "stream",
          "name": "stdout",
          "text": [
            "(353, 10)\n"
          ]
        }
      ],
      "source": [
        "#print X_train shape\n",
        "print(X_train.shape)"
      ]
    },
    {
      "cell_type": "code",
      "execution_count": 33,
      "id": "777721d5",
      "metadata": {
        "id": "777721d5"
      },
      "outputs": [],
      "source": [
        "#Write GDregressor class\n",
        "\n",
        "\n",
        "class GDRegressor:\n",
        "    \n",
        "    def __init__(self,learning_rate,epochs):\n",
        "        \n",
        "        self.coef_ = None\n",
        "        self.intercept_ = None\n",
        "        self.lr = learning_rate\n",
        "        self.epochs = epochs\n",
        "        \n",
        "    def fit(self,X_train,y_train):\n",
        "        # init your coefs\n",
        "        self.intercept_ = 151.3797055924144 #initialise the intercept\n",
        "        self.coef_ = [ -50.76441693, -251.04249579,  514.10400316,  369.1661142,  -718.71002455,\n",
        "                      435.78852386,   82.49899261,  179.99625955,  733.65167727,   46.2810014 ]\n",
        "#initialise the array of coefficients according to number of coefficients\n",
        "        \n",
        "        for i in range(self.epochs):\n",
        "            # update all the coef and the intercept\n",
        "            intercept_=np.array([151.3797055924144])\n",
        "            coef_=np.array([ -50.76441693, -251.04249579,  514.10400316,  369.1661142,  -718.71002455,\n",
        "                      435.78852386,   82.49899261,  179.99625955,  733.65167727,   46.2810014 ])\n",
        "            y_hat = np.sum((np.matmul(X,coeff_)),intercept_)#apply prediction formula i.e. (y_hat = coefficient*X + intercept) in terms of matrices coefficient and X   \n",
        "            intercept_derivative = np.gradient(intercept_)#find derivative matrix \n",
        "            self.intercept_ = self.intercept_ - (self.lr*intercept_derivative)#update intercept using above intercept_derivative\n",
        "            \n",
        "            coef_derivative = np.gradient(coef_)#derivative matrix for all coefficients in a single step\n",
        "            self.coef_ =  self.coef_ - (self.lr*coef_derivative)#update intercept using coef_derivative\n",
        "        \n",
        "        #print the coefficients array and the intercept\n",
        "        print(self.coef_,self.intercept_)\n",
        "    \n",
        "    def predict(self,X_test):\n",
        "        return  self.coef_ * X + self.intercept_#new prediction in the form of (y = coefficients*X + intercept) using matrices"
      ]
    },
    {
      "cell_type": "code",
      "execution_count": 21,
      "id": "4ecc1e6f",
      "metadata": {
        "id": "4ecc1e6f"
      },
      "outputs": [],
      "source": [
        "#call GDRegressor by keeping epochs and learning rate according to you and keep changing it for better results\n",
        "gd = GDRegressor(0.002,100)"
      ]
    },
    {
      "cell_type": "code",
      "execution_count": 35,
      "id": "e7e6aec9",
      "metadata": {
        "id": "e7e6aec9",
        "colab": {
          "base_uri": "https://localhost:8080/",
          "height": 304
        },
        "outputId": "2bcf1e0c-54d8-4bd7-dd1a-552fa3458c9d"
      },
      "outputs": [
        {
          "output_type": "error",
          "ename": "ValueError",
          "evalue": "ignored",
          "traceback": [
            "\u001b[0;31m---------------------------------------------------------------------------\u001b[0m",
            "\u001b[0;31mValueError\u001b[0m                                Traceback (most recent call last)",
            "\u001b[0;32m<ipython-input-35-b1b730e80908>\u001b[0m in \u001b[0;36m<cell line: 2>\u001b[0;34m()\u001b[0m\n\u001b[1;32m      1\u001b[0m \u001b[0;31m#fit X_train, y_train into GDRegressor object using function of the class\u001b[0m\u001b[0;34m\u001b[0m\u001b[0;34m\u001b[0m\u001b[0m\n\u001b[0;32m----> 2\u001b[0;31m \u001b[0mgd\u001b[0m\u001b[0;34m.\u001b[0m\u001b[0mfit\u001b[0m\u001b[0;34m(\u001b[0m\u001b[0mX_train\u001b[0m\u001b[0;34m,\u001b[0m\u001b[0my_train\u001b[0m\u001b[0;34m)\u001b[0m\u001b[0;34m\u001b[0m\u001b[0;34m\u001b[0m\u001b[0m\n\u001b[0m",
            "\u001b[0;32m<ipython-input-20-3ce5562a73e1>\u001b[0m in \u001b[0;36mfit\u001b[0;34m(self, X_train, y_train)\u001b[0m\n\u001b[1;32m     23\u001b[0m             coef_=np.array([ -50.76441693, -251.04249579,  514.10400316,  369.1661142,  -718.71002455,\n\u001b[1;32m     24\u001b[0m                       435.78852386,   82.49899261,  179.99625955,  733.65167727,   46.2810014 ])\n\u001b[0;32m---> 25\u001b[0;31m             \u001b[0my_hat\u001b[0m \u001b[0;34m=\u001b[0m \u001b[0mnp\u001b[0m\u001b[0;34m.\u001b[0m\u001b[0msum\u001b[0m\u001b[0;34m(\u001b[0m\u001b[0;34m(\u001b[0m\u001b[0mnp\u001b[0m\u001b[0;34m.\u001b[0m\u001b[0mmatmul\u001b[0m\u001b[0;34m(\u001b[0m\u001b[0mcoef_\u001b[0m\u001b[0;34m,\u001b[0m\u001b[0mX\u001b[0m\u001b[0;34m)\u001b[0m\u001b[0;34m)\u001b[0m\u001b[0;34m,\u001b[0m\u001b[0mintercept_\u001b[0m\u001b[0;34m)\u001b[0m\u001b[0;31m#apply prediction formula i.e. (y_hat = coefficient*X + intercept) in terms of matrices coefficient and X\u001b[0m\u001b[0;34m\u001b[0m\u001b[0;34m\u001b[0m\u001b[0m\n\u001b[0m\u001b[1;32m     26\u001b[0m             \u001b[0mintercept_derivative\u001b[0m \u001b[0;34m=\u001b[0m \u001b[0mnp\u001b[0m\u001b[0;34m.\u001b[0m\u001b[0mgradient\u001b[0m\u001b[0;34m(\u001b[0m\u001b[0mintercept_\u001b[0m\u001b[0;34m)\u001b[0m\u001b[0;31m#find derivative matrix\u001b[0m\u001b[0;34m\u001b[0m\u001b[0;34m\u001b[0m\u001b[0m\n\u001b[1;32m     27\u001b[0m             \u001b[0mself\u001b[0m\u001b[0;34m.\u001b[0m\u001b[0mintercept_\u001b[0m \u001b[0;34m=\u001b[0m \u001b[0mself\u001b[0m\u001b[0;34m.\u001b[0m\u001b[0mintercept_\u001b[0m \u001b[0;34m-\u001b[0m \u001b[0;34m(\u001b[0m\u001b[0mself\u001b[0m\u001b[0;34m.\u001b[0m\u001b[0mlr\u001b[0m\u001b[0;34m*\u001b[0m\u001b[0mintercept_derivative\u001b[0m\u001b[0;34m)\u001b[0m\u001b[0;31m#update intercept using above intercept_derivative\u001b[0m\u001b[0;34m\u001b[0m\u001b[0;34m\u001b[0m\u001b[0m\n",
            "\u001b[0;31mValueError\u001b[0m: matmul: Input operand 1 has a mismatch in its core dimension 0, with gufunc signature (n?,k),(k,m?)->(n?,m?) (size 442 is different from 10)"
          ]
        }
      ],
      "source": [
        "#fit X_train, y_train into GDRegressor object using function of the class\n",
        "gd.fit(X_train,y_train)"
      ]
    },
    {
      "cell_type": "code",
      "execution_count": 25,
      "id": "8e5e4410",
      "metadata": {
        "id": "8e5e4410",
        "colab": {
          "base_uri": "https://localhost:8080/",
          "height": 345
        },
        "outputId": "735d3533-cfdc-4d54-b436-ffcbfad5df5b"
      },
      "outputs": [
        {
          "output_type": "error",
          "ename": "ValueError",
          "evalue": "ignored",
          "traceback": [
            "\u001b[0;31m---------------------------------------------------------------------------\u001b[0m",
            "\u001b[0;31mValueError\u001b[0m                                Traceback (most recent call last)",
            "\u001b[0;32m<ipython-input-25-5181ab1ba63f>\u001b[0m in \u001b[0;36m<cell line: 4>\u001b[0;34m()\u001b[0m\n\u001b[1;32m      2\u001b[0m \u001b[0my_pred\u001b[0m \u001b[0;34m=\u001b[0m \u001b[0mgd\u001b[0m\u001b[0;34m.\u001b[0m\u001b[0mpredict\u001b[0m\u001b[0;34m(\u001b[0m\u001b[0mX_test\u001b[0m\u001b[0;34m)\u001b[0m\u001b[0;34m\u001b[0m\u001b[0;34m\u001b[0m\u001b[0m\n\u001b[1;32m      3\u001b[0m \u001b[0;32mfrom\u001b[0m \u001b[0msklearn\u001b[0m\u001b[0;34m.\u001b[0m\u001b[0mmetrics\u001b[0m \u001b[0;32mimport\u001b[0m \u001b[0mr2_score\u001b[0m\u001b[0;34m\u001b[0m\u001b[0;34m\u001b[0m\u001b[0m\n\u001b[0;32m----> 4\u001b[0;31m \u001b[0mr2_score\u001b[0m\u001b[0;34m(\u001b[0m\u001b[0my_test\u001b[0m\u001b[0;34m,\u001b[0m\u001b[0my_pred\u001b[0m\u001b[0;34m)\u001b[0m\u001b[0;34m\u001b[0m\u001b[0;34m\u001b[0m\u001b[0m\n\u001b[0m",
            "\u001b[0;32m/usr/local/lib/python3.10/dist-packages/sklearn/metrics/_regression.py\u001b[0m in \u001b[0;36mr2_score\u001b[0;34m(y_true, y_pred, sample_weight, multioutput, force_finite)\u001b[0m\n\u001b[1;32m    909\u001b[0m     \u001b[0;34m-\u001b[0m\u001b[0minf\u001b[0m\u001b[0;34m\u001b[0m\u001b[0;34m\u001b[0m\u001b[0m\n\u001b[1;32m    910\u001b[0m     \"\"\"\n\u001b[0;32m--> 911\u001b[0;31m     y_type, y_true, y_pred, multioutput = _check_reg_targets(\n\u001b[0m\u001b[1;32m    912\u001b[0m         \u001b[0my_true\u001b[0m\u001b[0;34m,\u001b[0m \u001b[0my_pred\u001b[0m\u001b[0;34m,\u001b[0m \u001b[0mmultioutput\u001b[0m\u001b[0;34m\u001b[0m\u001b[0;34m\u001b[0m\u001b[0m\n\u001b[1;32m    913\u001b[0m     )\n",
            "\u001b[0;32m/usr/local/lib/python3.10/dist-packages/sklearn/metrics/_regression.py\u001b[0m in \u001b[0;36m_check_reg_targets\u001b[0;34m(y_true, y_pred, multioutput, dtype)\u001b[0m\n\u001b[1;32m     98\u001b[0m         \u001b[0mcorrect\u001b[0m \u001b[0mkeyword\u001b[0m\u001b[0;34m.\u001b[0m\u001b[0;34m\u001b[0m\u001b[0;34m\u001b[0m\u001b[0m\n\u001b[1;32m     99\u001b[0m     \"\"\"\n\u001b[0;32m--> 100\u001b[0;31m     \u001b[0mcheck_consistent_length\u001b[0m\u001b[0;34m(\u001b[0m\u001b[0my_true\u001b[0m\u001b[0;34m,\u001b[0m \u001b[0my_pred\u001b[0m\u001b[0;34m)\u001b[0m\u001b[0;34m\u001b[0m\u001b[0;34m\u001b[0m\u001b[0m\n\u001b[0m\u001b[1;32m    101\u001b[0m     \u001b[0my_true\u001b[0m \u001b[0;34m=\u001b[0m \u001b[0mcheck_array\u001b[0m\u001b[0;34m(\u001b[0m\u001b[0my_true\u001b[0m\u001b[0;34m,\u001b[0m \u001b[0mensure_2d\u001b[0m\u001b[0;34m=\u001b[0m\u001b[0;32mFalse\u001b[0m\u001b[0;34m,\u001b[0m \u001b[0mdtype\u001b[0m\u001b[0;34m=\u001b[0m\u001b[0mdtype\u001b[0m\u001b[0;34m)\u001b[0m\u001b[0;34m\u001b[0m\u001b[0;34m\u001b[0m\u001b[0m\n\u001b[1;32m    102\u001b[0m     \u001b[0my_pred\u001b[0m \u001b[0;34m=\u001b[0m \u001b[0mcheck_array\u001b[0m\u001b[0;34m(\u001b[0m\u001b[0my_pred\u001b[0m\u001b[0;34m,\u001b[0m \u001b[0mensure_2d\u001b[0m\u001b[0;34m=\u001b[0m\u001b[0;32mFalse\u001b[0m\u001b[0;34m,\u001b[0m \u001b[0mdtype\u001b[0m\u001b[0;34m=\u001b[0m\u001b[0mdtype\u001b[0m\u001b[0;34m)\u001b[0m\u001b[0;34m\u001b[0m\u001b[0;34m\u001b[0m\u001b[0m\n",
            "\u001b[0;32m/usr/local/lib/python3.10/dist-packages/sklearn/utils/validation.py\u001b[0m in \u001b[0;36mcheck_consistent_length\u001b[0;34m(*arrays)\u001b[0m\n\u001b[1;32m    395\u001b[0m     \u001b[0muniques\u001b[0m \u001b[0;34m=\u001b[0m \u001b[0mnp\u001b[0m\u001b[0;34m.\u001b[0m\u001b[0munique\u001b[0m\u001b[0;34m(\u001b[0m\u001b[0mlengths\u001b[0m\u001b[0;34m)\u001b[0m\u001b[0;34m\u001b[0m\u001b[0;34m\u001b[0m\u001b[0m\n\u001b[1;32m    396\u001b[0m     \u001b[0;32mif\u001b[0m \u001b[0mlen\u001b[0m\u001b[0;34m(\u001b[0m\u001b[0muniques\u001b[0m\u001b[0;34m)\u001b[0m \u001b[0;34m>\u001b[0m \u001b[0;36m1\u001b[0m\u001b[0;34m:\u001b[0m\u001b[0;34m\u001b[0m\u001b[0;34m\u001b[0m\u001b[0m\n\u001b[0;32m--> 397\u001b[0;31m         raise ValueError(\n\u001b[0m\u001b[1;32m    398\u001b[0m             \u001b[0;34m\"Found input variables with inconsistent numbers of samples: %r\"\u001b[0m\u001b[0;34m\u001b[0m\u001b[0;34m\u001b[0m\u001b[0m\n\u001b[1;32m    399\u001b[0m             \u001b[0;34m%\u001b[0m \u001b[0;34m[\u001b[0m\u001b[0mint\u001b[0m\u001b[0;34m(\u001b[0m\u001b[0ml\u001b[0m\u001b[0;34m)\u001b[0m \u001b[0;32mfor\u001b[0m \u001b[0ml\u001b[0m \u001b[0;32min\u001b[0m \u001b[0mlengths\u001b[0m\u001b[0;34m]\u001b[0m\u001b[0;34m\u001b[0m\u001b[0;34m\u001b[0m\u001b[0m\n",
            "\u001b[0;31mValueError\u001b[0m: Found input variables with inconsistent numbers of samples: [89, 442]"
          ]
        }
      ],
      "source": [
        "#predict on X_test using function of the class\n"
      ]
    },
    {
      "cell_type": "code",
      "execution_count": 29,
      "id": "84f66db7",
      "metadata": {
        "id": "84f66db7",
        "colab": {
          "base_uri": "https://localhost:8080/"
        },
        "outputId": "9daa35bf-c8ab-4760-9a73-d995226a0b53"
      },
      "outputs": [
        {
          "output_type": "execute_result",
          "data": {
            "text/plain": [
              "0.5322860978921791"
            ]
          },
          "metadata": {},
          "execution_count": 29
        }
      ],
      "source": [
        "#calculate r2_score to verify\n",
        "y_hat_pred = lr.predict(X_test)\n",
        "from sklearn.metrics import r2_score\n",
        "r2_score(y_test,y_pred)"
      ]
    },
    {
      "cell_type": "code",
      "execution_count": null,
      "id": "c8df72af",
      "metadata": {
        "id": "c8df72af"
      },
      "outputs": [],
      "source": []
    }
  ],
  "metadata": {
    "kernelspec": {
      "display_name": "Python 3",
      "language": "python",
      "name": "python3"
    },
    "language_info": {
      "codemirror_mode": {
        "name": "ipython",
        "version": 3
      },
      "file_extension": ".py",
      "mimetype": "text/x-python",
      "name": "python",
      "nbconvert_exporter": "python",
      "pygments_lexer": "ipython3",
      "version": "3.8.8"
    },
    "colab": {
      "provenance": []
    }
  },
  "nbformat": 4,
  "nbformat_minor": 5
}