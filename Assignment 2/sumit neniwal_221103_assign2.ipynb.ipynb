{
  "cells": [
    {
      "cell_type": "markdown",
      "source": [
        "**Fill the Code blocks according to the comments provided as hints**"
      ],
      "metadata": {
        "id": "7Pjuly3ZBDS0"
      },
      "id": "7Pjuly3ZBDS0"
    },
    {
      "cell_type": "code",
      "execution_count": 4,
      "id": "7d78b116",
      "metadata": {
        "id": "7d78b116"
      },
      "outputs": [],
      "source": [
        "from sklearn.datasets import load_diabetes #We will use this dataset\n",
        "\n",
        "#import libraries for numpy, Linear regression, r2_score, train_test_split\n",
        "\n",
        "import numpy as np\n",
        "from sklearn.linear_model import LinearRegression\n",
        "from sklearn.metrics import r2_score\n",
        "from sklearn.model_selection import train_test_split"
      ]
    },
    {
      "cell_type": "code",
      "execution_count": 2,
      "id": "6b46625d",
      "metadata": {
        "id": "6b46625d"
      },
      "outputs": [],
      "source": [
        "X,y = load_diabetes(return_X_y=True)  #loading dataset"
      ]
    },
    {
      "cell_type": "code",
      "execution_count": 5,
      "id": "c2ad6cd1",
      "metadata": {
        "id": "c2ad6cd1",
        "outputId": "9c85646d-96d8-423a-8254-9c94139402e4",
        "colab": {
          "base_uri": "https://localhost:8080/"
        }
      },
      "outputs": [
        {
          "output_type": "stream",
          "name": "stdout",
          "text": [
            "(442, 10)\n",
            "(442,)\n"
          ]
        }
      ],
      "source": [
        "#print shape of X and y and write in a text block what do you observe about both \n",
        "print(X.shape)\n",
        "print(y.shape)\n"
      ]
    },
    {
      "cell_type": "code",
      "execution_count": 7,
      "id": "a70d2eb2",
      "metadata": {
        "id": "a70d2eb2"
      },
      "outputs": [],
      "source": [
        "#split the dataset into Train(80%) and Test(20%)\n",
        "\n",
        "X_train,X_test,y_train,y_test = train_test_split(X,y,test_size=0.2, random_state=12)"
      ]
    },
    {
      "cell_type": "code",
      "execution_count": 11,
      "id": "a8ec5613",
      "metadata": {
        "id": "a8ec5613",
        "outputId": "6890763a-43e0-49fa-f613-bd3484eccde1",
        "colab": {
          "base_uri": "https://localhost:8080/",
          "height": 74
        }
      },
      "outputs": [
        {
          "output_type": "execute_result",
          "data": {
            "text/plain": [
              "LinearRegression()"
            ],
            "text/html": [
              "<style>#sk-container-id-4 {color: black;background-color: white;}#sk-container-id-4 pre{padding: 0;}#sk-container-id-4 div.sk-toggleable {background-color: white;}#sk-container-id-4 label.sk-toggleable__label {cursor: pointer;display: block;width: 100%;margin-bottom: 0;padding: 0.3em;box-sizing: border-box;text-align: center;}#sk-container-id-4 label.sk-toggleable__label-arrow:before {content: \"▸\";float: left;margin-right: 0.25em;color: #696969;}#sk-container-id-4 label.sk-toggleable__label-arrow:hover:before {color: black;}#sk-container-id-4 div.sk-estimator:hover label.sk-toggleable__label-arrow:before {color: black;}#sk-container-id-4 div.sk-toggleable__content {max-height: 0;max-width: 0;overflow: hidden;text-align: left;background-color: #f0f8ff;}#sk-container-id-4 div.sk-toggleable__content pre {margin: 0.2em;color: black;border-radius: 0.25em;background-color: #f0f8ff;}#sk-container-id-4 input.sk-toggleable__control:checked~div.sk-toggleable__content {max-height: 200px;max-width: 100%;overflow: auto;}#sk-container-id-4 input.sk-toggleable__control:checked~label.sk-toggleable__label-arrow:before {content: \"▾\";}#sk-container-id-4 div.sk-estimator input.sk-toggleable__control:checked~label.sk-toggleable__label {background-color: #d4ebff;}#sk-container-id-4 div.sk-label input.sk-toggleable__control:checked~label.sk-toggleable__label {background-color: #d4ebff;}#sk-container-id-4 input.sk-hidden--visually {border: 0;clip: rect(1px 1px 1px 1px);clip: rect(1px, 1px, 1px, 1px);height: 1px;margin: -1px;overflow: hidden;padding: 0;position: absolute;width: 1px;}#sk-container-id-4 div.sk-estimator {font-family: monospace;background-color: #f0f8ff;border: 1px dotted black;border-radius: 0.25em;box-sizing: border-box;margin-bottom: 0.5em;}#sk-container-id-4 div.sk-estimator:hover {background-color: #d4ebff;}#sk-container-id-4 div.sk-parallel-item::after {content: \"\";width: 100%;border-bottom: 1px solid gray;flex-grow: 1;}#sk-container-id-4 div.sk-label:hover label.sk-toggleable__label {background-color: #d4ebff;}#sk-container-id-4 div.sk-serial::before {content: \"\";position: absolute;border-left: 1px solid gray;box-sizing: border-box;top: 0;bottom: 0;left: 50%;z-index: 0;}#sk-container-id-4 div.sk-serial {display: flex;flex-direction: column;align-items: center;background-color: white;padding-right: 0.2em;padding-left: 0.2em;position: relative;}#sk-container-id-4 div.sk-item {position: relative;z-index: 1;}#sk-container-id-4 div.sk-parallel {display: flex;align-items: stretch;justify-content: center;background-color: white;position: relative;}#sk-container-id-4 div.sk-item::before, #sk-container-id-4 div.sk-parallel-item::before {content: \"\";position: absolute;border-left: 1px solid gray;box-sizing: border-box;top: 0;bottom: 0;left: 50%;z-index: -1;}#sk-container-id-4 div.sk-parallel-item {display: flex;flex-direction: column;z-index: 1;position: relative;background-color: white;}#sk-container-id-4 div.sk-parallel-item:first-child::after {align-self: flex-end;width: 50%;}#sk-container-id-4 div.sk-parallel-item:last-child::after {align-self: flex-start;width: 50%;}#sk-container-id-4 div.sk-parallel-item:only-child::after {width: 0;}#sk-container-id-4 div.sk-dashed-wrapped {border: 1px dashed gray;margin: 0 0.4em 0.5em 0.4em;box-sizing: border-box;padding-bottom: 0.4em;background-color: white;}#sk-container-id-4 div.sk-label label {font-family: monospace;font-weight: bold;display: inline-block;line-height: 1.2em;}#sk-container-id-4 div.sk-label-container {text-align: center;}#sk-container-id-4 div.sk-container {/* jupyter's `normalize.less` sets `[hidden] { display: none; }` but bootstrap.min.css set `[hidden] { display: none !important; }` so we also need the `!important` here to be able to override the default hidden behavior on the sphinx rendered scikit-learn.org. See: https://github.com/scikit-learn/scikit-learn/issues/21755 */display: inline-block !important;position: relative;}#sk-container-id-4 div.sk-text-repr-fallback {display: none;}</style><div id=\"sk-container-id-4\" class=\"sk-top-container\"><div class=\"sk-text-repr-fallback\"><pre>LinearRegression()</pre><b>In a Jupyter environment, please rerun this cell to show the HTML representation or trust the notebook. <br />On GitHub, the HTML representation is unable to render, please try loading this page with nbviewer.org.</b></div><div class=\"sk-container\" hidden><div class=\"sk-item\"><div class=\"sk-estimator sk-toggleable\"><input class=\"sk-toggleable__control sk-hidden--visually\" id=\"sk-estimator-id-4\" type=\"checkbox\" checked><label for=\"sk-estimator-id-4\" class=\"sk-toggleable__label sk-toggleable__label-arrow\">LinearRegression</label><div class=\"sk-toggleable__content\"><pre>LinearRegression()</pre></div></div></div></div></div>"
            ]
          },
          "metadata": {},
          "execution_count": 11
        }
      ],
      "source": [
        "#fit X,y in Linear Regression Model of sklearn\n",
        "\n",
        "linear_regression_model = LinearRegression()\n",
        "linear_regression_model.fit(X_train,y_train)\n"
      ]
    },
    {
      "cell_type": "code",
      "execution_count": 12,
      "id": "d3e3934e",
      "metadata": {
        "id": "d3e3934e",
        "outputId": "2cce2cc1-7e25-4731-e828-37f28a888ccf",
        "colab": {
          "base_uri": "https://localhost:8080/"
        }
      },
      "outputs": [
        {
          "output_type": "stream",
          "name": "stdout",
          "text": [
            "[ -53.9271644  -228.97924355  535.29346579  350.36740549 -736.21177951\n",
            "  427.42399227   94.8028264   184.23951707  721.91554934  115.46088346]\n",
            "152.89572568540441\n"
          ]
        }
      ],
      "source": [
        "#print coefficients and intercepts (in @d gradient descent in was only m and b but as it is n dimensional it will have n coefficients and 1 intercept)\n",
        "print(linear_regression_model.coef_)\n",
        "print(linear_regression_model.intercept_)\n"
      ]
    },
    {
      "cell_type": "code",
      "execution_count": 17,
      "id": "d8b0bb30",
      "metadata": {
        "id": "d8b0bb30",
        "outputId": "74f39ee5-d2fe-4ad6-c7ce-154bed432722",
        "colab": {
          "base_uri": "https://localhost:8080/"
        }
      },
      "outputs": [
        {
          "output_type": "stream",
          "name": "stdout",
          "text": [
            "0.3852693902152978\n"
          ]
        }
      ],
      "source": [
        "#predict on X_test and calculate r2_score\n",
        "y_pred = linear_regression_model.predict(X_test)\n",
        "print(r2_score(y_test, y_pred))\n"
      ]
    },
    {
      "cell_type": "code",
      "execution_count": 14,
      "id": "b5f8dc27",
      "metadata": {
        "id": "b5f8dc27",
        "outputId": "a74b1d5b-b915-46db-98d9-acc934f0d90e",
        "colab": {
          "base_uri": "https://localhost:8080/"
        }
      },
      "outputs": [
        {
          "output_type": "execute_result",
          "data": {
            "text/plain": [
              "(353, 10)"
            ]
          },
          "metadata": {},
          "execution_count": 14
        }
      ],
      "source": [
        "#print X_train shape\n",
        "X_train.shape\n"
      ]
    },
    {
      "cell_type": "code",
      "execution_count": 21,
      "id": "777721d5",
      "metadata": {
        "id": "777721d5"
      },
      "outputs": [],
      "source": [
        "#Write GDregressor class\n",
        "class GDRegressor:\n",
        "    \n",
        "    def __init__(self,learning_rate,epochs):\n",
        "        \n",
        "        self.coef_ = None\n",
        "        self.intercept_ = None\n",
        "        self.lr = learning_rate\n",
        "        self.epochs = epochs\n",
        "        \n",
        "    def fit(self,X_train,y_train):\n",
        "       \n",
        "        # init your coefs\n",
        "        self.intercept_ = 0 #initialise the intercept\n",
        "        self.coef_ = np.zeros(X_train.shape[1]) #initialise the array of coefficients according to number of coefficients\n",
        "        for i in range(self.epochs):\n",
        "            # update all the coef and the intercept\n",
        "            y_hat = np.dot(X_train, self.coef_) + self.intercept_ #apply prediction formula i.e. (y_hat = coefficient*X + intercept) in terms of matrices coefficient and X   \n",
        "            intercept_derivative = (1 / len(X_train)) * np.sum(y_hat - y_train)#find derivative matrix \n",
        "                \n",
        "            coef_derivative =  (1 /len(X_train)) * np.dot(X_train.T, (y_hat - y_train))#derivative matrix for all coefficients in a single step\n",
        "          \n",
        "            self.intercept_ -= self.lr * intercept_derivative #update intercept using above intercept_derivative\n",
        "            \n",
        "            self.coef_ -= self.lr * coef_derivative#update intercept using coef_derivative\n",
        "\n",
        "        \n",
        "        #print the coefficients array and the intercept\n",
        "        print(self.coef_, self.intercept_)\n",
        "    \n",
        "    def predict(self,X_test):\n",
        "        return np.dot(X_test, self.coef_) + self.intercept_ #new prediction in the form of (y = coefficients*X + intercept) using\n",
        "\n"
      ]
    },
    {
      "cell_type": "code",
      "execution_count": 22,
      "id": "4ecc1e6f",
      "metadata": {
        "id": "4ecc1e6f"
      },
      "outputs": [],
      "source": [
        "#call GDRegressor by keeping epochs and learning rate according to you and keep changing it for better results\n",
        "linear_regression = GDRegressor(0.001,1000)"
      ]
    },
    {
      "cell_type": "code",
      "execution_count": 24,
      "id": "e7e6aec9",
      "metadata": {
        "id": "e7e6aec9",
        "outputId": "57b73e6a-d9f7-4c56-b770-ce4a67ae7c64",
        "colab": {
          "base_uri": "https://localhost:8080/"
        }
      },
      "outputs": [
        {
          "output_type": "stream",
          "name": "stdout",
          "text": [
            "[ 0.50138287  0.22936708  2.35221177  1.65685865  0.83015114  0.73487985\n",
            " -1.65222592  1.81767375  2.14605324  1.51332084] 96.96660917461298\n"
          ]
        }
      ],
      "source": [
        "#fit X_train, y_train into GDRegressor object using function of the class\n",
        "linear_regression.fit(X_train,y_train)"
      ]
    },
    {
      "cell_type": "code",
      "execution_count": 30,
      "id": "8e5e4410",
      "metadata": {
        "id": "8e5e4410",
        "outputId": "e0c2933e-e2a6-4b3e-e80c-6c46daeedf8c",
        "colab": {
          "base_uri": "https://localhost:8080/"
        }
      },
      "outputs": [
        {
          "output_type": "execute_result",
          "data": {
            "text/plain": [
              "array([97.53535297, 96.64403557, 96.73742194, 96.55550136, 97.20910096,\n",
              "       96.74814972, 96.64591422, 97.08557388, 97.29367886, 97.25827648,\n",
              "       97.36737533, 97.33286768, 96.72882627, 96.5620144 , 96.44806042,\n",
              "       97.45853961, 96.80177845, 96.28872264, 97.36997024, 97.17497491,\n",
              "       96.94722007, 96.29377547, 97.46996259, 97.30277911, 96.97561184,\n",
              "       96.48437338, 97.17609815, 96.84766568, 96.50033721, 96.67528889,\n",
              "       97.31610541, 97.19658763, 96.97803045, 96.73714084, 96.74490369,\n",
              "       96.98588977, 96.52270648, 97.27216339, 97.19244175, 96.85072179,\n",
              "       97.84643922, 97.46305038, 96.93609504, 96.41040668, 97.41970891,\n",
              "       96.67598736, 97.12406083, 96.84356964, 97.29925469, 97.69540359,\n",
              "       96.41668937, 96.75014428, 97.19939925, 96.98237409, 97.25003377,\n",
              "       96.75422578, 96.95822914, 97.63049471, 97.09753859, 97.29913025,\n",
              "       97.63914068, 96.99538933, 96.90297903, 96.44503814, 96.08296964,\n",
              "       96.23854999, 96.84620162, 97.11781799, 96.59446101, 96.9755965 ,\n",
              "       96.70700385, 96.5926132 , 96.85626986, 96.58390219, 97.05106421,\n",
              "       97.12284497, 97.08291061, 96.73414812, 97.19743519, 97.42217157,\n",
              "       97.20140815, 97.09662276, 96.80623915, 96.78947847, 96.81519509,\n",
              "       97.44809113, 97.67589084, 97.14787149, 96.21595746])"
            ]
          },
          "metadata": {},
          "execution_count": 30
        }
      ],
      "source": [
        "#predict on X_test using function of the class\n",
        "y_pred  = linear_regression.predict(X_test)\n",
        "y_pred"
      ]
    },
    {
      "cell_type": "code",
      "execution_count": 31,
      "id": "84f66db7",
      "metadata": {
        "id": "84f66db7",
        "outputId": "f0166d6b-0d97-460f-c3f4-08d80f9f7f83",
        "colab": {
          "base_uri": "https://localhost:8080/"
        }
      },
      "outputs": [
        {
          "output_type": "execute_result",
          "data": {
            "text/plain": [
              "-0.4954321672207491"
            ]
          },
          "metadata": {},
          "execution_count": 31
        }
      ],
      "source": [
        "#calculate r2_score to verify\n",
        "r2_score(y_test,y_pred)\n"
      ]
    },
    {
      "cell_type": "code",
      "execution_count": null,
      "id": "c8df72af",
      "metadata": {
        "id": "c8df72af"
      },
      "outputs": [],
      "source": []
    }
  ],
  "metadata": {
    "kernelspec": {
      "display_name": "Python 3",
      "language": "python",
      "name": "python3"
    },
    "language_info": {
      "codemirror_mode": {
        "name": "ipython",
        "version": 3
      },
      "file_extension": ".py",
      "mimetype": "text/x-python",
      "name": "python",
      "nbconvert_exporter": "python",
      "pygments_lexer": "ipython3",
      "version": "3.8.8"
    },
    "colab": {
      "provenance": []
    }
  },
  "nbformat": 4,
  "nbformat_minor": 5
}