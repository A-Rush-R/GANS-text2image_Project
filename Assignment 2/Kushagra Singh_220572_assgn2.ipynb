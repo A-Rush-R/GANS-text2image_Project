{
  "cells": [
    {
      "cell_type": "markdown",
      "source": [
        "**Fill the Code blocks according to the comments provided as hints**"
      ],
      "metadata": {
        "id": "7Pjuly3ZBDS0"
      },
      "id": "7Pjuly3ZBDS0"
    },
    {
      "cell_type": "code",
      "execution_count": 1,
      "id": "7d78b116",
      "metadata": {
        "id": "7d78b116"
      },
      "outputs": [],
      "source": [
        "from sklearn.datasets import load_diabetes #We will use this dataset\n",
        "\n",
        "#import libraries for numpy, Linear regression, r2_score, train_test_split\n",
        "import numpy as np\n",
        "from sklearn.linear_model import LinearRegression\n",
        "from sklearn.metrics import r2_score\n",
        "from sklearn.model_selection import train_test_split"
      ]
    },
    {
      "cell_type": "code",
      "execution_count": 2,
      "id": "6b46625d",
      "metadata": {
        "id": "6b46625d"
      },
      "outputs": [],
      "source": [
        "X,y = load_diabetes(return_X_y=True)  #loading dataset"
      ]
    },
    {
      "cell_type": "code",
      "execution_count": 3,
      "id": "c2ad6cd1",
      "metadata": {
        "id": "c2ad6cd1",
        "outputId": "998643a5-3f31-482b-b161-0e8d78a2da91",
        "colab": {
          "base_uri": "https://localhost:8080/"
        }
      },
      "outputs": [
        {
          "output_type": "stream",
          "name": "stdout",
          "text": [
            "(442, 10)\n",
            "(442,)\n"
          ]
        }
      ],
      "source": [
        "#print shape of X and y and write in a text block what do you observe about both \n",
        "print(X.shape)\n",
        "print(y.shape)"
      ]
    },
    {
      "cell_type": "markdown",
      "source": [
        "X is a 2d array and the given dataset has 10 features whereas y is a 1d array\n"
      ],
      "metadata": {
        "id": "rJzMXO7WOUXc"
      },
      "id": "rJzMXO7WOUXc"
    },
    {
      "cell_type": "code",
      "execution_count": 4,
      "id": "a70d2eb2",
      "metadata": {
        "id": "a70d2eb2"
      },
      "outputs": [],
      "source": [
        "#split the dataset into Train(80%) and Test(20%)\n",
        "\n",
        "X_train,X_test,y_train,y_test = train_test_split(X,y,test_size=0.2)"
      ]
    },
    {
      "cell_type": "code",
      "execution_count": 5,
      "id": "a8ec5613",
      "metadata": {
        "id": "a8ec5613",
        "outputId": "f2a886f3-23fa-4ee6-9066-a79b0db44186",
        "colab": {
          "base_uri": "https://localhost:8080/",
          "height": 74
        }
      },
      "outputs": [
        {
          "output_type": "execute_result",
          "data": {
            "text/plain": [
              "LinearRegression()"
            ],
            "text/html": [
              "<style>#sk-container-id-1 {color: black;background-color: white;}#sk-container-id-1 pre{padding: 0;}#sk-container-id-1 div.sk-toggleable {background-color: white;}#sk-container-id-1 label.sk-toggleable__label {cursor: pointer;display: block;width: 100%;margin-bottom: 0;padding: 0.3em;box-sizing: border-box;text-align: center;}#sk-container-id-1 label.sk-toggleable__label-arrow:before {content: \"▸\";float: left;margin-right: 0.25em;color: #696969;}#sk-container-id-1 label.sk-toggleable__label-arrow:hover:before {color: black;}#sk-container-id-1 div.sk-estimator:hover label.sk-toggleable__label-arrow:before {color: black;}#sk-container-id-1 div.sk-toggleable__content {max-height: 0;max-width: 0;overflow: hidden;text-align: left;background-color: #f0f8ff;}#sk-container-id-1 div.sk-toggleable__content pre {margin: 0.2em;color: black;border-radius: 0.25em;background-color: #f0f8ff;}#sk-container-id-1 input.sk-toggleable__control:checked~div.sk-toggleable__content {max-height: 200px;max-width: 100%;overflow: auto;}#sk-container-id-1 input.sk-toggleable__control:checked~label.sk-toggleable__label-arrow:before {content: \"▾\";}#sk-container-id-1 div.sk-estimator input.sk-toggleable__control:checked~label.sk-toggleable__label {background-color: #d4ebff;}#sk-container-id-1 div.sk-label input.sk-toggleable__control:checked~label.sk-toggleable__label {background-color: #d4ebff;}#sk-container-id-1 input.sk-hidden--visually {border: 0;clip: rect(1px 1px 1px 1px);clip: rect(1px, 1px, 1px, 1px);height: 1px;margin: -1px;overflow: hidden;padding: 0;position: absolute;width: 1px;}#sk-container-id-1 div.sk-estimator {font-family: monospace;background-color: #f0f8ff;border: 1px dotted black;border-radius: 0.25em;box-sizing: border-box;margin-bottom: 0.5em;}#sk-container-id-1 div.sk-estimator:hover {background-color: #d4ebff;}#sk-container-id-1 div.sk-parallel-item::after {content: \"\";width: 100%;border-bottom: 1px solid gray;flex-grow: 1;}#sk-container-id-1 div.sk-label:hover label.sk-toggleable__label {background-color: #d4ebff;}#sk-container-id-1 div.sk-serial::before {content: \"\";position: absolute;border-left: 1px solid gray;box-sizing: border-box;top: 0;bottom: 0;left: 50%;z-index: 0;}#sk-container-id-1 div.sk-serial {display: flex;flex-direction: column;align-items: center;background-color: white;padding-right: 0.2em;padding-left: 0.2em;position: relative;}#sk-container-id-1 div.sk-item {position: relative;z-index: 1;}#sk-container-id-1 div.sk-parallel {display: flex;align-items: stretch;justify-content: center;background-color: white;position: relative;}#sk-container-id-1 div.sk-item::before, #sk-container-id-1 div.sk-parallel-item::before {content: \"\";position: absolute;border-left: 1px solid gray;box-sizing: border-box;top: 0;bottom: 0;left: 50%;z-index: -1;}#sk-container-id-1 div.sk-parallel-item {display: flex;flex-direction: column;z-index: 1;position: relative;background-color: white;}#sk-container-id-1 div.sk-parallel-item:first-child::after {align-self: flex-end;width: 50%;}#sk-container-id-1 div.sk-parallel-item:last-child::after {align-self: flex-start;width: 50%;}#sk-container-id-1 div.sk-parallel-item:only-child::after {width: 0;}#sk-container-id-1 div.sk-dashed-wrapped {border: 1px dashed gray;margin: 0 0.4em 0.5em 0.4em;box-sizing: border-box;padding-bottom: 0.4em;background-color: white;}#sk-container-id-1 div.sk-label label {font-family: monospace;font-weight: bold;display: inline-block;line-height: 1.2em;}#sk-container-id-1 div.sk-label-container {text-align: center;}#sk-container-id-1 div.sk-container {/* jupyter's `normalize.less` sets `[hidden] { display: none; }` but bootstrap.min.css set `[hidden] { display: none !important; }` so we also need the `!important` here to be able to override the default hidden behavior on the sphinx rendered scikit-learn.org. See: https://github.com/scikit-learn/scikit-learn/issues/21755 */display: inline-block !important;position: relative;}#sk-container-id-1 div.sk-text-repr-fallback {display: none;}</style><div id=\"sk-container-id-1\" class=\"sk-top-container\"><div class=\"sk-text-repr-fallback\"><pre>LinearRegression()</pre><b>In a Jupyter environment, please rerun this cell to show the HTML representation or trust the notebook. <br />On GitHub, the HTML representation is unable to render, please try loading this page with nbviewer.org.</b></div><div class=\"sk-container\" hidden><div class=\"sk-item\"><div class=\"sk-estimator sk-toggleable\"><input class=\"sk-toggleable__control sk-hidden--visually\" id=\"sk-estimator-id-1\" type=\"checkbox\" checked><label for=\"sk-estimator-id-1\" class=\"sk-toggleable__label sk-toggleable__label-arrow\">LinearRegression</label><div class=\"sk-toggleable__content\"><pre>LinearRegression()</pre></div></div></div></div></div>"
            ]
          },
          "metadata": {},
          "execution_count": 5
        }
      ],
      "source": [
        "#fit X,y in Linear Regression Model of sklearn\n",
        "lr = LinearRegression()\n",
        "lr.fit(X_train,y_train)\n",
        "\n"
      ]
    },
    {
      "cell_type": "code",
      "execution_count": 6,
      "id": "d3e3934e",
      "metadata": {
        "id": "d3e3934e",
        "outputId": "151e4dd3-5059-40f8-b3f7-f147b2fedb55",
        "colab": {
          "base_uri": "https://localhost:8080/"
        }
      },
      "outputs": [
        {
          "output_type": "stream",
          "name": "stdout",
          "text": [
            "[  74.2488498  -226.65063305  509.81234152  319.82272177 -573.86583604\n",
            "  361.64704592  -65.29182601   25.78779514  694.75297479   73.66930742]\n",
            "152.2582415374315\n"
          ]
        }
      ],
      "source": [
        "#print coefficients and intercepts (in @d gradient descent in was only m and b but as it is n dimensional it will have n coefficients and 1 intercept)\n",
        "print(lr.coef_)\n",
        "print(lr.intercept_)\n"
      ]
    },
    {
      "cell_type": "code",
      "execution_count": 7,
      "id": "d8b0bb30",
      "metadata": {
        "id": "d8b0bb30",
        "outputId": "7b3f446b-2bd0-4b69-9332-4dda151d17d1",
        "colab": {
          "base_uri": "https://localhost:8080/"
        }
      },
      "outputs": [
        {
          "output_type": "execute_result",
          "data": {
            "text/plain": [
              "0.5063076110796105"
            ]
          },
          "metadata": {},
          "execution_count": 7
        }
      ],
      "source": [
        "#predict on X_test and calculate r2_score\n",
        "y_pred = lr.predict(X_test)\n",
        "r2_score(y_test,y_pred)\n"
      ]
    },
    {
      "cell_type": "code",
      "execution_count": 8,
      "id": "b5f8dc27",
      "metadata": {
        "id": "b5f8dc27",
        "outputId": "46619bc1-7fbd-43e8-bb50-385f81f3c53b",
        "colab": {
          "base_uri": "https://localhost:8080/"
        }
      },
      "outputs": [
        {
          "output_type": "execute_result",
          "data": {
            "text/plain": [
              "(353, 10)"
            ]
          },
          "metadata": {},
          "execution_count": 8
        }
      ],
      "source": [
        "#print X_train shape\n",
        "X_train.shape"
      ]
    },
    {
      "cell_type": "code",
      "execution_count": 9,
      "id": "777721d5",
      "metadata": {
        "id": "777721d5"
      },
      "outputs": [],
      "source": [
        "#Write GDregressor class\n",
        "\n",
        "\n",
        "class GDRegressor:\n",
        "    \n",
        "    def __init__(self,learning_rate,epochs):\n",
        "        \n",
        "        self.coef_ = None\n",
        "        self.intercept_ = None\n",
        "        self.lr = learning_rate\n",
        "        self.epochs = epochs\n",
        "        \n",
        "    def fit(self,X_train,y_train):\n",
        "        # init your coefs\n",
        "        self.intercept_ = 0 #initialise the intercept\n",
        "        self.coef_ = np.array([0,1,2,3,4,5,6,7,8,9]).reshape(10,1)#initialise the array of coefficients according to number of coefficients\n",
        "        m = len(X_train)\n",
        "        for i in range(self.epochs):\n",
        "            # update all the coef and the intercept\n",
        "            y_hat = X_train.dot(self.coef_)+self.intercept_#apply prediction formula i.e. (y_hat = coefficient*X + intercept) in terms of matrices coefficient and X   \n",
        "            intercept_derivative =  2/m*np.sum(y_hat-y_train.reshape(353,1))#find derivative matrix \n",
        "            self.intercept_ = self.intercept_ - self.lr*intercept_derivative#update intercept using above intercept_derivative\n",
        "            \n",
        "            coef_derivative = 2/m*((y_hat-y_train.reshape(353,1)).T.dot(X_train)).T#derivative matrix for all coefficients in a single step\n",
        "            self.coef_ =self.coef_ - self.lr*coef_derivative #update intercept using coef_derivative\n",
        "        print(self.intercept_,self.coef_) \n",
        "        #print the coefficients array and the intercept\n",
        "    \n",
        "    def predict(self,X_test):\n",
        "        return X_test.dot(self.coef_)+self.intercept_#new prediction in the form of (y = coefficients*X + intercept) using matrices"
      ]
    },
    {
      "cell_type": "code",
      "execution_count": 10,
      "id": "4ecc1e6f",
      "metadata": {
        "id": "4ecc1e6f"
      },
      "outputs": [],
      "source": [
        "#call GDRegressor by keeping epochs and learning rate according to you and keep changing it for better results\n",
        "gd = GDRegressor(0.1,1000000)"
      ]
    },
    {
      "cell_type": "code",
      "execution_count": 11,
      "id": "e7e6aec9",
      "metadata": {
        "id": "e7e6aec9",
        "outputId": "728302e0-7bc2-46dd-da84-43786943d752",
        "colab": {
          "base_uri": "https://localhost:8080/"
        }
      },
      "outputs": [
        {
          "output_type": "stream",
          "name": "stdout",
          "text": [
            "152.2578896830822 [[  74.26523284]\n",
            " [-226.63035279]\n",
            " [ 510.02465516]\n",
            " [ 319.77130755]\n",
            " [-562.55722578]\n",
            " [ 352.67028705]\n",
            " [ -70.48431788]\n",
            " [  24.28188951]\n",
            " [ 690.50507249]\n",
            " [  73.70684018]]\n"
          ]
        }
      ],
      "source": [
        "#fit X_train, y_train into GDRegressor object using function of the class\n",
        "gd.fit(X_train,y_train)"
      ]
    },
    {
      "cell_type": "code",
      "execution_count": 12,
      "id": "8e5e4410",
      "metadata": {
        "id": "8e5e4410"
      },
      "outputs": [],
      "source": [
        "#predict on X_test using function of the class\n",
        "y_pred = gd.predict(X_test)"
      ]
    },
    {
      "cell_type": "code",
      "execution_count": 13,
      "id": "84f66db7",
      "metadata": {
        "id": "84f66db7",
        "outputId": "f1a9e20d-c6d3-4423-e7b0-031a7ba32a0a",
        "colab": {
          "base_uri": "https://localhost:8080/"
        }
      },
      "outputs": [
        {
          "output_type": "execute_result",
          "data": {
            "text/plain": [
              "0.5061604498488965"
            ]
          },
          "metadata": {},
          "execution_count": 13
        }
      ],
      "source": [
        "#calculate r2_score to verify\n",
        "r2_score(y_test,y_pred)"
      ]
    },
    {
      "cell_type": "code",
      "execution_count": 13,
      "id": "c8df72af",
      "metadata": {
        "id": "c8df72af"
      },
      "outputs": [],
      "source": []
    }
  ],
  "metadata": {
    "kernelspec": {
      "display_name": "Python 3",
      "language": "python",
      "name": "python3"
    },
    "language_info": {
      "codemirror_mode": {
        "name": "ipython",
        "version": 3
      },
      "file_extension": ".py",
      "mimetype": "text/x-python",
      "name": "python",
      "nbconvert_exporter": "python",
      "pygments_lexer": "ipython3",
      "version": "3.8.8"
    },
    "colab": {
      "provenance": []
    }
  },
  "nbformat": 4,
  "nbformat_minor": 5
}