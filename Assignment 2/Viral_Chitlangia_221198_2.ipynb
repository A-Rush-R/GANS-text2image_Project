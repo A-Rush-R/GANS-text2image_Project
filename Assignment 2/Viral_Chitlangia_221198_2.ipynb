{
  "cells": [
    {
      "cell_type": "markdown",
      "source": [
        "**Fill the Code blocks according to the comments provided as hints**"
      ],
      "metadata": {
        "id": "7Pjuly3ZBDS0"
      },
      "id": "7Pjuly3ZBDS0"
    },
    {
      "cell_type": "code",
      "execution_count": 16,
      "id": "7d78b116",
      "metadata": {
        "id": "7d78b116"
      },
      "outputs": [],
      "source": [
        "import sklearn\n",
        "from sklearn import datasets, linear_model\n",
        "from sklearn.datasets import load_diabetes #We will use this dataset\n",
        "import numpy as np\n",
        "from sklearn import preprocessing, svm\n",
        "from sklearn.model_selection import train_test_split\n",
        "from sklearn.linear_model import LinearRegression\n",
        "from sklearn.datasets import make_regression\n",
        "from sklearn.metrics import r2_score\n",
        "#import libraries for numpy, Linear regression, r2_score, train_test_split"
      ]
    },
    {
      "cell_type": "code",
      "execution_count": 3,
      "id": "6b46625d",
      "metadata": {
        "id": "6b46625d"
      },
      "outputs": [],
      "source": [
        "X,y = load_diabetes(return_X_y=True)  #loading dataset"
      ]
    },
    {
      "cell_type": "code",
      "execution_count": 4,
      "id": "c2ad6cd1",
      "metadata": {
        "id": "c2ad6cd1",
        "colab": {
          "base_uri": "https://localhost:8080/"
        },
        "outputId": "80998bf8-ff80-4c21-8496-7f922a8cc9d4"
      },
      "outputs": [
        {
          "output_type": "stream",
          "name": "stdout",
          "text": [
            "(442, 10)\n",
            "(442,)\n"
          ]
        }
      ],
      "source": [
        "#print shape of X and y and write in a text block what do you observe about both \n",
        "print(X.shape)\n",
        "print(y.shape)"
      ]
    },
    {
      "cell_type": "code",
      "execution_count": 5,
      "id": "a70d2eb2",
      "metadata": {
        "id": "a70d2eb2"
      },
      "outputs": [],
      "source": [
        "#split the dataset into Train(80%) and Test(20%)\n",
        "X_train, X_test, y_train, y_test = train_test_split(X, y, test_size=0.2)"
      ]
    },
    {
      "cell_type": "code",
      "execution_count": 6,
      "id": "a8ec5613",
      "metadata": {
        "id": "a8ec5613",
        "colab": {
          "base_uri": "https://localhost:8080/"
        },
        "outputId": "8cf997af-6b83-4a85-d20d-80f4b0ac3bea"
      },
      "outputs": [
        {
          "output_type": "stream",
          "name": "stdout",
          "text": [
            "0.4497213983830006\n"
          ]
        }
      ],
      "source": [
        "#fit X,y in Linear Regression Model of sklearn\n",
        "regr = LinearRegression()\n",
        "regr.fit(X_train, y_train)"
      ]
    },
    {
      "cell_type": "code",
      "execution_count": 29,
      "id": "d3e3934e",
      "metadata": {
        "id": "d3e3934e",
        "colab": {
          "base_uri": "https://localhost:8080/"
        },
        "outputId": "f1f3db4d-bb2d-4ddb-e23f-79cd5aee8c19"
      },
      "outputs": [
        {
          "output_type": "stream",
          "name": "stdout",
          "text": [
            "[ -38.02755918 -263.04339431  503.24932721  361.12259157 -619.59084937\n",
            "  364.12324062   -1.62843429  121.16332339  700.42532652  100.99085167]\n",
            "153.49833894797496\n"
          ]
        }
      ],
      "source": [
        "#print coefficients and intercepts (in @d gradient descent in was only m and b but as it is n dimensional it will have n coefficients and 1 intercept)\n",
        "weights = regr.coef_\n",
        "intercept = regr.intercept_\n",
        "print(weights)\n",
        "print(intercept)"
      ]
    },
    {
      "cell_type": "code",
      "execution_count": 30,
      "id": "d8b0bb30",
      "metadata": {
        "id": "d8b0bb30",
        "colab": {
          "base_uri": "https://localhost:8080/"
        },
        "outputId": "b758c3e2-a1d2-4552-80f4-d076ee3c8a36"
      },
      "outputs": [
        {
          "output_type": "execute_result",
          "data": {
            "text/plain": [
              "0.4497213983830006"
            ]
          },
          "metadata": {},
          "execution_count": 30
        }
      ],
      "source": [
        "#predict on X_test and calculate r2_score\n",
        "y_pred = []\n",
        "for i in range(0, len(X_test)):\n",
        "  sum = intercept\n",
        "  for j in range(0, len(weights)):\n",
        "    sum += X_test[i][j] * weights[j]\n",
        "  y_pred.append(sum)\n",
        "\n",
        "\n",
        "sklearn.metrics.r2_score(y_test, y_pred)\n"
      ]
    },
    {
      "cell_type": "code",
      "execution_count": 24,
      "id": "b5f8dc27",
      "metadata": {
        "id": "b5f8dc27",
        "colab": {
          "base_uri": "https://localhost:8080/"
        },
        "outputId": "38b6e404-a79b-4d4d-bee3-487652efc408"
      },
      "outputs": [
        {
          "output_type": "stream",
          "name": "stdout",
          "text": [
            "(353, 10)\n"
          ]
        }
      ],
      "source": [
        "#print X_train shape\n",
        "print(X_train.shape)"
      ]
    },
    {
      "cell_type": "code",
      "execution_count": null,
      "id": "777721d5",
      "metadata": {
        "id": "777721d5"
      },
      "outputs": [],
      "source": [
        "#Write GDregressor class\n",
        "\n",
        "\n",
        "class GDRegressor:\n",
        "    \n",
        "    def __init__(self,learning_rate,epochs):\n",
        "        \n",
        "        self.coef_ = None\n",
        "        self.intercept_ = None\n",
        "        self.lr = learning_rate\n",
        "        self.epochs = epochs\n",
        "        \n",
        "    def fit(self,X_train,y_train):\n",
        "        # init your coefs\n",
        "        self.intercept_ = intercept\n",
        "        self.coef_ = weights\n",
        "        X = np.array(X_train)\n",
        "        Y = np.array(y_train)\n",
        "        a = []\n",
        "        for i in range(0, len(y_train)):\n",
        "          a.append(intercept)\n",
        "        b = np.array(a)\n",
        "        for i in range(self.epochs):\n",
        "            # update all the coef and the intercept\n",
        "            #apply prediction formula i.e. (y_hat = coefficient*X + intercept) in terms of matrices coefficient and X   \n",
        "            y_hat = np.matmul(weights, X) + b\n",
        "            intercept_derivative = #find derivative matrix \n",
        "            #update intercept using above intercept_derivative\n",
        "            self.intercept = intercept - learning_rate * intercept_derivitive\n",
        "            \n",
        "            coef_derivative = #derivative matrix for all coefficients in a single step\n",
        "            self.coef_ = #update intercept using coef_derivative\n",
        "        \n",
        "        #print the coefficients array and the intercept\n",
        "    \n",
        "    def predict(self,X_test):\n",
        "        return #new prediction in the form of (y = coefficients*X + intercept) using matrices"
      ]
    },
    {
      "cell_type": "code",
      "execution_count": null,
      "id": "4ecc1e6f",
      "metadata": {
        "id": "4ecc1e6f"
      },
      "outputs": [],
      "source": [
        "#call GDRegressor by keeping epochs and learning rate according to you and keep changing it for better results\n"
      ]
    },
    {
      "cell_type": "code",
      "execution_count": null,
      "id": "e7e6aec9",
      "metadata": {
        "id": "e7e6aec9"
      },
      "outputs": [],
      "source": [
        "#fit X_train, y_train into GDRegressor object using function of the class\n"
      ]
    },
    {
      "cell_type": "code",
      "execution_count": null,
      "id": "8e5e4410",
      "metadata": {
        "id": "8e5e4410"
      },
      "outputs": [],
      "source": [
        "#predict on X_test using function of the class\n"
      ]
    },
    {
      "cell_type": "code",
      "execution_count": null,
      "id": "84f66db7",
      "metadata": {
        "id": "84f66db7"
      },
      "outputs": [],
      "source": [
        "#calculate r2_score to verify\n"
      ]
    },
    {
      "cell_type": "code",
      "execution_count": null,
      "id": "c8df72af",
      "metadata": {
        "id": "c8df72af"
      },
      "outputs": [],
      "source": []
    }
  ],
  "metadata": {
    "kernelspec": {
      "display_name": "Python 3",
      "language": "python",
      "name": "python3"
    },
    "language_info": {
      "codemirror_mode": {
        "name": "ipython",
        "version": 3
      },
      "file_extension": ".py",
      "mimetype": "text/x-python",
      "name": "python",
      "nbconvert_exporter": "python",
      "pygments_lexer": "ipython3",
      "version": "3.8.8"
    },
    "colab": {
      "provenance": []
    }
  },
  "nbformat": 4,
  "nbformat_minor": 5
}