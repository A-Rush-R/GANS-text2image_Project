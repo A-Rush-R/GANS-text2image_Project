{
  "cells": [
    {
      "cell_type": "markdown",
      "source": [
        "**Fill the Code blocks according to the comments provided as hints**"
      ],
      "metadata": {
        "id": "7Pjuly3ZBDS0"
      },
      "id": "7Pjuly3ZBDS0"
    },
    {
      "cell_type": "code",
      "execution_count": null,
      "id": "7d78b116",
      "metadata": {
        "id": "7d78b116"
      },
      "outputs": [],
      "source": [
        "from sklearn.datasets import load_diabetes #We will use this dataset\n",
        "\n",
        "#import libraries for numpy, Linear regression, r2_score, train_test_split\n",
        "import numpy as np \n",
        "from sklearn.metrics import r2_score\n",
        "from sklearn.model_selection import train_test_split\n",
        "from sklearn.linear_model import LinearRegression"
      ]
    },
    {
      "cell_type": "code",
      "execution_count": null,
      "id": "6b46625d",
      "metadata": {
        "id": "6b46625d"
      },
      "outputs": [],
      "source": [
        "X,y = load_diabetes(return_X_y=True)  #loading dataset"
      ]
    },
    {
      "cell_type": "code",
      "execution_count": null,
      "id": "c2ad6cd1",
      "metadata": {
        "id": "c2ad6cd1",
        "colab": {
          "base_uri": "https://localhost:8080/"
        },
        "outputId": "a123131a-cf39-41a2-b769-7f5ed027e889"
      },
      "outputs": [
        {
          "output_type": "stream",
          "name": "stdout",
          "text": [
            "(442, 10)\n",
            "(442,)\n"
          ]
        }
      ],
      "source": [
        "#print shape of X and y and write in a text block what do you observe about both \n",
        "print(X.shape)\n",
        "print(y.shape)\n",
        "\n"
      ]
    },
    {
      "cell_type": "code",
      "execution_count": null,
      "id": "a70d2eb2",
      "metadata": {
        "id": "a70d2eb2"
      },
      "outputs": [],
      "source": [
        "#split the dataset into Train(80%) and Test(20%)\n",
        "\n",
        "X_train , X_test , y_train , y_test = train_test_split(X, y , test_size = 0.2 , random_state = 1234)"
      ]
    },
    {
      "cell_type": "code",
      "execution_count": null,
      "id": "a8ec5613",
      "metadata": {
        "id": "a8ec5613",
        "colab": {
          "base_uri": "https://localhost:8080/",
          "height": 74
        },
        "outputId": "00e69161-1593-4c09-da82-a20d453517a4"
      },
      "outputs": [
        {
          "output_type": "execute_result",
          "data": {
            "text/plain": [
              "LinearRegression()"
            ],
            "text/html": [
              "<style>#sk-container-id-3 {color: black;background-color: white;}#sk-container-id-3 pre{padding: 0;}#sk-container-id-3 div.sk-toggleable {background-color: white;}#sk-container-id-3 label.sk-toggleable__label {cursor: pointer;display: block;width: 100%;margin-bottom: 0;padding: 0.3em;box-sizing: border-box;text-align: center;}#sk-container-id-3 label.sk-toggleable__label-arrow:before {content: \"▸\";float: left;margin-right: 0.25em;color: #696969;}#sk-container-id-3 label.sk-toggleable__label-arrow:hover:before {color: black;}#sk-container-id-3 div.sk-estimator:hover label.sk-toggleable__label-arrow:before {color: black;}#sk-container-id-3 div.sk-toggleable__content {max-height: 0;max-width: 0;overflow: hidden;text-align: left;background-color: #f0f8ff;}#sk-container-id-3 div.sk-toggleable__content pre {margin: 0.2em;color: black;border-radius: 0.25em;background-color: #f0f8ff;}#sk-container-id-3 input.sk-toggleable__control:checked~div.sk-toggleable__content {max-height: 200px;max-width: 100%;overflow: auto;}#sk-container-id-3 input.sk-toggleable__control:checked~label.sk-toggleable__label-arrow:before {content: \"▾\";}#sk-container-id-3 div.sk-estimator input.sk-toggleable__control:checked~label.sk-toggleable__label {background-color: #d4ebff;}#sk-container-id-3 div.sk-label input.sk-toggleable__control:checked~label.sk-toggleable__label {background-color: #d4ebff;}#sk-container-id-3 input.sk-hidden--visually {border: 0;clip: rect(1px 1px 1px 1px);clip: rect(1px, 1px, 1px, 1px);height: 1px;margin: -1px;overflow: hidden;padding: 0;position: absolute;width: 1px;}#sk-container-id-3 div.sk-estimator {font-family: monospace;background-color: #f0f8ff;border: 1px dotted black;border-radius: 0.25em;box-sizing: border-box;margin-bottom: 0.5em;}#sk-container-id-3 div.sk-estimator:hover {background-color: #d4ebff;}#sk-container-id-3 div.sk-parallel-item::after {content: \"\";width: 100%;border-bottom: 1px solid gray;flex-grow: 1;}#sk-container-id-3 div.sk-label:hover label.sk-toggleable__label {background-color: #d4ebff;}#sk-container-id-3 div.sk-serial::before {content: \"\";position: absolute;border-left: 1px solid gray;box-sizing: border-box;top: 0;bottom: 0;left: 50%;z-index: 0;}#sk-container-id-3 div.sk-serial {display: flex;flex-direction: column;align-items: center;background-color: white;padding-right: 0.2em;padding-left: 0.2em;position: relative;}#sk-container-id-3 div.sk-item {position: relative;z-index: 1;}#sk-container-id-3 div.sk-parallel {display: flex;align-items: stretch;justify-content: center;background-color: white;position: relative;}#sk-container-id-3 div.sk-item::before, #sk-container-id-3 div.sk-parallel-item::before {content: \"\";position: absolute;border-left: 1px solid gray;box-sizing: border-box;top: 0;bottom: 0;left: 50%;z-index: -1;}#sk-container-id-3 div.sk-parallel-item {display: flex;flex-direction: column;z-index: 1;position: relative;background-color: white;}#sk-container-id-3 div.sk-parallel-item:first-child::after {align-self: flex-end;width: 50%;}#sk-container-id-3 div.sk-parallel-item:last-child::after {align-self: flex-start;width: 50%;}#sk-container-id-3 div.sk-parallel-item:only-child::after {width: 0;}#sk-container-id-3 div.sk-dashed-wrapped {border: 1px dashed gray;margin: 0 0.4em 0.5em 0.4em;box-sizing: border-box;padding-bottom: 0.4em;background-color: white;}#sk-container-id-3 div.sk-label label {font-family: monospace;font-weight: bold;display: inline-block;line-height: 1.2em;}#sk-container-id-3 div.sk-label-container {text-align: center;}#sk-container-id-3 div.sk-container {/* jupyter's `normalize.less` sets `[hidden] { display: none; }` but bootstrap.min.css set `[hidden] { display: none !important; }` so we also need the `!important` here to be able to override the default hidden behavior on the sphinx rendered scikit-learn.org. See: https://github.com/scikit-learn/scikit-learn/issues/21755 */display: inline-block !important;position: relative;}#sk-container-id-3 div.sk-text-repr-fallback {display: none;}</style><div id=\"sk-container-id-3\" class=\"sk-top-container\"><div class=\"sk-text-repr-fallback\"><pre>LinearRegression()</pre><b>In a Jupyter environment, please rerun this cell to show the HTML representation or trust the notebook. <br />On GitHub, the HTML representation is unable to render, please try loading this page with nbviewer.org.</b></div><div class=\"sk-container\" hidden><div class=\"sk-item\"><div class=\"sk-estimator sk-toggleable\"><input class=\"sk-toggleable__control sk-hidden--visually\" id=\"sk-estimator-id-3\" type=\"checkbox\" checked><label for=\"sk-estimator-id-3\" class=\"sk-toggleable__label sk-toggleable__label-arrow\">LinearRegression</label><div class=\"sk-toggleable__content\"><pre>LinearRegression()</pre></div></div></div></div></div>"
            ]
          },
          "metadata": {},
          "execution_count": 72
        }
      ],
      "source": [
        "#fit X,y in Linear Regression Model of sklearn\n",
        "\n",
        "model = LinearRegression()\n",
        "model.fit(X_train , y_train)\n",
        "\n"
      ]
    },
    {
      "cell_type": "code",
      "execution_count": null,
      "id": "d3e3934e",
      "metadata": {
        "id": "d3e3934e",
        "colab": {
          "base_uri": "https://localhost:8080/"
        },
        "outputId": "8a2bb912-06e4-46b3-e64e-2fc32115b503"
      },
      "outputs": [
        {
          "output_type": "stream",
          "name": "stdout",
          "text": [
            "[  -43.4525234   -280.55506692   528.9876719    346.49141918\n",
            " -1032.27988248   661.53855915   241.06750938   240.52524663\n",
            "   798.23988927   123.17190469]\n",
            "153.47966729223967\n"
          ]
        }
      ],
      "source": [
        "#print coefficients and intercepts (in @d gradient descent in was only m and b but as it is n dimensional it will have n coefficients and 1 intercept)\n",
        "print(model.coef_)\n",
        "print(model.intercept_)\n"
      ]
    },
    {
      "cell_type": "code",
      "execution_count": null,
      "id": "d8b0bb30",
      "metadata": {
        "id": "d8b0bb30",
        "colab": {
          "base_uri": "https://localhost:8080/"
        },
        "outputId": "d5118d5c-b2c4-4b17-83bf-97aec34be0f5"
      },
      "outputs": [
        {
          "output_type": "stream",
          "name": "stdout",
          "text": [
            "0.46263830098374925\n"
          ]
        }
      ],
      "source": [
        "#predict on X_test and calculate r2_score\n",
        "y_pred = model.predict(X_test)\n",
        "\n",
        "print(r2_score(y_test, y_pred))"
      ]
    },
    {
      "cell_type": "code",
      "execution_count": null,
      "id": "b5f8dc27",
      "metadata": {
        "id": "b5f8dc27",
        "colab": {
          "base_uri": "https://localhost:8080/"
        },
        "outputId": "ff4679b3-8d35-4a2d-e1af-5b870ac01573"
      },
      "outputs": [
        {
          "output_type": "execute_result",
          "data": {
            "text/plain": [
              "(353, 10)"
            ]
          },
          "metadata": {},
          "execution_count": 75
        }
      ],
      "source": [
        "#print X_train shape\n",
        "X_train.shape"
      ]
    },
    {
      "cell_type": "code",
      "execution_count": null,
      "id": "777721d5",
      "metadata": {
        "id": "777721d5"
      },
      "outputs": [],
      "source": [
        "#Write GDregressor class\n",
        "\n",
        "\n",
        "class GDRegressor:\n",
        "    \n",
        "    def __init__(self,learning_rate,epochs):\n",
        "        \n",
        "        self.coef_ = None\n",
        "        self.intercept_ = None\n",
        "        self.lr = learning_rate\n",
        "        self.epochs = epochs\n",
        "        \n",
        "    def fit(self,X_train,y_train):\n",
        "        # init your coefs\n",
        "        n = len(y_train)\n",
        "        self.intercept_ = 1 #initialise the intercept\n",
        "        self.coef_ = np.ones(10)#initialise the array of coefficients according to number of coefficients\n",
        "        \n",
        "        for i in range(self.epochs):\n",
        "            # update all the coef and the intercept\n",
        "            y_hat = np.dot(X_train,self.coef_) + self.intercept_ #apply prediction formula i.e. (y_hat = coefficient*X + intercept) in terms of matrices coefficient and X   \n",
        "            intercept_derivative = 2*np.dot(np.ones((1,n)), y_hat-y_train)/n #find derivative matrix \n",
        "            self.intercept_ = self.intercept_ - (self.lr*intercept_derivative) #update intercept using above intercept_derivative\n",
        "            \n",
        "            coef_derivative = 2*np.dot(X_train.T,y_hat-y_train)/n #derivative matrix for all coefficients in a single step\n",
        "            self.coef_ = self.coef_ - (self.lr*coef_derivative) #update intercept using coef_derivative\n",
        "        \n",
        "        #print the coefficients array and the intercept\n",
        "        print(self.coef_)\n",
        "        \n",
        "        print(self.intercept_)\n",
        "\n",
        "    def predict(self,X_test):\n",
        "        return np.dot(X_test,self.coef_) + self.intercept_ #new prediction in the form of (y = coefficients*X + intercept) using matrices"
      ]
    },
    {
      "cell_type": "code",
      "execution_count": 120,
      "id": "4ecc1e6f",
      "metadata": {
        "id": "4ecc1e6f"
      },
      "outputs": [],
      "source": [
        "#call GDRegressor by keeping epochs and learning rate according to you and keep changing it for better results\n",
        "model = GDRegressor(0.01 , 20000)\n"
      ]
    },
    {
      "cell_type": "code",
      "execution_count": 121,
      "id": "e7e6aec9",
      "metadata": {
        "id": "e7e6aec9",
        "colab": {
          "base_uri": "https://localhost:8080/"
        },
        "outputId": "07b83543-cbae-4e31-ac20-d39e3281fdbc"
      },
      "outputs": [
        {
          "output_type": "stream",
          "name": "stdout",
          "text": [
            "[  18.46694496 -123.23625109  373.4776801   245.08074388   10.38950377\n",
            "  -26.57474598 -188.20845785  153.54354931  301.5145866   159.79598965]\n",
            "[153.23162847]\n"
          ]
        }
      ],
      "source": [
        "#fit X_train, y_train into GDRegressor object using function of the class\n",
        "model.fit(X_train, y_train)"
      ]
    },
    {
      "cell_type": "code",
      "execution_count": 92,
      "id": "8e5e4410",
      "metadata": {
        "id": "8e5e4410"
      },
      "outputs": [],
      "source": [
        "#predict on X_test using function of the class\n",
        "y_pred = model.predict(X_test)\n"
      ]
    },
    {
      "cell_type": "code",
      "execution_count": 93,
      "id": "84f66db7",
      "metadata": {
        "id": "84f66db7",
        "colab": {
          "base_uri": "https://localhost:8080/"
        },
        "outputId": "a729f1e8-e1b7-463c-faf4-bef1c6e04106"
      },
      "outputs": [
        {
          "output_type": "stream",
          "name": "stdout",
          "text": [
            "[132.34784463 132.07161366 130.61444446 130.21404782 130.61197485\n",
            " 132.01615935 132.93390658 131.51634949 131.2998485  132.3723159 ] [109. 283. 101. 158. 201.  48. 100. 103.  71.  85.]\n",
            "-5472.243354518286\n"
          ]
        }
      ],
      "source": [
        "#calculate r2_score to verify\n",
        "print(y_pred[:10] , y_test[:10])\n",
        "print(r2_score(y_pred,y_test))"
      ]
    },
    {
      "cell_type": "code",
      "source": [
        "y_pred = model.predict(X_train)\n"
      ],
      "metadata": {
        "id": "WhRHbHG4MC-F"
      },
      "id": "WhRHbHG4MC-F",
      "execution_count": 122,
      "outputs": []
    },
    {
      "cell_type": "code",
      "source": [
        "print(y_pred[:10] , y_train[:10])\n",
        "print(r2_score(y_pred,y_train))"
      ],
      "metadata": {
        "colab": {
          "base_uri": "https://localhost:8080/"
        },
        "id": "H5no3ECLUYLb",
        "outputId": "7f418459-78ae-4828-fcb9-61a97915e8d1"
      },
      "id": "H5no3ECLUYLb",
      "execution_count": 123,
      "outputs": [
        {
          "output_type": "stream",
          "name": "stdout",
          "text": [
            "[232.41479919 223.30939562  94.02876329 134.34150553 107.27952845\n",
            " 172.66551157 120.15408177 166.38945622 161.66278668  96.08711708] [336. 132.  71. 168.  91. 174. 158. 196. 265. 181.]\n",
            "-0.3599553862746907\n"
          ]
        }
      ]
    },
    {
      "cell_type": "code",
      "source": [],
      "metadata": {
        "id": "xQewckNMUacD"
      },
      "id": "xQewckNMUacD",
      "execution_count": 95,
      "outputs": []
    }
  ],
  "metadata": {
    "kernelspec": {
      "display_name": "Python 3",
      "language": "python",
      "name": "python3"
    },
    "language_info": {
      "codemirror_mode": {
        "name": "ipython",
        "version": 3
      },
      "file_extension": ".py",
      "mimetype": "text/x-python",
      "name": "python",
      "nbconvert_exporter": "python",
      "pygments_lexer": "ipython3",
      "version": "3.8.8"
    },
    "colab": {
      "provenance": []
    }
  },
  "nbformat": 4,
  "nbformat_minor": 5
}