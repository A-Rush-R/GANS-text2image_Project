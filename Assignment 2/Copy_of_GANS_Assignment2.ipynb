{
  "cells": [
    {
      "cell_type": "markdown",
      "source": [
        "**Fill the Code blocks according to the comments provided as hints**"
      ],
      "metadata": {
        "id": "7Pjuly3ZBDS0"
      },
      "id": "7Pjuly3ZBDS0"
    },
    {
      "cell_type": "code",
      "execution_count": 2,
      "id": "7d78b116",
      "metadata": {
        "id": "7d78b116"
      },
      "outputs": [],
      "source": [
        "from sklearn.datasets import load_diabetes #We will use this dataset\n",
        "import numpy as np\n",
        "from sklearn.linear_model import LinearRegression\n",
        "from sklearn.metrics import mean_squared_error\n",
        "from sklearn.metrics import r2_score\n",
        "from sklearn.model_selection import train_test_split\n",
        "#import libraries for numpy, Linear regression, r2_score, train_test_split"
      ]
    },
    {
      "cell_type": "code",
      "execution_count": 3,
      "id": "6b46625d",
      "metadata": {
        "id": "6b46625d",
        "colab": {
          "base_uri": "https://localhost:8080/"
        },
        "outputId": "ed654f38-088c-4720-9279-8343e14474d2"
      },
      "outputs": [
        {
          "output_type": "stream",
          "name": "stdout",
          "text": [
            ".. _diabetes_dataset:\n",
            "\n",
            "Diabetes dataset\n",
            "----------------\n",
            "\n",
            "Ten baseline variables, age, sex, body mass index, average blood\n",
            "pressure, and six blood serum measurements were obtained for each of n =\n",
            "442 diabetes patients, as well as the response of interest, a\n",
            "quantitative measure of disease progression one year after baseline.\n",
            "\n",
            "**Data Set Characteristics:**\n",
            "\n",
            "  :Number of Instances: 442\n",
            "\n",
            "  :Number of Attributes: First 10 columns are numeric predictive values\n",
            "\n",
            "  :Target: Column 11 is a quantitative measure of disease progression one year after baseline\n",
            "\n",
            "  :Attribute Information:\n",
            "      - age     age in years\n",
            "      - sex\n",
            "      - bmi     body mass index\n",
            "      - bp      average blood pressure\n",
            "      - s1      tc, total serum cholesterol\n",
            "      - s2      ldl, low-density lipoproteins\n",
            "      - s3      hdl, high-density lipoproteins\n",
            "      - s4      tch, total cholesterol / HDL\n",
            "      - s5      ltg, possibly log of serum triglycerides level\n",
            "      - s6      glu, blood sugar level\n",
            "\n",
            "Note: Each of these 10 feature variables have been mean centered and scaled by the standard deviation times the square root of `n_samples` (i.e. the sum of squares of each column totals 1).\n",
            "\n",
            "Source URL:\n",
            "https://www4.stat.ncsu.edu/~boos/var.select/diabetes.html\n",
            "\n",
            "For more information see:\n",
            "Bradley Efron, Trevor Hastie, Iain Johnstone and Robert Tibshirani (2004) \"Least Angle Regression,\" Annals of Statistics (with discussion), 407-499.\n",
            "(https://web.stanford.edu/~hastie/Papers/LARS/LeastAngle_2002.pdf)\n",
            "\n"
          ]
        }
      ],
      "source": [
        "X,y = load_diabetes(return_X_y=True)  #loading dataset\n",
        "diab = load_diabetes()\n",
        "print(diab.DESCR)"
      ]
    },
    {
      "cell_type": "code",
      "execution_count": 4,
      "id": "c2ad6cd1",
      "metadata": {
        "id": "c2ad6cd1",
        "colab": {
          "base_uri": "https://localhost:8080/"
        },
        "outputId": "376bdb0a-648b-4e4a-bfd5-c1eb2765195d"
      },
      "outputs": [
        {
          "output_type": "stream",
          "name": "stdout",
          "text": [
            "(442, 10)\n",
            "(442,)\n"
          ]
        }
      ],
      "source": [
        "#print shape of X and y and write in a text block what do you observe about both \n",
        "print(X.shape)\n",
        "print(y.shape)"
      ]
    },
    {
      "cell_type": "markdown",
      "source": [
        "X is the data of load_datasets and it has 442 ros and 10 columns. This means that load_datasets has 10 attributes and 442 entries\n",
        "Y is the target of load_dataseta i.e what we try to determine using this dataset which is to get a quantitative measure of disease progression one year after baseline. Thus, it has only 442 elements corresponding to the 442 entries.\n",
        "We can say that target is the 11th column in the dataset which determines the measure of disease progression over one year."
      ],
      "metadata": {
        "id": "nqJLUr_1NW-v"
      },
      "id": "nqJLUr_1NW-v"
    },
    {
      "cell_type": "code",
      "execution_count": 5,
      "id": "a70d2eb2",
      "metadata": {
        "id": "a70d2eb2",
        "colab": {
          "base_uri": "https://localhost:8080/"
        },
        "outputId": "c7a48bd2-b137-4f80-9c0a-0cf7ef7c846f"
      },
      "outputs": [
        {
          "output_type": "stream",
          "name": "stdout",
          "text": [
            "(353, 10)\n",
            "(89, 10)\n",
            "(353,)\n",
            "(89,)\n"
          ]
        }
      ],
      "source": [
        "#split the dataset into Train(80%) and Test(20%)\n",
        "\n",
        "X_train, X_test, y_train, y_test = train_test_split(X,y, train_size = 0.8, random_state = 42)\n",
        "print(X_train.shape)\n",
        "print(X_test.shape)\n",
        "print(y_train.shape)\n",
        "print(y_test.shape)"
      ]
    },
    {
      "cell_type": "code",
      "execution_count": 6,
      "id": "a8ec5613",
      "metadata": {
        "id": "a8ec5613",
        "colab": {
          "base_uri": "https://localhost:8080/",
          "height": 74
        },
        "outputId": "29a03825-6aa1-412c-fe51-dfaf1e7b6ae4"
      },
      "outputs": [
        {
          "output_type": "execute_result",
          "data": {
            "text/plain": [
              "LinearRegression()"
            ],
            "text/html": [
              "<style>#sk-container-id-1 {color: black;background-color: white;}#sk-container-id-1 pre{padding: 0;}#sk-container-id-1 div.sk-toggleable {background-color: white;}#sk-container-id-1 label.sk-toggleable__label {cursor: pointer;display: block;width: 100%;margin-bottom: 0;padding: 0.3em;box-sizing: border-box;text-align: center;}#sk-container-id-1 label.sk-toggleable__label-arrow:before {content: \"▸\";float: left;margin-right: 0.25em;color: #696969;}#sk-container-id-1 label.sk-toggleable__label-arrow:hover:before {color: black;}#sk-container-id-1 div.sk-estimator:hover label.sk-toggleable__label-arrow:before {color: black;}#sk-container-id-1 div.sk-toggleable__content {max-height: 0;max-width: 0;overflow: hidden;text-align: left;background-color: #f0f8ff;}#sk-container-id-1 div.sk-toggleable__content pre {margin: 0.2em;color: black;border-radius: 0.25em;background-color: #f0f8ff;}#sk-container-id-1 input.sk-toggleable__control:checked~div.sk-toggleable__content {max-height: 200px;max-width: 100%;overflow: auto;}#sk-container-id-1 input.sk-toggleable__control:checked~label.sk-toggleable__label-arrow:before {content: \"▾\";}#sk-container-id-1 div.sk-estimator input.sk-toggleable__control:checked~label.sk-toggleable__label {background-color: #d4ebff;}#sk-container-id-1 div.sk-label input.sk-toggleable__control:checked~label.sk-toggleable__label {background-color: #d4ebff;}#sk-container-id-1 input.sk-hidden--visually {border: 0;clip: rect(1px 1px 1px 1px);clip: rect(1px, 1px, 1px, 1px);height: 1px;margin: -1px;overflow: hidden;padding: 0;position: absolute;width: 1px;}#sk-container-id-1 div.sk-estimator {font-family: monospace;background-color: #f0f8ff;border: 1px dotted black;border-radius: 0.25em;box-sizing: border-box;margin-bottom: 0.5em;}#sk-container-id-1 div.sk-estimator:hover {background-color: #d4ebff;}#sk-container-id-1 div.sk-parallel-item::after {content: \"\";width: 100%;border-bottom: 1px solid gray;flex-grow: 1;}#sk-container-id-1 div.sk-label:hover label.sk-toggleable__label {background-color: #d4ebff;}#sk-container-id-1 div.sk-serial::before {content: \"\";position: absolute;border-left: 1px solid gray;box-sizing: border-box;top: 0;bottom: 0;left: 50%;z-index: 0;}#sk-container-id-1 div.sk-serial {display: flex;flex-direction: column;align-items: center;background-color: white;padding-right: 0.2em;padding-left: 0.2em;position: relative;}#sk-container-id-1 div.sk-item {position: relative;z-index: 1;}#sk-container-id-1 div.sk-parallel {display: flex;align-items: stretch;justify-content: center;background-color: white;position: relative;}#sk-container-id-1 div.sk-item::before, #sk-container-id-1 div.sk-parallel-item::before {content: \"\";position: absolute;border-left: 1px solid gray;box-sizing: border-box;top: 0;bottom: 0;left: 50%;z-index: -1;}#sk-container-id-1 div.sk-parallel-item {display: flex;flex-direction: column;z-index: 1;position: relative;background-color: white;}#sk-container-id-1 div.sk-parallel-item:first-child::after {align-self: flex-end;width: 50%;}#sk-container-id-1 div.sk-parallel-item:last-child::after {align-self: flex-start;width: 50%;}#sk-container-id-1 div.sk-parallel-item:only-child::after {width: 0;}#sk-container-id-1 div.sk-dashed-wrapped {border: 1px dashed gray;margin: 0 0.4em 0.5em 0.4em;box-sizing: border-box;padding-bottom: 0.4em;background-color: white;}#sk-container-id-1 div.sk-label label {font-family: monospace;font-weight: bold;display: inline-block;line-height: 1.2em;}#sk-container-id-1 div.sk-label-container {text-align: center;}#sk-container-id-1 div.sk-container {/* jupyter's `normalize.less` sets `[hidden] { display: none; }` but bootstrap.min.css set `[hidden] { display: none !important; }` so we also need the `!important` here to be able to override the default hidden behavior on the sphinx rendered scikit-learn.org. See: https://github.com/scikit-learn/scikit-learn/issues/21755 */display: inline-block !important;position: relative;}#sk-container-id-1 div.sk-text-repr-fallback {display: none;}</style><div id=\"sk-container-id-1\" class=\"sk-top-container\"><div class=\"sk-text-repr-fallback\"><pre>LinearRegression()</pre><b>In a Jupyter environment, please rerun this cell to show the HTML representation or trust the notebook. <br />On GitHub, the HTML representation is unable to render, please try loading this page with nbviewer.org.</b></div><div class=\"sk-container\" hidden><div class=\"sk-item\"><div class=\"sk-estimator sk-toggleable\"><input class=\"sk-toggleable__control sk-hidden--visually\" id=\"sk-estimator-id-1\" type=\"checkbox\" checked><label for=\"sk-estimator-id-1\" class=\"sk-toggleable__label sk-toggleable__label-arrow\">LinearRegression</label><div class=\"sk-toggleable__content\"><pre>LinearRegression()</pre></div></div></div></div></div>"
            ]
          },
          "metadata": {},
          "execution_count": 6
        }
      ],
      "source": [
        "#fit X,y in Linear Regression Model of sklearn\n",
        "reg = LinearRegression()\n",
        "reg.fit(X_train,y_train)\n"
      ]
    },
    {
      "cell_type": "code",
      "execution_count": 7,
      "id": "d3e3934e",
      "metadata": {
        "id": "d3e3934e",
        "colab": {
          "base_uri": "https://localhost:8080/"
        },
        "outputId": "432f2469-5d18-416f-fb50-5e26589146a4"
      },
      "outputs": [
        {
          "output_type": "stream",
          "name": "stdout",
          "text": [
            "[  37.90402135 -241.96436231  542.42875852  347.70384391 -931.48884588\n",
            "  518.06227698  163.41998299  275.31790158  736.1988589    48.67065743]\n",
            "151.34560453985995\n"
          ]
        }
      ],
      "source": [
        "#print coefficients and intercepts (in @d gradient descent in was only m and b but as it is n dimensional it will have n coefficients and 1 intercept)\n",
        "print(reg.coef_)\n",
        "print(reg.intercept_)\n",
        "\n"
      ]
    },
    {
      "cell_type": "code",
      "execution_count": 8,
      "id": "d8b0bb30",
      "metadata": {
        "id": "d8b0bb30",
        "colab": {
          "base_uri": "https://localhost:8080/"
        },
        "outputId": "bca1cf05-157b-47dd-d1dc-0f17673ec02f"
      },
      "outputs": [
        {
          "output_type": "stream",
          "name": "stdout",
          "text": [
            "[139.5475584  179.51720835 134.03875572 291.41702925 123.78965872\n",
            "  92.1723465  258.23238899 181.33732057  90.22411311 108.63375858\n",
            "  94.13865744 168.43486358  53.5047888  206.63081659 100.12925869\n",
            " 130.66657085 219.53071499 250.7803234  196.3688346  218.57511815\n",
            " 207.35050182  88.48340941  70.43285917 188.95914235 154.8868162\n",
            " 159.36170122 188.31263363 180.39094033  47.99046561 108.97453871\n",
            " 174.77897633  86.36406656 132.95761215 184.53819483 173.83220911\n",
            " 190.35858492 124.4156176  119.65110656 147.95168682  59.05405241\n",
            "  71.62331856 107.68284704 165.45365458 155.00975931 171.04799096\n",
            "  61.45761356  71.66672581 114.96732206  51.57975523 167.57599528\n",
            " 152.52291955  62.95568515 103.49741722 109.20751489 175.64118426\n",
            " 154.60296242  94.41704366 210.74209145 120.2566205   77.61585399\n",
            " 187.93203995 206.49337474 140.63167076 105.59678023 130.70432536\n",
            " 202.18534537 171.13039501 164.91423047 124.72472569 144.81030894\n",
            " 181.99635452 199.41369642 234.21436188 145.95665512  79.86703276\n",
            " 157.36941275 192.74412541 208.89814032 158.58722555 206.02195855\n",
            " 107.47971675 140.93598906  54.82129332  55.92573195 115.01180018\n",
            "  78.95584188  81.56087285  54.37997256 166.2543518 ] \n",
            "\n",
            "\n",
            "0.453\n"
          ]
        }
      ],
      "source": [
        "#predict on X_test and calculate r2_score\n",
        "y_test_pred = reg.predict(X_test)\n",
        "print(y_test_pred, \"\\n\\n\")\n",
        "r2 = round(r2_score(y_test, y_test_pred),3)\n",
        "print(r2)\n",
        "\n"
      ]
    },
    {
      "cell_type": "code",
      "execution_count": 9,
      "id": "b5f8dc27",
      "metadata": {
        "id": "b5f8dc27",
        "colab": {
          "base_uri": "https://localhost:8080/"
        },
        "outputId": "47421866-864a-4ef0-cefd-915f7ac87580"
      },
      "outputs": [
        {
          "output_type": "stream",
          "name": "stdout",
          "text": [
            "(353, 10)\n",
            "[ 6  7  8  9 10 11 12 13 14 15]\n",
            "-105709.99426683718\n"
          ]
        }
      ],
      "source": [
        "#print X_train shape\n",
        "print(X_train.shape)\n",
        "##print(y_train.reshape(353,1))\n",
        "\n",
        "x=np.array([1,2,3,4,5,6,7,8,9,10])\n",
        "##y=np.array([2,3,4,5,6,7,8,9,10,11])\n",
        "print(x+5)\n",
        "y_hat = np.matmul(np.ones((1,10)), np.transpose(X_train)) + 4\n",
        "print(2* np.sum(y_hat.ravel() - y_train))"
      ]
    },
    {
      "cell_type": "code",
      "execution_count": 11,
      "id": "777721d5",
      "metadata": {
        "id": "777721d5"
      },
      "outputs": [],
      "source": [
        " #Write GDregressor class\n",
        "\n",
        "\n",
        "class GDRegressor:\n",
        "    \n",
        "    def __init__(self,learning_rate,epochs):\n",
        "        \n",
        "        self.coef_ = None\n",
        "        self.intercept_ = None\n",
        "        self.lr = learning_rate\n",
        "        self.epochs = epochs\n",
        "        \n",
        "    def fit(self,X_train,y_train):\n",
        "        # init your coefs\n",
        "        self.intercept_ = 0 #initialise the intercept\n",
        "        self.coef_ = np.ones((1,10))#initialise the array of coefficients according to number of coefficients\n",
        "        \n",
        "        for i in range(self.epochs):\n",
        "            # update all the coef and the intercept\n",
        "            \n",
        "            y_hat = np.matmul(self.coef_, np.transpose(X_train)) + self.intercept_ #apply prediction formula i.e. (y_hat = coefficient*X + intercept) in terms of matrices coefficient and X   \n",
        "            \n",
        "            \n",
        "            intercept_derivative = self.lr* np.sum(np.matmul(self.coef_, np.transpose(X_train)) + self.intercept_  - y_train) #find derivative matrix \n",
        "            self.intercept_ = self.intercept_ - intercept_derivative #update intercept using above intercept_derivative\n",
        "            \n",
        "            coef_derivative = self.lr*np.matmul((np.matmul(self.coef_, np.transpose(X_train)) + self.intercept_  - y_train).reshape(1,353), X_train)  #derivative matrix for all coefficients in a single step\n",
        "            self.coef_ = self.coef_ - coef_derivative #update intercept using coef_derivative\n",
        "        print(self.coef_,\"\\n\\n\")\n",
        "        print(self.intercept_)\n",
        "        \n",
        "        #print the coefficients array and the intercept\n",
        "    \n",
        "    def predict(self,X_test):\n",
        "        return  (np.matmul(self.coef_, np.transpose(X_test)) + self.intercept_ ) #new prediction in the form of (y = coefficients*X + intercept) using matrices"
      ]
    },
    {
      "cell_type": "code",
      "execution_count": 12,
      "id": "4ecc1e6f",
      "metadata": {
        "id": "4ecc1e6f",
        "colab": {
          "base_uri": "https://localhost:8080/"
        },
        "outputId": "6cfb82cc-0e88-4320-c05f-200371010cab"
      },
      "outputs": [
        {
          "output_type": "stream",
          "name": "stdout",
          "text": [
            "[[ 8.04765183e+19  1.04126185e+19  9.69635992e+19  6.59955539e+19\n",
            "  -3.07089701e+19 -4.46630842e+19 -5.53459126e+19  2.13301411e+19\n",
            "   6.80771076e+19  1.05627599e+20]] \n",
            "\n",
            "\n",
            "-2.1967888714943974e+22\n"
          ]
        }
      ],
      "source": [
        "#call GDRegressor by keeping epochs and learning rate according to you and keep changing it for better results\n",
        "obj = GDRegressor(0.01,50)\n",
        "obj.fit(X_train,y_train)"
      ]
    },
    {
      "cell_type": "code",
      "execution_count": 13,
      "id": "e7e6aec9",
      "metadata": {
        "id": "e7e6aec9",
        "colab": {
          "base_uri": "https://localhost:8080/"
        },
        "outputId": "f1352c30-b20b-41e1-b628-6159db5d2306"
      },
      "outputs": [
        {
          "output_type": "stream",
          "name": "stdout",
          "text": [
            "[[ 8.04765183e+19  1.04126185e+19  9.69635992e+19  6.59955539e+19\n",
            "  -3.07089701e+19 -4.46630842e+19 -5.53459126e+19  2.13301411e+19\n",
            "   6.80771076e+19  1.05627599e+20]] \n",
            "\n",
            "\n",
            "-2.1967888714943974e+22\n"
          ]
        }
      ],
      "source": [
        "#fit X_train, y_train into GDRegressor object using function of the class\n",
        "obj.fit(X_train,y_train)"
      ]
    },
    {
      "cell_type": "code",
      "execution_count": 14,
      "id": "8e5e4410",
      "metadata": {
        "id": "8e5e4410",
        "colab": {
          "base_uri": "https://localhost:8080/"
        },
        "outputId": "915de734-07af-461a-a568-d2af8d087d30"
      },
      "outputs": [
        {
          "output_type": "stream",
          "name": "stdout",
          "text": [
            "[[-2.19744668e+22 -2.19590916e+22 -2.19680809e+22 -2.19332420e+22\n",
            "  -2.19722453e+22 -2.19836526e+22 -2.19454132e+22 -2.19585637e+22\n",
            "  -2.19829603e+22 -2.19785948e+22 -2.19891790e+22 -2.19729066e+22\n",
            "  -2.19951684e+22 -2.19455439e+22 -2.19701577e+22 -2.19651085e+22\n",
            "  -2.19426557e+22 -2.19372500e+22 -2.19522859e+22 -2.19481055e+22\n",
            "  -2.19660234e+22 -2.19861218e+22 -2.19870323e+22 -2.19526091e+22\n",
            "  -2.19744590e+22 -2.19570998e+22 -2.19565802e+22 -2.19566061e+22\n",
            "  -2.19963946e+22 -2.19703706e+22 -2.19618376e+22 -2.19911318e+22\n",
            "  -2.19690554e+22 -2.19539623e+22 -2.19592849e+22 -2.19676389e+22\n",
            "  -2.19679559e+22 -2.19699725e+22 -2.19544560e+22 -2.19926559e+22\n",
            "  -2.19804660e+22 -2.19674144e+22 -2.19624663e+22 -2.19532500e+22\n",
            "  -2.19632346e+22 -2.19962035e+22 -2.19889880e+22 -2.19746353e+22\n",
            "  -2.19912246e+22 -2.19781779e+22 -2.19685760e+22 -2.19995807e+22\n",
            "  -2.19751649e+22 -2.19762152e+22 -2.19731293e+22 -2.19758135e+22\n",
            "  -2.19827479e+22 -2.19521197e+22 -2.19836860e+22 -2.19882697e+22\n",
            "  -2.19692524e+22 -2.19646400e+22 -2.19701642e+22 -2.19691791e+22\n",
            "  -2.19789966e+22 -2.19629969e+22 -2.19687498e+22 -2.19624551e+22\n",
            "  -2.19894279e+22 -2.19747442e+22 -2.19657954e+22 -2.19564259e+22\n",
            "  -2.19388025e+22 -2.19723456e+22 -2.19824075e+22 -2.19705688e+22\n",
            "  -2.19582882e+22 -2.19668830e+22 -2.19596690e+22 -2.19633576e+22\n",
            "  -2.19841785e+22 -2.19835691e+22 -2.19970879e+22 -2.19927643e+22\n",
            "  -2.19764399e+22 -2.19791762e+22 -2.19880697e+22 -2.19905226e+22\n",
            "  -2.19769928e+22]]\n",
            "-9.111124946678076e+40\n"
          ]
        }
      ],
      "source": [
        "#predict on X_test using function of the class\n",
        "print(obj.predict(X_test).reshape(1,89))\n",
        "r2 = round(r2_score(y_test, np.transpose(obj.predict(X_test))),3)\n",
        "print(r2)"
      ]
    },
    {
      "cell_type": "code",
      "execution_count": null,
      "id": "84f66db7",
      "metadata": {
        "id": "84f66db7"
      },
      "outputs": [],
      "source": [
        "#calculate r2_score to verify\n"
      ]
    },
    {
      "cell_type": "code",
      "execution_count": null,
      "id": "c8df72af",
      "metadata": {
        "id": "c8df72af"
      },
      "outputs": [],
      "source": []
    }
  ],
  "metadata": {
    "kernelspec": {
      "display_name": "Python 3",
      "language": "python",
      "name": "python3"
    },
    "language_info": {
      "codemirror_mode": {
        "name": "ipython",
        "version": 3
      },
      "file_extension": ".py",
      "mimetype": "text/x-python",
      "name": "python",
      "nbconvert_exporter": "python",
      "pygments_lexer": "ipython3",
      "version": "3.8.8"
    },
    "colab": {
      "provenance": []
    }
  },
  "nbformat": 4,
  "nbformat_minor": 5
}