{
  "cells": [
    {
      "cell_type": "markdown",
      "metadata": {
        "id": "7Pjuly3ZBDS0"
      },
      "source": [
        "**Fill the Code blocks according to the comments provided as hints**"
      ],
      "id": "7Pjuly3ZBDS0"
    },
    {
      "cell_type": "markdown",
      "source": [],
      "metadata": {
        "id": "gcCay_Xua-ne"
      },
      "id": "gcCay_Xua-ne"
    },
    {
      "cell_type": "code",
      "execution_count": null,
      "metadata": {
        "id": "7d78b116"
      },
      "outputs": [],
      "source": [
        "from sklearn.datasets import load_diabetes #We will use this dataset\n",
        "\n",
        "#import libraries for numpy, Linear regression, r2_score, train_test_split \n",
        "import numpy as np\n",
        "from sklearn.metrics import r2_score\n",
        "from sklearn.linear_model import LinearRegression\n",
        "from sklearn.model_selection import train_test_split"
      ],
      "id": "7d78b116"
    },
    {
      "cell_type": "code",
      "execution_count": null,
      "metadata": {
        "id": "6b46625d"
      },
      "outputs": [],
      "source": [
        "X,y = load_diabetes(return_X_y=True)  #loading dataset"
      ],
      "id": "6b46625d"
    },
    {
      "cell_type": "code",
      "execution_count": null,
      "metadata": {
        "colab": {
          "base_uri": "https://localhost:8080/"
        },
        "id": "c2ad6cd1",
        "outputId": "522138fb-cfa0-4fd2-8c3b-657b8b933f26"
      },
      "outputs": [
        {
          "output_type": "stream",
          "name": "stdout",
          "text": [
            "X have shape : (442, 10)\n",
            "y have shape : (442,)\n",
            "X is multidimensional array while y is 1D array\n"
          ]
        }
      ],
      "source": [
        "#print shape of X and y and write in a text block what do you observe about both \n",
        "print(\"X have shape :\",X.shape)\n",
        "print(\"y have shape :\",y.shape)\n",
        "print(\"X is multidimensional array while y is 1D array\")"
      ],
      "id": "c2ad6cd1"
    },
    {
      "cell_type": "markdown",
      "source": [
        "X is a 2D array while y is a 1D array.\n"
      ],
      "metadata": {
        "id": "ew3jxzpYbc6Z"
      },
      "id": "ew3jxzpYbc6Z"
    },
    {
      "cell_type": "code",
      "execution_count": null,
      "metadata": {
        "id": "a70d2eb2"
      },
      "outputs": [],
      "source": [
        "#split the dataset into Train(80%) and Test(20%)\n",
        "X_train, X_test, y_train, y_test = train_test_split(X, y, test_size=0.2, random_state=9)\n"
      ],
      "id": "a70d2eb2"
    },
    {
      "cell_type": "code",
      "execution_count": null,
      "metadata": {
        "colab": {
          "base_uri": "https://localhost:8080/",
          "height": 75
        },
        "id": "a8ec5613",
        "outputId": "c0ff4036-4308-4a0b-8908-8baedc86fb50"
      },
      "outputs": [
        {
          "output_type": "execute_result",
          "data": {
            "text/plain": [
              "LinearRegression()"
            ],
            "text/html": [
              "<style>#sk-container-id-2 {color: black;background-color: white;}#sk-container-id-2 pre{padding: 0;}#sk-container-id-2 div.sk-toggleable {background-color: white;}#sk-container-id-2 label.sk-toggleable__label {cursor: pointer;display: block;width: 100%;margin-bottom: 0;padding: 0.3em;box-sizing: border-box;text-align: center;}#sk-container-id-2 label.sk-toggleable__label-arrow:before {content: \"▸\";float: left;margin-right: 0.25em;color: #696969;}#sk-container-id-2 label.sk-toggleable__label-arrow:hover:before {color: black;}#sk-container-id-2 div.sk-estimator:hover label.sk-toggleable__label-arrow:before {color: black;}#sk-container-id-2 div.sk-toggleable__content {max-height: 0;max-width: 0;overflow: hidden;text-align: left;background-color: #f0f8ff;}#sk-container-id-2 div.sk-toggleable__content pre {margin: 0.2em;color: black;border-radius: 0.25em;background-color: #f0f8ff;}#sk-container-id-2 input.sk-toggleable__control:checked~div.sk-toggleable__content {max-height: 200px;max-width: 100%;overflow: auto;}#sk-container-id-2 input.sk-toggleable__control:checked~label.sk-toggleable__label-arrow:before {content: \"▾\";}#sk-container-id-2 div.sk-estimator input.sk-toggleable__control:checked~label.sk-toggleable__label {background-color: #d4ebff;}#sk-container-id-2 div.sk-label input.sk-toggleable__control:checked~label.sk-toggleable__label {background-color: #d4ebff;}#sk-container-id-2 input.sk-hidden--visually {border: 0;clip: rect(1px 1px 1px 1px);clip: rect(1px, 1px, 1px, 1px);height: 1px;margin: -1px;overflow: hidden;padding: 0;position: absolute;width: 1px;}#sk-container-id-2 div.sk-estimator {font-family: monospace;background-color: #f0f8ff;border: 1px dotted black;border-radius: 0.25em;box-sizing: border-box;margin-bottom: 0.5em;}#sk-container-id-2 div.sk-estimator:hover {background-color: #d4ebff;}#sk-container-id-2 div.sk-parallel-item::after {content: \"\";width: 100%;border-bottom: 1px solid gray;flex-grow: 1;}#sk-container-id-2 div.sk-label:hover label.sk-toggleable__label {background-color: #d4ebff;}#sk-container-id-2 div.sk-serial::before {content: \"\";position: absolute;border-left: 1px solid gray;box-sizing: border-box;top: 0;bottom: 0;left: 50%;z-index: 0;}#sk-container-id-2 div.sk-serial {display: flex;flex-direction: column;align-items: center;background-color: white;padding-right: 0.2em;padding-left: 0.2em;position: relative;}#sk-container-id-2 div.sk-item {position: relative;z-index: 1;}#sk-container-id-2 div.sk-parallel {display: flex;align-items: stretch;justify-content: center;background-color: white;position: relative;}#sk-container-id-2 div.sk-item::before, #sk-container-id-2 div.sk-parallel-item::before {content: \"\";position: absolute;border-left: 1px solid gray;box-sizing: border-box;top: 0;bottom: 0;left: 50%;z-index: -1;}#sk-container-id-2 div.sk-parallel-item {display: flex;flex-direction: column;z-index: 1;position: relative;background-color: white;}#sk-container-id-2 div.sk-parallel-item:first-child::after {align-self: flex-end;width: 50%;}#sk-container-id-2 div.sk-parallel-item:last-child::after {align-self: flex-start;width: 50%;}#sk-container-id-2 div.sk-parallel-item:only-child::after {width: 0;}#sk-container-id-2 div.sk-dashed-wrapped {border: 1px dashed gray;margin: 0 0.4em 0.5em 0.4em;box-sizing: border-box;padding-bottom: 0.4em;background-color: white;}#sk-container-id-2 div.sk-label label {font-family: monospace;font-weight: bold;display: inline-block;line-height: 1.2em;}#sk-container-id-2 div.sk-label-container {text-align: center;}#sk-container-id-2 div.sk-container {/* jupyter's `normalize.less` sets `[hidden] { display: none; }` but bootstrap.min.css set `[hidden] { display: none !important; }` so we also need the `!important` here to be able to override the default hidden behavior on the sphinx rendered scikit-learn.org. See: https://github.com/scikit-learn/scikit-learn/issues/21755 */display: inline-block !important;position: relative;}#sk-container-id-2 div.sk-text-repr-fallback {display: none;}</style><div id=\"sk-container-id-2\" class=\"sk-top-container\"><div class=\"sk-text-repr-fallback\"><pre>LinearRegression()</pre><b>In a Jupyter environment, please rerun this cell to show the HTML representation or trust the notebook. <br />On GitHub, the HTML representation is unable to render, please try loading this page with nbviewer.org.</b></div><div class=\"sk-container\" hidden><div class=\"sk-item\"><div class=\"sk-estimator sk-toggleable\"><input class=\"sk-toggleable__control sk-hidden--visually\" id=\"sk-estimator-id-2\" type=\"checkbox\" checked><label for=\"sk-estimator-id-2\" class=\"sk-toggleable__label sk-toggleable__label-arrow\">LinearRegression</label><div class=\"sk-toggleable__content\"><pre>LinearRegression()</pre></div></div></div></div></div>"
            ]
          },
          "metadata": {},
          "execution_count": 15
        }
      ],
      "source": [
        "#fit X,y in Linear Regression Model of sklearn\n",
        "LR=LinearRegression() \n",
        "LR.fit(X_train,y_train)\n"
      ],
      "id": "a8ec5613"
    },
    {
      "cell_type": "code",
      "execution_count": null,
      "metadata": {
        "colab": {
          "base_uri": "https://localhost:8080/"
        },
        "id": "d3e3934e",
        "outputId": "f6042f69-e77d-4857-9616-159eb94dcefd"
      },
      "outputs": [
        {
          "output_type": "stream",
          "name": "stdout",
          "text": [
            "coefficients are : [  -18.85807959  -267.95625482   453.73337127   352.56143729\n",
            " -1016.95527267   717.57123175   153.68604598   177.6962053\n",
            "   860.59401181    50.80716114]\n",
            "intercept is  153.0719512114464\n"
          ]
        }
      ],
      "source": [
        "#print coefficients and intercepts (in @d gradient descent in was only m and b but as it is n dimensional it will have n coefficients and 1 intercept)\n",
        "print(\"coefficients are :\",LR.coef_)\n",
        "print(\"intercept is \",LR.intercept_)"
      ],
      "id": "d3e3934e"
    },
    {
      "cell_type": "code",
      "execution_count": null,
      "metadata": {
        "colab": {
          "base_uri": "https://localhost:8080/"
        },
        "id": "d8b0bb30",
        "outputId": "aea9a513-4b12-45c1-c494-612236c7d677"
      },
      "outputs": [
        {
          "output_type": "stream",
          "name": "stdout",
          "text": [
            "r2_score is: 0.585114043418069\n"
          ]
        }
      ],
      "source": [
        "#predict on X_test and calculate r2_score\n",
        "y_pred=LR.predict(X_test)\n",
        "R2_score=r2_score(y_test,y_pred)\n",
        "print(\"r2_score is:\",R2_score)"
      ],
      "id": "d8b0bb30"
    },
    {
      "cell_type": "code",
      "execution_count": null,
      "metadata": {
        "colab": {
          "base_uri": "https://localhost:8080/"
        },
        "id": "b5f8dc27",
        "outputId": "c9cb737c-ccc7-4320-f301-ff6413e4e017"
      },
      "outputs": [
        {
          "output_type": "stream",
          "name": "stdout",
          "text": [
            "shape of X_train (353, 10)\n"
          ]
        }
      ],
      "source": [
        "#print X_train shape\n",
        "x_trainshape=X_train.shape\n",
        "print(\"shape of X_train\",x_trainshape)"
      ],
      "id": "b5f8dc27"
    },
    {
      "cell_type": "code",
      "execution_count": null,
      "metadata": {
        "id": "777721d5"
      },
      "outputs": [],
      "source": [
        "#Write GDregressor class\n",
        "\n",
        "\n",
        "class GDRegressor:\n",
        "    \n",
        "    def __init__(self,learning_rate,epochs):\n",
        "        \n",
        "        self.coef_ = None\n",
        "        self.intercept_ = None\n",
        "        self.lr = learning_rate\n",
        "        self.epochs = epochs\n",
        "        \n",
        "    def fit(self,X_train,y_train):\n",
        "        # init your coefs\n",
        "        self.intercept_ = 0.0 #initialise the intercept\n",
        "        self.coef_ = np.zeros(X_train.shape[1])#initialise the array of coefficients according to number of coefficients\n",
        "        \n",
        "        for i in range(self.epochs):\n",
        "            # update all the coef and the intercept\n",
        "            y_hat =np.dot(X_train,self.coef_) + self.intercept_ #apply prediction formula i.e. (y_hat = coefficient*X + intercept) in terms of matrices coefficient and X   \n",
        "            intercept_derivative = -2 * np.mean(y_train - y_hat) #find derivative matrix \n",
        "            self.intercept_ = self.intercept_ - self.lr * intercept_derivative #update intercept using above intercept_derivative\n",
        "            \n",
        "            coef_derivative = -2 * np.dot(X_train.T, (y_train - y_hat)) / X_train.shape[0]\n",
        "             #derivative matrix for all coefficients in a single step\n",
        "            self.coef_ = self.coef_ - self.lr * coef_derivative #update intercept using coef_derivative\n",
        "        \n",
        "        #print the coefficients array and the intercept\n",
        "        print(\"coeficients array :\",self.coef_)\n",
        "        print(\"Intercept :\",self.intercept_)\n",
        "    def predict(self,X_test):\n",
        "        return np.dot(X_test,self.coef_) + self.intercept_ #new prediction in the form of (y = coefficients*X + intercept) using matrices \n"
      ],
      "id": "777721d5"
    },
    {
      "cell_type": "code",
      "execution_count": null,
      "metadata": {
        "id": "4ecc1e6f"
      },
      "outputs": [],
      "source": [
        "#call GDRegressor by keeping epochs and learning rate according to you and keep changing it for better results\n",
        "learning_rates = [0.001,0.0001,0.00001,0.1]\n",
        "epochs=[1000,100,10,1000000]\n",
        "for lr in learning_rates:\n",
        "  for epoch in epochs:\n",
        "   gd_regeressor= GDRegressor(learning_rate=lr, epochs=epoch)"
      ],
      "id": "4ecc1e6f"
    },
    {
      "cell_type": "code",
      "execution_count": null,
      "metadata": {
        "colab": {
          "base_uri": "https://localhost:8080/"
        },
        "id": "e7e6aec9",
        "outputId": "fdc01255-63a8-4539-8f9b-391a63fc383e"
      },
      "outputs": [
        {
          "output_type": "stream",
          "name": "stdout",
          "text": [
            "coeficients array : [ -18.68815866 -267.84666925  454.00042984  352.41692253 -997.81550559\n",
            "  702.20972695  145.1921054   175.30108289  853.48503729   51.06411175]\n",
            "Intercept : 153.0710703928542\n"
          ]
        }
      ],
      "source": [
        "#fit X_train, y_train into GDRegressor object using function of the class\n",
        "gd_regeressor.fit(X_train, y_train)"
      ],
      "id": "e7e6aec9"
    },
    {
      "cell_type": "code",
      "execution_count": null,
      "metadata": {
        "colab": {
          "base_uri": "https://localhost:8080/"
        },
        "id": "8e5e4410",
        "outputId": "8ae0c501-27e7-4d9b-d0b1-7766a655a711"
      },
      "outputs": [
        {
          "output_type": "stream",
          "name": "stdout",
          "text": [
            "[ 79.76626369  99.26918045 201.0073231  120.34034412 109.4208896\n",
            " 247.92615253 212.71455944 134.18771583 128.34737579  57.68717174\n",
            "  54.86826508 132.214057   150.65619321 248.06428456  86.1890098\n",
            "  77.12398519 173.53888273  83.86534357 121.16107009 190.26747149\n",
            " 144.67689329  88.94573035 256.30281761 150.2118543   76.55984864\n",
            " 163.83976086 183.19995885 116.13540447  74.68601433 286.70418504\n",
            " 239.81851277 260.88635605 253.21422556 217.40102525 130.5399917\n",
            " 114.62199479 168.7792454  131.14551724 184.24399717 168.00989002\n",
            "  88.14857422 142.44185686 188.96070324  83.88208677 193.91005268\n",
            " 109.82501923  70.78704353  78.02058122 187.63314062 151.9413469\n",
            " 105.09626521 126.06764442  77.4291014   87.64674285 168.12869934\n",
            " 108.7116037  122.9852015  213.73731743 161.01805094 211.93647277\n",
            " 179.10336709 182.68917166 166.66551607 217.7576879   96.91661603\n",
            " 141.96822352 197.99583787  66.62896585  61.78511898 180.72508154\n",
            " 240.75742051 157.57144205 226.98739552  69.45335457 135.60914618\n",
            " 142.4162344   79.34544665 261.12625147 115.63783085 248.59047217\n",
            " 128.85351105 171.94211224 147.81631803 197.28276999 144.90421213\n",
            "  52.13652075 165.86747185 117.40394351 209.62941183]\n"
          ]
        }
      ],
      "source": [
        "#predict on X_test using function of the class\n",
        "prediction=gd_regeressor.predict(X_test)\n",
        "print(prediction)"
      ],
      "id": "8e5e4410"
    },
    {
      "cell_type": "code",
      "execution_count": null,
      "metadata": {
        "colab": {
          "base_uri": "https://localhost:8080/"
        },
        "id": "84f66db7",
        "outputId": "8037fa7f-26aa-4ee6-c285-2b2bb1c94a02"
      },
      "outputs": [
        {
          "output_type": "stream",
          "name": "stdout",
          "text": [
            "r2_score value from builtin function : 0.585114043418069\n",
            "r2_score from GDregressor : 0.5854792158764848\n"
          ]
        }
      ],
      "source": [
        "#calculate r2_score to verify\n",
        "y_prediction_using_builtinfunc=LR.predict(X_test)\n",
        "default_R2score=r2_score(y_test,y_prediction_using_builtinfunc)\n",
        "print(\"r2_score value from builtin function :\",default_R2score)\n",
        "R2score=r2_score(y_test,prediction)\n",
        "\n",
        "print(\"r2_score from GDregressor :\", R2score)"
      ],
      "id": "84f66db7"
    },
    {
      "cell_type": "code",
      "execution_count": null,
      "metadata": {
        "id": "c8df72af"
      },
      "outputs": [],
      "source": [],
      "id": "c8df72af"
    }
  ],
  "metadata": {
    "colab": {
      "provenance": []
    },
    "kernelspec": {
      "display_name": "Python 3",
      "language": "python",
      "name": "python3"
    },
    "language_info": {
      "codemirror_mode": {
        "name": "ipython",
        "version": 3
      },
      "file_extension": ".py",
      "mimetype": "text/x-python",
      "name": "python",
      "nbconvert_exporter": "python",
      "pygments_lexer": "ipython3",
      "version": "3.8.8"
    }
  },
  "nbformat": 4,
  "nbformat_minor": 5
}