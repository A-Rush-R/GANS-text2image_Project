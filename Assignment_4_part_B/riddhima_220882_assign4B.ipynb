{
  "nbformat": 4,
  "nbformat_minor": 0,
  "metadata": {
    "colab": {
      "provenance": [],
      "gpuType": "T4"
    },
    "kernelspec": {
      "name": "python3",
      "display_name": "Python 3"
    },
    "language_info": {
      "name": "python"
    },
    "accelerator": "GPU"
  },
  "cells": [
    {
      "cell_type": "code",
      "execution_count": null,
      "metadata": {
        "id": "urgfiWQ29uRG",
        "colab": {
          "base_uri": "https://localhost:8080/"
        },
        "outputId": "90f4a6a8-c296-4637-a60f-e65039dbaeb8"
      },
      "outputs": [
        {
          "output_type": "stream",
          "name": "stdout",
          "text": [
            "Looking in indexes: https://pypi.org/simple, https://us-python.pkg.dev/colab-wheels/public/simple/\n",
            "Collecting visualkeras\n",
            "  Downloading visualkeras-0.0.2-py3-none-any.whl (12 kB)\n",
            "Requirement already satisfied: pillow>=6.2.0 in /usr/local/lib/python3.10/dist-packages (from visualkeras) (8.4.0)\n",
            "Requirement already satisfied: numpy>=1.18.1 in /usr/local/lib/python3.10/dist-packages (from visualkeras) (1.22.4)\n",
            "Collecting aggdraw>=1.3.11 (from visualkeras)\n",
            "  Downloading aggdraw-1.3.16-cp310-cp310-manylinux_2_17_x86_64.manylinux2014_x86_64.whl (993 kB)\n",
            "\u001b[2K     \u001b[90m━━━━━━━━━━━━━━━━━━━━━━━━━━━━━━━━━━━━━━\u001b[0m \u001b[32m993.0/993.0 kB\u001b[0m \u001b[31m36.4 MB/s\u001b[0m eta \u001b[36m0:00:00\u001b[0m\n",
            "\u001b[?25hInstalling collected packages: aggdraw, visualkeras\n",
            "Successfully installed aggdraw-1.3.16 visualkeras-0.0.2\n"
          ]
        }
      ],
      "source": [
        "!pip install visualkeras\n",
        "import numpy as np\n",
        "import matplotlib.pyplot as plt\n",
        "import tensorflow as tf\n",
        "import visualkeras\n",
        "from PIL import ImageFont\n"
      ]
    },
    {
      "cell_type": "markdown",
      "source": [
        "### **Do not forget to connect to GPU runtime before training**"
      ],
      "metadata": {
        "id": "h-EBYRkzcmvV"
      }
    },
    {
      "cell_type": "code",
      "source": [
        "#importing the dataset\n",
        "(X_train,Y_train),(X_test,Y_test) = tf.keras.datasets.cifar10.load_data()\n",
        "from sklearn.model_selection import train_test_split\n",
        "X_train,X_test,Y_train,Y_test=train_test_split(X_train,Y_train,test_size=0.3)"
      ],
      "metadata": {
        "id": "7x_d1W4m-PRp",
        "colab": {
          "base_uri": "https://localhost:8080/"
        },
        "outputId": "1dc78d90-5763-43bf-fa45-a17b47eb7bc7"
      },
      "execution_count": null,
      "outputs": [
        {
          "output_type": "stream",
          "name": "stdout",
          "text": [
            "Downloading data from https://www.cs.toronto.edu/~kriz/cifar-10-python.tar.gz\n",
            "170498071/170498071 [==============================] - 13s 0us/step\n"
          ]
        }
      ]
    },
    {
      "cell_type": "code",
      "source": [
        "X_train.shape"
      ],
      "metadata": {
        "id": "QFXXCof1Rbwf",
        "colab": {
          "base_uri": "https://localhost:8080/"
        },
        "outputId": "186311c4-eafd-46d5-e167-e21f44e80183"
      },
      "execution_count": null,
      "outputs": [
        {
          "output_type": "execute_result",
          "data": {
            "text/plain": [
              "(35000, 32, 32, 3)"
            ]
          },
          "metadata": {},
          "execution_count": 3
        }
      ]
    },
    {
      "cell_type": "code",
      "source": [
        "# Normalizing the values between -1 and 1\n",
        "\n",
        "X_train  = X_train/255\n",
        "X_test = X_test/255"
      ],
      "metadata": {
        "id": "tFbLM_wBDWRJ"
      },
      "execution_count": null,
      "outputs": []
    },
    {
      "cell_type": "code",
      "source": [
        "# Create an ImageDataGenerator object with given augmentation settings(just an instance)\n",
        "\n",
        "datagen = tf.keras.preprocessing.image.ImageDataGenerator(\n",
        "    rotation_range=20,      # Random rotation within the range of [-20, 20] degrees\n",
        "    width_shift_range=0.1,  # Random horizontal shift within the range of [-0.1, 0.1] of the total width\n",
        "    height_shift_range=0.1, # Random vertical shift within the range of [-0.1, 0.1] of the total height\n",
        "    shear_range=0.2,        # Random shearing transformations within the range of [-0.2, 0.2]\n",
        "    zoom_range=0.2,         # Random zoom within the range of [0.8, 1.2]\n",
        "    horizontal_flip=True,   # Randomly flip inputs horizontally\n",
        "    fill_mode='nearest' ,    # Fill any newly created pixels with the nearest available pixel value\n",
        "    validation_split=0.2  # Split 20% of the data for validation\n",
        ")\n",
        "\n",
        "# Apply data augmentation to the training data\n",
        "augmented_images = datagen.flow(X_train, Y_train)\n",
        "\n",
        "# creating the validation data\n",
        "validation_data = datagen.flow(X_train, Y_train, subset='validation')"
      ],
      "metadata": {
        "id": "f5cd4XTEBHtB"
      },
      "execution_count": null,
      "outputs": []
    },
    {
      "cell_type": "markdown",
      "source": [
        "## **`This is an Open assignment with minimum instructions`**\n",
        "You are allowed to search all over the web--> find any articles or implement them--> try your experiments\n",
        "\n",
        "> **---> create the model**\\\n",
        "**---> tune the hyperparameters like learning_rate, filter/kernel size**\\\n",
        "**---> optimize the result**\n"
      ],
      "metadata": {
        "id": "QvBuEuh4c7V6"
      }
    },
    {
      "cell_type": "code",
      "source": [
        "\"\"\"\n",
        "You have got some experience form last assignment '\n",
        "Use that experience this time\n",
        "\"\"\""
      ],
      "metadata": {
        "id": "J9Bqkf61fGz4"
      },
      "execution_count": null,
      "outputs": []
    },
    {
      "cell_type": "code",
      "source": [
        "#@title **IMPORTANT ANNOUNCEMENT**\n",
        "\"\"\"\n",
        "Now with this much freedom, you can do anything\n",
        "So make sure you understand what you do and after the end of this assignment\n",
        " you will have explain all the code you tried in a viva exam\n",
        " this will be the mid term evaluation.\n",
        "\"\"\""
      ],
      "metadata": {
        "id": "dYfJtQTAdyLh"
      },
      "execution_count": null,
      "outputs": []
    },
    {
      "cell_type": "markdown",
      "source": [
        "## **YOUR EFFORTS WILL COUNT MORE THE RESULTS YOU GET**\n",
        "> **So make sure all the time you spent on this notebook should be visible from the notebook**"
      ],
      "metadata": {
        "id": "8dJ4qpyjek7L"
      }
    },
    {
      "cell_type": "code",
      "source": [
        "\"\"\"\n",
        "Question: What is Batch Normalization? Why is it used for? How does it fix the\n",
        "problem it is used for? [ Answer in atleast 300 words]\n",
        "<cite your sources>\n",
        "\n",
        "Answer:\n",
        "Batch normalization, it is a process to make neural networks faster and more stable through adding extra layers in a deep neural network.\n",
        "The new layer performs the standardizing and normalizing operations on the input of a layer coming from a previous layer.A typical neural network is trained using\n",
        "a collected set of input data called batch. Similarly, the normalizing process in batch normalization takes place in batches, not as a single input.\n",
        "In Batch Normalisation first the input is normalized, and later rescaling and offsetting is performed.Normalization is the process of transforming the data to have a mean zero and standard deviation one.\n",
        "To enhance the stability of a deep learning network, batch normalization affects the output of the previous activation layer by subtracting the batch mean,\n",
        "and then dividing by the batch’s standard deviation.\n",
        "\n",
        "Since this shifting or scaling of outputs by a randomly initialized parameter reduces the accuracy of the weights in the next layer,\n",
        "a stochastic gradient descent is applied to remove this normalization if the loss function is too high.\n",
        "\n",
        "The end result is batch normalization adds two additional trainable parameters to a layer: The normalized output that’s multiplied by a gamma (standard deviation) parameter,\n",
        "and the additional beta (mean) parameter. This is why batch normalization works together with gradient descents so that data can be “denormalized” by simply changing just these two weights for each output.\n",
        "This lead to less data loss and increased stability across the network by changing all the other relevant weights.\n",
        "This approach leads to faster learning rates since normalization ensures there’s no activation value that’s too high or too low, as well as allowing each layer to learn independently of the others.\n",
        "Normalizing inputs reduces the “dropout” rate, or data lost between processing layers. Which significantly improves accuracy throughout the network.\n",
        "\n",
        "source:--https://www.analyticsvidhya.com/blog/2021/03/introduction-to-batch-normalization/\n",
        "source:--https://deepai.org/machine-learning-glossary-and-terms/batch-normalization\n",
        "\n"
      ],
      "metadata": {
        "id": "E92b0edzffZn"
      },
      "execution_count": null,
      "outputs": []
    },
    {
      "cell_type": "code",
      "source": [
        "\"\"\"\n",
        "Tutorial: https://www.tensorflow.org/tutorials/images/classification\n",
        "\n",
        "Above tutorial does exactly the same job\n",
        "But I will zero marks for exact same model used in the tutorial\n",
        "\n",
        "You need experiment with different layers and all those\n",
        "experiments should be visible by your notebooks\n",
        "\"\"\""
      ],
      "metadata": {
        "id": "EQppujL4gyZZ"
      },
      "execution_count": null,
      "outputs": []
    },
    {
      "cell_type": "code",
      "source": [
        "# model initialization\n",
        "model = tf.keras.Sequential()\n",
        "\n",
        "# Intermediate layers\n",
        "model.add(tf.keras.layers.Dense(64, activation='relu'))\n",
        "\n",
        "model.add(tf.keras.layers.Dense(128, activation='relu'))\n",
        "\n",
        "model.add(tf.keras.layers.Dense(256, activation='relu'))\n",
        "\n",
        "model.add(tf.keras.layers.Dense(128, activation='relu'))\n",
        "\n",
        "\n",
        "model.add(tf.keras.layers.Dense(64, activation='relu'))\n",
        "\n",
        "\n",
        "\n",
        "\n",
        "\n",
        "\n",
        "\n",
        "\n",
        "\n",
        "\n",
        "# final layer\n",
        "model.add(tf.keras.layers.Dense(10, activation='softmax'))"
      ],
      "metadata": {
        "id": "R6NlKl-bB74H"
      },
      "execution_count": null,
      "outputs": []
    },
    {
      "cell_type": "code",
      "source": [
        "model.summary()"
      ],
      "metadata": {
        "id": "R5hokZZ1FaDI"
      },
      "execution_count": null,
      "outputs": []
    },
    {
      "cell_type": "code",
      "source": [
        "#@title Visualization\n",
        "\n",
        "# just run this cell as it is\n",
        "tf.keras.utils.plot_model(model, to_file='cnn_plot.png', show_shapes=True, show_layer_names=True)"
      ],
      "metadata": {
        "id": "UdIOuHAyEEUp",
        "colab": {
          "base_uri": "https://localhost:8080/",
          "height": 207
        },
        "outputId": "15858581-7bd1-4c1f-ba89-4428c7d34b59"
      },
      "execution_count": null,
      "outputs": [
        {
          "output_type": "error",
          "ename": "NameError",
          "evalue": "ignored",
          "traceback": [
            "\u001b[0;31m---------------------------------------------------------------------------\u001b[0m",
            "\u001b[0;31mNameError\u001b[0m                                 Traceback (most recent call last)",
            "\u001b[0;32m<ipython-input-6-f1271fd15ff6>\u001b[0m in \u001b[0;36m<cell line: 4>\u001b[0;34m()\u001b[0m\n\u001b[1;32m      2\u001b[0m \u001b[0;34m\u001b[0m\u001b[0m\n\u001b[1;32m      3\u001b[0m \u001b[0;31m# just run this cell as it is\u001b[0m\u001b[0;34m\u001b[0m\u001b[0;34m\u001b[0m\u001b[0m\n\u001b[0;32m----> 4\u001b[0;31m \u001b[0mtf\u001b[0m\u001b[0;34m.\u001b[0m\u001b[0mkeras\u001b[0m\u001b[0;34m.\u001b[0m\u001b[0mutils\u001b[0m\u001b[0;34m.\u001b[0m\u001b[0mplot_model\u001b[0m\u001b[0;34m(\u001b[0m\u001b[0mmodel\u001b[0m\u001b[0;34m,\u001b[0m \u001b[0mto_file\u001b[0m\u001b[0;34m=\u001b[0m\u001b[0;34m'cnn_plot.png'\u001b[0m\u001b[0;34m,\u001b[0m \u001b[0mshow_shapes\u001b[0m\u001b[0;34m=\u001b[0m\u001b[0;32mTrue\u001b[0m\u001b[0;34m,\u001b[0m \u001b[0mshow_layer_names\u001b[0m\u001b[0;34m=\u001b[0m\u001b[0;32mTrue\u001b[0m\u001b[0;34m)\u001b[0m\u001b[0;34m\u001b[0m\u001b[0;34m\u001b[0m\u001b[0m\n\u001b[0m",
            "\u001b[0;31mNameError\u001b[0m: name 'model' is not defined"
          ]
        }
      ]
    },
    {
      "cell_type": "code",
      "source": [
        "# just run this cell as it is\n",
        "visualkeras.layered_view(model, legend=True)"
      ],
      "metadata": {
        "id": "zllpup2ZEW1Q",
        "colab": {
          "base_uri": "https://localhost:8080/",
          "height": 189
        },
        "outputId": "696a157b-4814-4054-cefe-0a82f2b40e63"
      },
      "execution_count": null,
      "outputs": [
        {
          "output_type": "error",
          "ename": "NameError",
          "evalue": "ignored",
          "traceback": [
            "\u001b[0;31m---------------------------------------------------------------------------\u001b[0m",
            "\u001b[0;31mNameError\u001b[0m                                 Traceback (most recent call last)",
            "\u001b[0;32m<ipython-input-7-efed57207df7>\u001b[0m in \u001b[0;36m<cell line: 2>\u001b[0;34m()\u001b[0m\n\u001b[1;32m      1\u001b[0m \u001b[0;31m# just run this cell as it is\u001b[0m\u001b[0;34m\u001b[0m\u001b[0;34m\u001b[0m\u001b[0m\n\u001b[0;32m----> 2\u001b[0;31m \u001b[0mvisualkeras\u001b[0m\u001b[0;34m.\u001b[0m\u001b[0mlayered_view\u001b[0m\u001b[0;34m(\u001b[0m\u001b[0mmodel\u001b[0m\u001b[0;34m,\u001b[0m \u001b[0mlegend\u001b[0m\u001b[0;34m=\u001b[0m\u001b[0;32mTrue\u001b[0m\u001b[0;34m)\u001b[0m\u001b[0;34m\u001b[0m\u001b[0;34m\u001b[0m\u001b[0m\n\u001b[0m",
            "\u001b[0;31mNameError\u001b[0m: name 'model' is not defined"
          ]
        }
      ]
    },
    {
      "cell_type": "code",
      "source": [
        "\"\"\"\n",
        "In the last part of the assignment\n",
        "try experimenting with learning rate.\n",
        "May be decreasing the lr might had help?\n",
        "\"\"\"\n",
        "\n",
        "model.compile(optimizer = tf.keras.optimizers.Adam(learning_rate=0.001),\n",
        "                  loss = tf.keras.losses.SparseCategoricalCrossentropy(from_logits=True),\n",
        "                  metrics=['accuracy'])"
      ],
      "metadata": {
        "id": "OnEXCG4gEv4Z",
        "colab": {
          "base_uri": "https://localhost:8080/",
          "height": 244
        },
        "outputId": "18e98274-02fa-4ea3-a600-931368857a28"
      },
      "execution_count": null,
      "outputs": [
        {
          "output_type": "error",
          "ename": "NameError",
          "evalue": "ignored",
          "traceback": [
            "\u001b[0;31m---------------------------------------------------------------------------\u001b[0m",
            "\u001b[0;31mNameError\u001b[0m                                 Traceback (most recent call last)",
            "\u001b[0;32m<ipython-input-8-b036b2498973>\u001b[0m in \u001b[0;36m<cell line: 7>\u001b[0;34m()\u001b[0m\n\u001b[1;32m      5\u001b[0m \"\"\"\n\u001b[1;32m      6\u001b[0m \u001b[0;34m\u001b[0m\u001b[0m\n\u001b[0;32m----> 7\u001b[0;31m model.compile(optimizer = tf.keras.optimizers.Adam(learning_rate=0.001),\n\u001b[0m\u001b[1;32m      8\u001b[0m                   \u001b[0mloss\u001b[0m \u001b[0;34m=\u001b[0m \u001b[0mtf\u001b[0m\u001b[0;34m.\u001b[0m\u001b[0mkeras\u001b[0m\u001b[0;34m.\u001b[0m\u001b[0mlosses\u001b[0m\u001b[0;34m.\u001b[0m\u001b[0mSparseCategoricalCrossentropy\u001b[0m\u001b[0;34m(\u001b[0m\u001b[0mfrom_logits\u001b[0m\u001b[0;34m=\u001b[0m\u001b[0;32mTrue\u001b[0m\u001b[0;34m)\u001b[0m\u001b[0;34m,\u001b[0m\u001b[0;34m\u001b[0m\u001b[0;34m\u001b[0m\u001b[0m\n\u001b[1;32m      9\u001b[0m                   metrics=['accuracy'])\n",
            "\u001b[0;31mNameError\u001b[0m: name 'model' is not defined"
          ]
        }
      ]
    },
    {
      "cell_type": "code",
      "source": [
        "# This is another way of dealing with the generated data\n",
        "# both X_train and Y_train are inside the augmented image\n",
        "\n",
        "history = model.fit(augmented_images, epochs=10,validation_data = validation_data)"
      ],
      "metadata": {
        "id": "KiNN6SYMFBgI"
      },
      "execution_count": null,
      "outputs": []
    },
    {
      "cell_type": "code",
      "source": [
        "plt.plot(history.history['accuracy'],label=\"Train accuracy\")\n",
        "plt.plot(history.history['val_accuracy'], label = \"Validation accuracy\")\n",
        "plt.legend()"
      ],
      "metadata": {
        "id": "Q9QQWplIFJUI"
      },
      "execution_count": null,
      "outputs": []
    },
    {
      "cell_type": "code",
      "source": [
        "model.evaluate(X_test,Y_test)"
      ],
      "metadata": {
        "id": "6kZ4-pgwfZHn"
      },
      "execution_count": null,
      "outputs": []
    },
    {
      "cell_type": "markdown",
      "source": [
        "## **TRY DIFFERENT MODELS AND COMPARE THE RESULTS**"
      ],
      "metadata": {
        "id": "u4sAtMyYeWT9"
      }
    },
    {
      "cell_type": "code",
      "source": [],
      "metadata": {
        "id": "HPEDcHoWeVOr"
      },
      "execution_count": null,
      "outputs": []
    }
  ]
}