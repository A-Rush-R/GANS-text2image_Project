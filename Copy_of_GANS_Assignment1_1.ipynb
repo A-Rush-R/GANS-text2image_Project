{
  "nbformat": 4,
  "nbformat_minor": 0,
  "metadata": {
    "colab": {
      "provenance": []
    },
    "kernelspec": {
      "name": "python3",
      "display_name": "Python 3"
    },
    "language_info": {
      "name": "python"
    }
  },
  "cells": [
    {
      "cell_type": "markdown",
      "source": [
        "Instructions for the assignment\n",
        "\n",
        "\n",
        "*   Fill the codeblocks according to the comments given\n",
        "*   Hints are given wherever required\n",
        "*   Please note that copying will not be tolerated, and appropriate action will be taken if we suspect any misconduct.\n",
        "*   You're welcome to utilize any online resources in case you feel stuck anywhere :-)\n",
        "\n",
        "\n",
        "\n",
        "\n",
        "\n",
        "\n",
        "\n"
      ],
      "metadata": {
        "id": "kIAcUXNYVeGR"
      }
    },
    {
      "cell_type": "markdown",
      "source": [
        "# Section A *(2 Marks each)*"
      ],
      "metadata": {
        "id": "UhXvUdK6Stt_"
      }
    },
    {
      "cell_type": "markdown",
      "source": [
        "## NumPy (Numerical Python)\n",
        "**bold text**\n",
        "### Multidimensional array object\n",
        "- Array is a grid of homogeneous elements which can be indexed in various ways \n",
        "- Different from Python list which can store different data types\n",
        "- NumPy stores multidimensional arrays as an instance of **ndarray** \n",
        "\n"
      ],
      "metadata": {
        "id": "oc77CrhjAGlR"
      }
    },
    {
      "cell_type": "code",
      "source": [
        "import numpy as np"
      ],
      "metadata": {
        "id": "WGtRigfyBpgb"
      },
      "execution_count": null,
      "outputs": []
    },
    {
      "cell_type": "code",
      "execution_count": null,
      "metadata": {
        "id": "UR9ftRnU8_lu"
      },
      "outputs": [],
      "source": [
        "# Python list to initialize a one dimensional NumPy array of numbers 1 to 5 and then print it \n",
        "\n",
        "a = [1, 2, 3, 4, 5]\n",
        "b= np.array(a)\n",
        "print(b)\n",
        "# Python list to initialize a two dimensional NumPy array of shape [3,3] and then print it \n",
        "a = []\n",
        "b= np.array(a, size=(3,3))\n",
        "print(b)\n"
      ]
    },
    {
      "cell_type": "code",
      "source": [
        "# Write a NumPy function to create an array with random values of shape [3,4]\n",
        "f=np.random.rand(3,4)\n",
        "\n",
        "# Write a NumPy function to create an array with all elements initialized as zero of shape [3,4]\n",
        "g=np.zeros(3,4)\n",
        "\n",
        "# Write a NumPy function to create an array with all elements initialized as ones of shape [3,4]\n",
        "h= np.ones(3,4)\n"
      ],
      "metadata": {
        "id": "WZf-M7KnBkhu"
      },
      "execution_count": null,
      "outputs": []
    },
    {
      "cell_type": "code",
      "source": [
        "# Write a NumPy function to create an array containing a range of evenly spaced intervals\n",
        "# Hint : Use np.arange or np.linspace"
      ],
      "metadata": {
        "id": "Uagv5WtWBknb"
      },
      "execution_count": null,
      "outputs": []
    },
    {
      "cell_type": "markdown",
      "source": [
        "### Basic array operations\n",
        "- algebraic operations \n",
        "- logical operations"
      ],
      "metadata": {
        "id": "dFeKiGA5CNXx"
      }
    },
    {
      "cell_type": "code",
      "source": [
        "a = np.array([[-4,6,8], [9, 3, 1], [1, 8, 5]])\n",
        "b = np.array([[11,16,18], [90, 37, 81], [61, 48, 75]])"
      ],
      "metadata": {
        "id": "mZbgCNnRDVbV"
      },
      "execution_count": null,
      "outputs": []
    },
    {
      "cell_type": "code",
      "source": [
        "# Write a NumPy function to add, subtract, multiply and divide arrays 'a' and 'b'\n",
        "def array_operations(a, b):\n",
        "    # addition\n",
        "    addn = np.add(a, b)\n",
        "    print(\"Addition :\\n\", addn)\n",
        "    \n",
        "    # subtraction\n",
        "    subn = np.subtract(a, b)\n",
        "    print(\"Subtraction :\\n\", subn)\n",
        "    \n",
        "    # multiplication\n",
        "    muln = np.multiply(a, b)\n",
        "    print(\"Multiplication :\\n\", muln)\n",
        "    \n",
        "    # division\n",
        "    divn = np.divide(a, b)\n",
        "    print(\"Division :\\n\", divn)"
      ],
      "metadata": {
        "id": "QajfAkNHCMqe"
      },
      "execution_count": null,
      "outputs": []
    },
    {
      "cell_type": "code",
      "source": [
        "# Write a NumPy function to get the sum of the array 'a' along axis=0 \n",
        "def sumaxis0(a):\n",
        "    sumn = np.sum(a, axis=0)\n",
        "    print(\"Sum along axis 0:\", sumn)\n",
        "\n",
        "\n",
        "# Write a NumPy function to get the sum of the array 'a' along axis=1 \n",
        "def sumaxis1(a):\n",
        "    sumn = np.sum(a, axis=1)\n",
        "    print(\"Sum along axis 1:\", sumn)\n",
        "\n"
      ],
      "metadata": {
        "id": "hfBR7r80C_qh"
      },
      "execution_count": null,
      "outputs": []
    },
    {
      "cell_type": "code",
      "source": [
        "# Write a NumPy function to reverse the array 'a' \n",
        "def reversearray(a):\n",
        "    reversedarray = np.flip(a)\n",
        "    print(\"Reversed array:\\n\", reversedarray)\n",
        "\n",
        "\n",
        "# Write a NumPy function to reverse the array 'a' along axis=0\n",
        "def reversearray(a):\n",
        "    reversedarray = np.flip(a, axis=0)\n",
        "    print(\"Reversed array:\\n\", reversedarray)\n",
        "\n",
        "# Write a NumPy function to reverse the array 'a' along axis=1\n",
        "def reversearray(a):\n",
        "    reversedarray = np.flip(a, axis=1)\n",
        "    print(\"Reversed array:\\n\", reversedarray)\n"
      ],
      "metadata": {
        "id": "rBTxfTuFDSiA"
      },
      "execution_count": null,
      "outputs": []
    },
    {
      "cell_type": "markdown",
      "source": [
        "### Sorting and concatenation\n",
        "- sort arrays\n",
        "- join multiple arrays\n"
      ],
      "metadata": {
        "id": "WnCvXc3jCdWH"
      }
    },
    {
      "cell_type": "code",
      "source": [
        "a = np.array([[-4,6,8], [9, 3, 1], [1, 8, 5]])\n",
        "b = np.array([[11,16,18], [90, 37, 81], [61, 48, 75]])"
      ],
      "metadata": {
        "id": "Qsg-EPq7EbPx"
      },
      "execution_count": null,
      "outputs": []
    },
    {
      "cell_type": "code",
      "source": [
        "# \n",
        "def sortarray(a):\n",
        "    sortedarray = np.sort(a)\n",
        "    print(\"Sorted array:\\n\", sortedarray)\n",
        " \n",
        "\n",
        "# Write a NumPy function to sort the array 'a' along axis=0\n",
        "def sortarray(a):\n",
        "    sortedarray = np.sort(a, axis=0)\n",
        "    print(\"Sorted array:\\n\", sortedarray)\n",
        "\n",
        "# Write a NumPy function to sort the array 'a' along axis=1\n",
        "def sortarray(a):\n",
        "    sortedarray = np.sort(a, axis=1)\n",
        "    print(\"Sorted array:\\n\", sortedarray)\n",
        "\n",
        "# Write a NumPy function to sort the array 'a' in descending order along axis=0\n",
        "def reversesortarray(a):\n",
        "    b = np.sort(a, axis=0)\n",
        "    c=  np.flip(b, axis=0)\n",
        "    print(\"Reverse Sorted array:\\n\", c)\n",
        "\n",
        " \n"
      ],
      "metadata": {
        "id": "_7VfP1anCc0O"
      },
      "execution_count": null,
      "outputs": []
    },
    {
      "cell_type": "code",
      "source": [
        "# Write a NumPy function to argsort the array along axis=0\n",
        "def argsortax0(a):\n",
        "    indices = np.argsort(a, axis=0)\n",
        "    print(\"Argsorted indices along axis 0:\\n\", indices)\n",
        "\n",
        "\n",
        "# Write a NumPy function to argsort the array along axis=1\n",
        "def argsortax1(a):\n",
        "    indices = np.argsort(a, axis=1)\n",
        "    print(\"Argsorted indices along axis 1:\\n\", indices)\n"
      ],
      "metadata": {
        "id": "6BqbtdLYEWng"
      },
      "execution_count": null,
      "outputs": []
    },
    {
      "cell_type": "code",
      "source": [
        "# Write a NumPy function to concatenate the arrays 'a' and 'b'\n",
        "def concat(a, b):\n",
        "    c = np.concatenate((a, b), )\n",
        "    print(\"Concatenated array:\\n\", c)\n",
        "\n",
        "# Write a NumPy function to concatenate the arrays 'a' and 'b' along axis = 0\n",
        "def concat(a, b):\n",
        "    c = np.concatenate((a, b), axis=0)\n",
        "    print(\"Concatenated array:\\n\", c)\n",
        "\n",
        "# Note: You can do the same function using stacking, discover and try that :)\n"
      ],
      "metadata": {
        "id": "cixOoXZhEY8-"
      },
      "execution_count": null,
      "outputs": []
    },
    {
      "cell_type": "markdown",
      "source": [
        "### Reshaping arrays\n",
        "- the number of dimensions of the array\n",
        "-  shape of n-dimensional array as a tuple with n elements s.t. $i^{th}$ element is the length of the $i^{th}$ dimension of the array\n",
        "- total number of elements of the array\n",
        "- reshapes the array\n",
        "- flattens multidimensional array into a 1D array\n",
        "- adds new dimensions to the array"
      ],
      "metadata": {
        "id": "aY0j33z2EjNx"
      }
    },
    {
      "cell_type": "code",
      "source": [
        "a = np.array([[4,6,8], [9, 3, 1], [1, 8, 5]])"
      ],
      "metadata": {
        "id": "sStUkoh1FG4N"
      },
      "execution_count": null,
      "outputs": []
    },
    {
      "cell_type": "code",
      "source": [
        "# \n",
        "def dimensions(a):\n",
        "    \n",
        "    print(a.ndim)\n",
        "\n",
        "\n",
        "# Write a NumPy function to get the Shape of the array  \n",
        "def shape(a):\n",
        "    \n",
        "    print(a.shape)\n",
        "\n",
        "# Write a NumPy function to get the Size of the array\n",
        "def size(a):\n",
        "    \n",
        "    print(a.size*a.itemsize)\n",
        "\n",
        "\n"
      ],
      "metadata": {
        "id": "vb35oi57Ev1f"
      },
      "execution_count": null,
      "outputs": []
    },
    {
      "cell_type": "code",
      "source": [
        "# Write a NumPy function to Reshape the array 'a' to the dimension (1,9)\n",
        "def resh(a):\n",
        "b=a.reshape(1,9)\n",
        "print(b)\n"
      ],
      "metadata": {
        "id": "MznU0NWKE54c"
      },
      "execution_count": null,
      "outputs": []
    },
    {
      "cell_type": "code",
      "source": [
        "# Write a NumPy function to add a new axis to the array 'a' \n",
        "# Note : Show atleast two different ways of doing this \n"
      ],
      "metadata": {
        "id": "p1dlxcNYE8tv"
      },
      "execution_count": null,
      "outputs": []
    },
    {
      "cell_type": "markdown",
      "source": [
        "### Indexing and slicing\n",
        "- NumPy allows indexing array using tuple of nonnegative integers, booleans, array or integers"
      ],
      "metadata": {
        "id": "Ng4xWkwpFtao"
      }
    },
    {
      "cell_type": "code",
      "source": [
        "a = np.array([[4,6,0], [0, 3, 1], [1, 8, 5]])"
      ],
      "metadata": {
        "id": "swrtOhPGGB7r"
      },
      "execution_count": null,
      "outputs": []
    },
    {
      "cell_type": "code",
      "source": [
        "# Write a NumPy function to index and slice NumPy arrays similar to Python lists\n",
        "# Show all three - indexing by a integer, indexing by a tuple, using range\n"
      ],
      "metadata": {
        "id": "w3QaVYRyFs77"
      },
      "execution_count": null,
      "outputs": []
    },
    {
      "cell_type": "code",
      "source": [
        "# Write a NumPy function to select values satisfying a specific condition like Values greater than 4 \n",
        "\n",
        "# Write a NumPy function to select values satisfying mulitple conditions like Values greater than 4 and divisible by 2\n"
      ],
      "metadata": {
        "id": "Xn2_z5h-Fmrd"
      },
      "execution_count": null,
      "outputs": []
    },
    {
      "cell_type": "markdown",
      "source": [
        "### Copying arrays\n",
        "- new array object with a copy of the data\n",
        "- Changes made in the copy array is not reflected in the original array"
      ],
      "metadata": {
        "id": "GWU0EfaAG2ll"
      }
    },
    {
      "cell_type": "code",
      "source": [
        "a = np.array([[4,6,0], [0, 3, 1], [1, 8, 5]])"
      ],
      "metadata": {
        "id": "ijdgy02lHMJW"
      },
      "execution_count": null,
      "outputs": []
    },
    {
      "cell_type": "code",
      "source": [
        "# Write a NumPy function to copy the array 'a' and finally print an array where all elements are increased by 1\n"
      ],
      "metadata": {
        "id": "FmgUdh66GuQH"
      },
      "execution_count": null,
      "outputs": []
    },
    {
      "cell_type": "markdown",
      "source": [
        "## Pandas ( Python Data Analysis Library)\n",
        "\n",
        "### Main Features\n",
        "- Easy handling of missing data in both floating point and non-floating point data.\n",
        "- Automatic and explicit data alignment, making it easy to perform computations and transformations on data sets.\n",
        "\n"
      ],
      "metadata": {
        "id": "M1KLD5QxHsVw"
      }
    },
    {
      "cell_type": "markdown",
      "source": [
        "#### Generating the dataset "
      ],
      "metadata": {
        "id": "v1CuU3FeIq1a"
      }
    },
    {
      "cell_type": "markdown",
      "source": [
        "Run the following load command to get the 2-Dim iris dataset. Do the following operations on it and please dont edit this cell"
      ],
      "metadata": {
        "id": "fp36ZqOMIy7k"
      }
    },
    {
      "cell_type": "code",
      "source": [
        "url = 'https://archive.ics.uci.edu/ml/machine-learning-databases/iris/iris.data'\n",
        "iris_2d = np.genfromtxt(url, delimiter=',', dtype='float', usecols=[0,1,2,3])"
      ],
      "metadata": {
        "id": "A_O5RTBXIyK-"
      },
      "execution_count": null,
      "outputs": []
    },
    {
      "cell_type": "markdown",
      "source": [
        "#### Basic Data Analysis"
      ],
      "metadata": {
        "id": "EILb6pPrS8Ju"
      }
    },
    {
      "cell_type": "code",
      "source": [
        "# Write a Pandas function to drop rows that contain a missing value. \n",
        "def missval(df):\n",
        "    df_dropped = df.dropna()\n",
        "    print(df_dropped)\n"
      ],
      "metadata": {
        "id": "bViO1LLoI7sz"
      },
      "execution_count": null,
      "outputs": []
    },
    {
      "cell_type": "code",
      "source": [
        "# Write a Pandas function to find the correlation between the first two columns.\n",
        "def cor(df):\n",
        "    correlation = df.iloc[:, 0:2].corr()\n",
        "    print(correlation)"
      ],
      "metadata": {
        "id": "zp_BYv5EJDjJ"
      },
      "execution_count": null,
      "outputs": []
    },
    {
      "cell_type": "code",
      "source": [
        "# Write a Pandas function to find the mean, median and standard deviation of column 3.\n",
        "def mmstd(df):\n",
        "    mean = df['column_3'].mean()\n",
        "    median = df['column_3'].median()\n",
        "    std = df['column_3'].std()\n",
        "    print(\"Mean of column 3:\", mean)\n",
        "    print(\"Median of column 3:\", median)\n",
        "    print(\"Standard deviation of column 3:\", std)\n"
      ],
      "metadata": {
        "id": "0mjeoZCwJDoW"
      },
      "execution_count": null,
      "outputs": []
    },
    {
      "cell_type": "code",
      "source": [
        "# Write a Pandas function to create a new column for volume in iris_2d, where volume is (pi x petallength x sepal_length^2)/3\n",
        "# Hints: \n",
        "# 1. Introduce new dimension to match iris_2d's\n",
        "# 2. Add the new column"
      ],
      "metadata": {
        "id": "bRiYEhWTJDrM"
      },
      "execution_count": null,
      "outputs": []
    },
    {
      "cell_type": "markdown",
      "source": [
        "# Section B *(2 Marks each)*"
      ],
      "metadata": {
        "id": "dGqrG93ELEQ3"
      }
    },
    {
      "cell_type": "markdown",
      "source": [
        "###NumPy"
      ],
      "metadata": {
        "id": "OLm8jv7tMH6h"
      }
    },
    {
      "cell_type": "markdown",
      "source": [
        "Q1 Let x = np.arange(4, dtype=np.int64). Create an array of ones with the same shape and type as X."
      ],
      "metadata": {
        "id": "zE1n0x7ZLRLU"
      }
    },
    {
      "cell_type": "code",
      "source": [],
      "metadata": {
        "id": "H8o9C6b7LJzA"
      },
      "execution_count": null,
      "outputs": []
    },
    {
      "cell_type": "markdown",
      "source": [
        "Q2 Let x be an array [1, 2, 3, ..., 9]. Split x into 3 arrays, each of which has 4, 2, and 3 elements in the original order."
      ],
      "metadata": {
        "id": "PPYeTqoHLSNj"
      }
    },
    {
      "cell_type": "code",
      "source": [],
      "metadata": {
        "id": "DS9mr30LLYdg"
      },
      "execution_count": null,
      "outputs": []
    },
    {
      "cell_type": "markdown",
      "source": [
        "Q3 Initiate x as a 2x5 array with random values from 0 to 10(not inclusive).Get the maximum and minimum values and their indices of x along the second axis."
      ],
      "metadata": {
        "id": "b1wJaooRLXjN"
      }
    },
    {
      "cell_type": "code",
      "source": [],
      "metadata": {
        "id": "GnXDqksjLf89"
      },
      "execution_count": null,
      "outputs": []
    },
    {
      "cell_type": "markdown",
      "source": [
        "### Pandas"
      ],
      "metadata": {
        "id": "8_Q7fbyxMMHM"
      }
    },
    {
      "cell_type": "markdown",
      "source": [
        "Run the following load command and solve the following questions"
      ],
      "metadata": {
        "id": "3QpaFHkxJUho"
      }
    },
    {
      "cell_type": "code",
      "source": [
        "url = 'https://archive.ics.uci.edu/ml/machine-learning-databases/iris/iris.data'\n",
        "iris = np.genfromtxt(url, delimiter=',', dtype='object')\n",
        "names = ('sepallength', 'sepalwidth', 'petallength', 'petalwidth', 'species')"
      ],
      "metadata": {
        "id": "mLdcY49iJDtl"
      },
      "execution_count": null,
      "outputs": []
    },
    {
      "cell_type": "markdown",
      "source": [
        "Q4 Write a Pandas function to find the count of unique species."
      ],
      "metadata": {
        "id": "zbDepnx9RtV8"
      }
    },
    {
      "cell_type": "code",
      "source": [],
      "metadata": {
        "id": "oAkO0UnqJDv7"
      },
      "execution_count": null,
      "outputs": []
    },
    {
      "cell_type": "markdown",
      "source": [
        "# Q5 Write a Pandas function to bin the petal length (3rd) column of iris_2d to form a text array, such that if petal length is:\n",
        "- Less than 3 –> ‘small’\n",
        "- 3-5 –> ‘medium’\n",
        "- greater than equal to 5 –> ‘large’"
      ],
      "metadata": {
        "id": "Usj5HlvyRxal"
      }
    },
    {
      "cell_type": "code",
      "source": [],
      "metadata": {
        "id": "gTWWJoLMJDxx"
      },
      "execution_count": null,
      "outputs": []
    },
    {
      "cell_type": "markdown",
      "source": [
        "Q6 Write a Pandas function to find the most frequent value of petal length (3rd column) in iris dataset"
      ],
      "metadata": {
        "id": "IbBYP_8sSBrB"
      }
    },
    {
      "cell_type": "code",
      "source": [],
      "metadata": {
        "id": "DNk_tlVWJufR"
      },
      "execution_count": null,
      "outputs": []
    }
  ]
}