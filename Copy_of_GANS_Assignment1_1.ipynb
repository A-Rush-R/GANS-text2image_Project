{
  "nbformat": 4,
  "nbformat_minor": 0,
  "metadata": {
    "colab": {
      "provenance": []
    },
    "kernelspec": {
      "name": "python3",
      "display_name": "Python 3"
    },
    "language_info": {
      "name": "python"
    }
  },
  "cells": [
    {
      "cell_type": "markdown",
      "source": [
        "Instructions for the assignment\n",
        "\n",
        "\n",
        "*   Fill the codeblocks according to the comments given\n",
        "*   Hints are given wherever required\n",
        "*   Please note that copying will not be tolerated, and appropriate action will be taken if we suspect any misconduct.\n",
        "*   You're welcome to utilize any online resources in case you feel stuck anywhere :-)\n",
        "\n",
        "\n",
        "\n",
        "\n",
        "\n",
        "\n",
        "\n"
      ],
      "metadata": {
        "id": "kIAcUXNYVeGR"
      }
    },
    {
      "cell_type": "markdown",
      "source": [
        "# Section A *(2 Marks each)*"
      ],
      "metadata": {
        "id": "UhXvUdK6Stt_"
      }
    },
    {
      "cell_type": "markdown",
      "source": [
        "## NumPy (Numerical Python)\n",
        "**bold text**\n",
        "### Multidimensional array object\n",
        "- Array is a grid of homogeneous elements which can be indexed in various ways \n",
        "- Different from Python list which can store different data types\n",
        "- NumPy stores multidimensional arrays as an instance of **ndarray** \n",
        "\n"
      ],
      "metadata": {
        "id": "oc77CrhjAGlR"
      }
    },
    {
      "cell_type": "code",
      "source": [
        "import numpy as np"
      ],
      "metadata": {
        "id": "WGtRigfyBpgb"
      },
      "execution_count": null,
      "outputs": []
    },
    {
      "cell_type": "code",
      "execution_count": null,
      "metadata": {
        "id": "UR9ftRnU8_lu",
        "colab": {
          "base_uri": "https://localhost:8080/"
        },
        "outputId": "30b52ff8-fad0-4253-c749-b0d20ded235f"
      },
      "outputs": [
        {
          "output_type": "stream",
          "name": "stdout",
          "text": [
            "[1 2 3 4 5]\n"
          ]
        }
      ],
      "source": [
        "#  python list to initialize a one dimensional NumPy array of numbers 1 to 5 and then print it \n",
        "my_list = [1, 2, 3, 4, 5]\n",
        "my_array = np.array(my_list)\n",
        "\n",
        "print(my_array)\n",
        "\n",
        "\n",
        "\n",
        "# Python list to initialize a two dimensional NumPy array of shape [3,3] and then print it "
      ]
    },
    {
      "cell_type": "code",
      "source": [
        "# Write a NumPy function to create an array with random values of shape [3,4]\n",
        "def create_random_array():\n",
        "    \"\"\"\n",
        "    Create a NumPy array with random values of shape [3,4]\n",
        "    \"\"\"\n",
        "    return np.random.rand(3, 4)\n",
        "    # Example usage\n",
        "my_array = create_random_array()\n",
        "print(my_array)\n",
        "\n",
        "# Write a NumPy function to create an array with all elements initialized as zero of shape [3,4]\n",
        "def create_zero_array():\n",
        "    \"\"\"\n",
        "    Create a NumPy array with all elements initialized as zero of shape [3,4]\n",
        "    \"\"\"\n",
        "    return np.zeros((3, 4))\n",
        "\n",
        "# Example usage\n",
        "my_array = create_zero_array()\n",
        "print(my_array)\n",
        "\n",
        "# Write a NumPy function to create an array with all elements initialized as ones of shape [3,4] \n",
        "def create_ones_array():\n",
        "    \"\"\"\n",
        "    Create a NumPy array with all elements initialized as one of shape [3,4]\n",
        "    \"\"\"\n",
        "    return np.ones((3, 4))\n",
        "\n",
        "# Example usage\n",
        "my_array = create_ones_array()\n",
        "print(my_array)"
      ],
      "metadata": {
        "id": "WZf-M7KnBkhu",
        "colab": {
          "base_uri": "https://localhost:8080/"
        },
        "outputId": "f320f8ef-9bcb-4e48-a222-902e2040671b"
      },
      "execution_count": null,
      "outputs": [
        {
          "output_type": "stream",
          "name": "stdout",
          "text": [
            "[[0.53809393 0.88175423 0.87365257 0.32228238]\n",
            " [0.1951354  0.4966979  0.56293927 0.43299562]\n",
            " [0.01459085 0.67752021 0.07550661 0.08835605]]\n",
            "[[0. 0. 0. 0.]\n",
            " [0. 0. 0. 0.]\n",
            " [0. 0. 0. 0.]]\n",
            "[[1. 1. 1. 1.]\n",
            " [1. 1. 1. 1.]\n",
            " [1. 1. 1. 1.]]\n"
          ]
        }
      ]
    },
    {
      "cell_type": "code",
      "source": [
        "# Write a NumPy function to create an array containing a range of evenly spaced intervals\n",
        "import numpy as np\n",
        "\n",
        "def create_range_array(start, stop, step):\n",
        "    \"\"\"\n",
        "    Create a NumPy array containing a range of evenly spaced intervals\n",
        "    \"\"\"\n",
        "    return np.arange(start, stop, step)\n",
        "\n",
        "# Example usage\n",
        "my_array = create_range_array(0, 10, 2)\n",
        "print(my_array)\n",
        "\n",
        "# Hint : Use np.arange or np.linspace"
      ],
      "metadata": {
        "id": "Uagv5WtWBknb",
        "colab": {
          "base_uri": "https://localhost:8080/"
        },
        "outputId": "a2233aed-fb7a-47f3-985d-032c6e8e2263"
      },
      "execution_count": null,
      "outputs": [
        {
          "output_type": "stream",
          "name": "stdout",
          "text": [
            "[0 2 4 6 8]\n"
          ]
        }
      ]
    },
    {
      "cell_type": "markdown",
      "source": [
        "### Basic array operations\n",
        "- algebraic operations \n",
        "- logical operations"
      ],
      "metadata": {
        "id": "dFeKiGA5CNXx"
      }
    },
    {
      "cell_type": "code",
      "source": [
        "a = np.array([[-4,6,8], [9, 3, 1], [1, 8, 5]])\n",
        "b = np.array([[11,16,18], [90, 37, 81], [61, 48, 75]])"
      ],
      "metadata": {
        "id": "mZbgCNnRDVbV"
      },
      "execution_count": null,
      "outputs": []
    },
    {
      "cell_type": "markdown",
      "source": [],
      "metadata": {
        "id": "J8EdAHaY2Xbq"
      }
    },
    {
      "cell_type": "code",
      "source": [
        "# Write a NumPy function to add, subtract, multiply and divide arrays 'a' and 'b'\n",
        "   \n",
        "def perform_arithmetic_operations(a, b):\n",
        "    \"\"\"\n",
        "    Perform arithmetic operations (addition, subtraction, multiplication, and division) on two NumPy arrays\n",
        "    \"\"\"\n",
        "    # Element-wise addition\n",
        "    c = a + b\n",
        "    \n",
        "    # Element-wise subtraction\n",
        "    d = a - b\n",
        "    \n",
        "    # Element-wise multiplication\n",
        "    e = a * b\n",
        "    \n",
        "    # Element-wise division\n",
        "    f = np.divide(a, b)\n",
        "    \n",
        "    return c, d, e, f\n",
        "\n",
        "a = np.array([[-4,6,8], [9, 3, 1], [1, 8, 5]])\n",
        "b = np.array([[11,16,18], [90, 37, 81], [61, 48, 75]])\n",
        "perform_arithmetic_operations(a, b)\n",
        "\n"
      ],
      "metadata": {
        "id": "QajfAkNHCMqe",
        "colab": {
          "base_uri": "https://localhost:8080/"
        },
        "outputId": "08a59c5d-3953-45d1-c399-7fa7445c95de"
      },
      "execution_count": null,
      "outputs": [
        {
          "output_type": "execute_result",
          "data": {
            "text/plain": [
              "(array([[ 7, 22, 26],\n",
              "        [99, 40, 82],\n",
              "        [62, 56, 80]]),\n",
              " array([[-15, -10, -10],\n",
              "        [-81, -34, -80],\n",
              "        [-60, -40, -70]]),\n",
              " array([[-44,  96, 144],\n",
              "        [810, 111,  81],\n",
              "        [ 61, 384, 375]]),\n",
              " array([[-0.36363636,  0.375     ,  0.44444444],\n",
              "        [ 0.1       ,  0.08108108,  0.01234568],\n",
              "        [ 0.01639344,  0.16666667,  0.06666667]]))"
            ]
          },
          "metadata": {},
          "execution_count": 16
        }
      ]
    },
    {
      "cell_type": "code",
      "source": [
        "# Write a NumPy function to get the sum of the array 'a' along axis=0 \n",
        "def sum_along_axis_0(a):\n",
        "    \"\"\"\n",
        "    Get the sum of an array 'a' along axis=0\n",
        "    \"\"\"\n",
        "    # Sum along axis=0\n",
        "    sum_a = np.sum(a, axis=0)\n",
        "    \n",
        "    return sum_a\n",
        "a = np.array([[-4,6,8], [9, 3, 1], [1, 8, 5]])\n",
        "sum_along_axis_0(a)\n",
        "     \n",
        "\n",
        "# Write a NumPy function to get the sum of the array 'a' along axis=1 \n",
        "def sum_along_axis_1(a):\n",
        "    \"\"\"\n",
        "    Get the sum of an array 'a' along axis=1\n",
        "    \"\"\"\n",
        "    # Sum along axis=1\n",
        "    sum_a = np.sum(a, axis=1)\n",
        "    \n",
        "    return sum_a\n",
        "a = np.array([[-4,6,8], [9, 3, 1], [1, 8, 5]])\n",
        "sum_along_axis_1(a)\n"
      ],
      "metadata": {
        "id": "hfBR7r80C_qh",
        "colab": {
          "base_uri": "https://localhost:8080/"
        },
        "outputId": "d1f521bb-14f1-4432-d0c7-0981ce173aa5"
      },
      "execution_count": null,
      "outputs": [
        {
          "output_type": "execute_result",
          "data": {
            "text/plain": [
              "array([10, 13, 14])"
            ]
          },
          "metadata": {},
          "execution_count": 19
        }
      ]
    },
    {
      "cell_type": "code",
      "source": [
        "# Write a NumPy function to reverse the array 'a' \n",
        "def reverse_array(a):\n",
        "    \"\"\"\n",
        "    Reverse the array 'a'\n",
        "    \"\"\"\n",
        "    # Reverse the array using np.flip()\n",
        "    reversed_a = np.flip(a)\n",
        "    \n",
        "    return reversed_a\n",
        "a = np.array([[-4,6,8], [9, 3, 1], [1, 8, 5]])\n",
        "reverse_array(a)\n",
        "\n",
        "# Write a NumPy function to reverse the array 'a' along axis=0\n",
        "\n",
        "def reverse_array_axis_0(a):\n",
        "    \"\"\"\n",
        "    Reverse the array 'a' along axis=0\n",
        "    \"\"\"\n",
        "    # Reverse the array along axis=0 using np.flip()\n",
        "    reversed_a = np.flip(a, axis=0)\n",
        "    \n",
        "    return reversed_a\n",
        "a = np.array([[-4,6,8], [9, 3, 1], [1, 8, 5]])\n",
        "reverse_array_axis_0(a)\n",
        "\n",
        "# Write a NumPy function to reverse the array 'a' along axis=1\n",
        "def reverse_array_axis_1(a):\n",
        "    \"\"\"\n",
        "    Reverse the array 'a' along axis=1\n",
        "    \"\"\"\n",
        "    # Reverse the array along axis=1 using np.flip()\n",
        "    reversed_a = np.flip(a, axis=1)\n",
        "    \n",
        "    return reversed_a\n",
        "a = np.array([[-4,6,8], [9, 3, 1], [1, 8, 5]])\n",
        "reverse_array_axis_1(a)\n"
      ],
      "metadata": {
        "id": "rBTxfTuFDSiA",
        "colab": {
          "base_uri": "https://localhost:8080/"
        },
        "outputId": "2c883244-2950-48ed-92ab-c287458c0fc7"
      },
      "execution_count": null,
      "outputs": [
        {
          "output_type": "execute_result",
          "data": {
            "text/plain": [
              "array([[ 8,  6, -4],\n",
              "       [ 1,  3,  9],\n",
              "       [ 5,  8,  1]])"
            ]
          },
          "metadata": {},
          "execution_count": 20
        }
      ]
    },
    {
      "cell_type": "markdown",
      "source": [
        "### Sorting and concatenation\n",
        "- sort arrays\n",
        "- join multiple arrays\n"
      ],
      "metadata": {
        "id": "WnCvXc3jCdWH"
      }
    },
    {
      "cell_type": "code",
      "source": [
        "a = np.array([[-4,6,8], [9, 3, 1], [1, 8, 5]])\n",
        "b = np.array([[11,16,18], [90, 37, 81], [61, 48, 75]])"
      ],
      "metadata": {
        "id": "Qsg-EPq7EbPx"
      },
      "execution_count": null,
      "outputs": []
    },
    {
      "cell_type": "code",
      "source": [
        "# Write a NumPy function to sort the array 'a' \n",
        "def sort_array(a):\n",
        "    \"\"\"\n",
        "    Sort the array 'a'\n",
        "    \"\"\"\n",
        "    # Sort the array using np.sort()\n",
        "    sorted_a = np.sort(a)\n",
        "    \n",
        "    return sorted_a\n",
        "a = np.array([[-4,6,8], [9, 3, 1], [1, 8, 5]])   \n",
        "sort_array(a)\n",
        "\n",
        "# Write a NumPy function to sort the array 'a' along axis=0\n",
        "def sort_array_axis_0(a):\n",
        "    \"\"\"\n",
        "    Sort the array 'a' along axis=0\n",
        "    \"\"\"\n",
        "    # Sort the array along axis=0 using np.sort()\n",
        "    sorted_a = np.sort(a, axis=0)\n",
        "    \n",
        "    return sorted_a\n",
        "    a = np.array([[-4,6,8], [9, 3, 1], [1, 8, 5]])   \n",
        "sort_array_axis_0(a)\n",
        "\n",
        "\n",
        "# Write a NumPy function to sort the array 'a' along axis=1\n",
        "def sort_array_axis_1(a):\n",
        "    \"\"\"\n",
        "    Sort the array 'a' along axis=1\n",
        "    \"\"\"\n",
        "    # Sort the array along axis=1 using np.sort()\n",
        "    sorted_a = np.sort(a, axis=1)\n",
        "    \n",
        "    return sorted_a\n",
        "a = np.array([[-4,6,8], [9, 3, 1], [1, 8, 5]])   \n",
        "sort_array_axis_1(a)\n",
        "\n",
        "# Write a NumPy function to sort the array 'a' in descending order along axis=0\n",
        "def sort_array_descending_axis_0(a):\n",
        "    \"\"\"\n",
        "    Sort the array 'a' in descending order along axis=0\n",
        "    \"\"\"\n",
        "    # Sort the array in descending order along axis=0 using np.sort() and reverse the axis\n",
        "    sorted_a_descending = np.sort(a, axis=0)[::-1]\n",
        "    \n",
        "    return sorted_a_descending\n",
        "a = np.array([[-4,6,8],[9,3,1],[1,8,5]])\n",
        "sort_array_descending_axis_0(a)\n"
      ],
      "metadata": {
        "id": "_7VfP1anCc0O",
        "colab": {
          "base_uri": "https://localhost:8080/"
        },
        "outputId": "c443af51-b017-41bd-bb73-226acc2ba6e4"
      },
      "execution_count": null,
      "outputs": [
        {
          "output_type": "execute_result",
          "data": {
            "text/plain": [
              "array([[ 9,  8,  8],\n",
              "       [ 1,  6,  5],\n",
              "       [-4,  3,  1]])"
            ]
          },
          "metadata": {},
          "execution_count": 22
        }
      ]
    },
    {
      "cell_type": "code",
      "source": [
        "# Write a NumPy function to argsort the array along axis=0\n",
        "def argsort_axis0(arr):\n",
        "    return np.argsort(arr, axis=0)\n",
        "a = np.array([[-4,6,8], [9, 3, 1], [1, 8, 5]])   \n",
        "argsort_axis0(a)\n",
        "\n",
        "# Write a NumPy function to argsort the array along axis=1\n",
        "def argsort_axis1(arr):\n",
        "    return np.argsort(arr, axis=1)\n",
        "a = np.array([[-4,6,8], [9, 3, 1], [1, 8, 5]])   \n",
        "argsort_axis1(a)\n"
      ],
      "metadata": {
        "id": "6BqbtdLYEWng",
        "colab": {
          "base_uri": "https://localhost:8080/"
        },
        "outputId": "95217d8c-dc57-4887-a57a-2fcc233b7d55"
      },
      "execution_count": null,
      "outputs": [
        {
          "output_type": "execute_result",
          "data": {
            "text/plain": [
              "array([[0, 1, 2],\n",
              "       [2, 1, 0],\n",
              "       [0, 2, 1]])"
            ]
          },
          "metadata": {},
          "execution_count": 24
        }
      ]
    },
    {
      "cell_type": "code",
      "source": [
        "# Write a NumPy function to concatenate the arrays 'a' and 'b'\n",
        "def concatenate_arrays(a, b):\n",
        "    return np.concatenate((a, b))\n",
        "a = np.array([[-4,6,8], [9, 3, 1], [1, 8, 5]])\n",
        "b = np.array([[11,16,18], [90, 37, 81], [61, 48, 75]])\n",
        "\n",
        "concatenate_arrays(a, b)\n",
        "         \n",
        "\n",
        "\n",
        "# Write a NumPy function to concatenate the arrays 'a' and 'b' along axis = \n",
        "def concatenate_arrays_axis0(a, b):\n",
        "    return np.concatenate((a, b), axis=0)\n",
        "a = np.array([[-4,6,8], [9, 3, 1], [1, 8, 5]])\n",
        "b = np.array([[11,16,18], [90, 37, 81], [61, 48, 75]])\n",
        "\n",
        "concatenate_arrays_axis0(a, b)\n",
        "         \n",
        "\n",
        "# Note: You can do the same function using stacking, discover and try that :)\n"
      ],
      "metadata": {
        "id": "cixOoXZhEY8-",
        "colab": {
          "base_uri": "https://localhost:8080/"
        },
        "outputId": "b29a8779-437e-4d88-bc4f-a7ac578e2ff8"
      },
      "execution_count": null,
      "outputs": [
        {
          "output_type": "execute_result",
          "data": {
            "text/plain": [
              "array([[-4,  6,  8],\n",
              "       [ 9,  3,  1],\n",
              "       [ 1,  8,  5],\n",
              "       [11, 16, 18],\n",
              "       [90, 37, 81],\n",
              "       [61, 48, 75]])"
            ]
          },
          "metadata": {},
          "execution_count": 26
        }
      ]
    },
    {
      "cell_type": "markdown",
      "source": [
        "### Reshaping arrays\n",
        "- the number of dimensions of the array\n",
        "-  shape of n-dimensional array as a tuple with n elements s.t. $i^{th}$ element is the length of the $i^{th}$ dimension of the array\n",
        "- total number of elements of the array\n",
        "- reshapes the array\n",
        "- flattens multidimensional array into a 1D array\n",
        "- adds new dimensions to the array"
      ],
      "metadata": {
        "id": "aY0j33z2EjNx"
      }
    },
    {
      "cell_type": "code",
      "source": [
        "a = np.array([[4,6,8], [9, 3, 1], [1, 8, 5]])"
      ],
      "metadata": {
        "id": "sStUkoh1FG4N"
      },
      "execution_count": null,
      "outputs": []
    },
    {
      "cell_type": "code",
      "source": [
        "# Write a NumPy function to get the Number of dimensions\n",
        "def get_num_dimensions(arr):\n",
        "    return arr.ndim\n",
        "arr = np.array([[4,6,8], [9, 3, 1], [1, 8, 5]])  \n",
        "get_num_dimensions(a)\n",
        "\n",
        "\n",
        "# Write a NumPy function to get the Shape of the array \n",
        "def get_shape(arr):\n",
        "    return arr.shape \n",
        "arr = np.array([[4,6,8], [9, 3, 1], [1, 8, 5]])  \n",
        "get_shape(arr)\n",
        "\n",
        "# Write a NumPy function to get the Size of the array\n",
        "def get_size(arr):\n",
        "    return arr.size\n",
        "arr = np.array([[4,6,8], [9, 3, 1], [1, 8, 5]])  \n",
        "get_size(arr)"
      ],
      "metadata": {
        "id": "vb35oi57Ev1f",
        "colab": {
          "base_uri": "https://localhost:8080/"
        },
        "outputId": "63c5c68a-86ae-4083-bf28-3dcfb832eebd"
      },
      "execution_count": null,
      "outputs": [
        {
          "output_type": "execute_result",
          "data": {
            "text/plain": [
              "9"
            ]
          },
          "metadata": {},
          "execution_count": 30
        }
      ]
    },
    {
      "cell_type": "code",
      "source": [
        "# Write a NumPy function to Reshape the array 'a' to the dimension (1,9)\n",
        "def reshape_array(a):\n",
        "    return a.reshape(1, 9)\n",
        "a = np.array([[4,6,8], [9, 3, 1], [1, 8, 5]])  \n",
        "reshape_array(a)"
      ],
      "metadata": {
        "id": "MznU0NWKE54c",
        "colab": {
          "base_uri": "https://localhost:8080/"
        },
        "outputId": "e6b09116-4549-4706-cee3-ce9338b1b467"
      },
      "execution_count": null,
      "outputs": [
        {
          "output_type": "execute_result",
          "data": {
            "text/plain": [
              "array([[4, 6, 8, 9, 3, 1, 1, 8, 5]])"
            ]
          },
          "metadata": {},
          "execution_count": 32
        }
      ]
    },
    {
      "cell_type": "code",
      "source": [
        "# Write a NumPy function to add a new axis to the array 'a' \n",
        "def add_new_axis(a):\n",
        "    return np.expand_dims(a, axis=0)\n",
        "a = np.array([[4,6,8], [9, 3, 1], [1, 8, 5]])  \n",
        "add_new_axis(a)   \n",
        "\n",
        "# Note : Show atleast two different ways of doing this \n"
      ],
      "metadata": {
        "id": "p1dlxcNYE8tv",
        "colab": {
          "base_uri": "https://localhost:8080/"
        },
        "outputId": "970e3ec8-60d0-4bf2-b36d-df563725ec69"
      },
      "execution_count": null,
      "outputs": [
        {
          "output_type": "execute_result",
          "data": {
            "text/plain": [
              "array([[[4, 6, 8],\n",
              "        [9, 3, 1],\n",
              "        [1, 8, 5]]])"
            ]
          },
          "metadata": {},
          "execution_count": 33
        }
      ]
    },
    {
      "cell_type": "markdown",
      "source": [
        "### Indexing and slicing\n",
        "- NumPy allows indexing array using tuple of nonnegative integers, booleans, array or integers"
      ],
      "metadata": {
        "id": "Ng4xWkwpFtao"
      }
    },
    {
      "cell_type": "code",
      "source": [
        "a = np.array([[4,6,0], [0, 3, 1], [1, 8, 5]])"
      ],
      "metadata": {
        "id": "swrtOhPGGB7r"
      },
      "execution_count": null,
      "outputs": []
    },
    {
      "cell_type": "code",
      "source": [
        "# Write a NumPy function to index and slice NumPy arrays similar to Python lists\n",
        "# Show all three - indexing by a integer, indexing by a tuple, using range\n",
        "import numpy as np\n",
        "\n",
        "def index_and_slice(arr):\n",
        "    # Indexing by an integer\n",
        "    print(arr[0])\n",
        "    \n",
        "    # Indexing by a tuple\n",
        "    print(arr[0, 1])\n",
        "    \n",
        "    # Slicing using range\n",
        "    print(arr[0:2, 1:3])\n",
        "a = np.array([[4,6,0], [0, 3, 1], [1, 8, 5]])\n",
        "index_and_slice(a)\n",
        "\n",
        "\n"
      ],
      "metadata": {
        "id": "w3QaVYRyFs77",
        "colab": {
          "base_uri": "https://localhost:8080/"
        },
        "outputId": "ae50ed90-78e0-4798-cf08-020836ccdc50"
      },
      "execution_count": null,
      "outputs": [
        {
          "output_type": "stream",
          "name": "stdout",
          "text": [
            "[4 6 0]\n",
            "6\n",
            "[[6 0]\n",
            " [3 1]]\n"
          ]
        }
      ]
    },
    {
      "cell_type": "code",
      "source": [
        "# Write a NumPy function to select values satisfying a specific condition like Values greater than 4 \n",
        "import numpy as np\n",
        "\n",
        "def select_greater_than_4(arr):\n",
        "    return arr[arr > 4]\n",
        "a = np.array([[4,6,0], [0, 3, 1], [1, 8, 5]])\n",
        "print(select_greater_than_4(a))\n",
        "\n",
        "\n",
        "# Write a NumPy function to select values satisfying mulitple conditions like Values greater than 4 and divisible by 2\n",
        "import numpy as np\n",
        "def select_greater_than_4_and_divisible_by_2(arr):\n",
        "    return arr[(arr > 4) & (arr % 2 == 0)]\n",
        "\n",
        "a = np.array([[4,6,0], [0, 3, 1], [1, 8, 5]])\n",
        "print(select_greater_than_4_and_divisible_by_2(a))\n",
        "\n"
      ],
      "metadata": {
        "id": "Xn2_z5h-Fmrd",
        "colab": {
          "base_uri": "https://localhost:8080/"
        },
        "outputId": "829934b1-d8f3-4038-97d4-ebfb4fafa9b8"
      },
      "execution_count": null,
      "outputs": [
        {
          "output_type": "stream",
          "name": "stdout",
          "text": [
            "[6 8 5]\n",
            "[6 8]\n"
          ]
        }
      ]
    },
    {
      "cell_type": "markdown",
      "source": [
        "### Copying arrays\n",
        "- new array object with a copy of the data\n",
        "- Changes made in the copy array is not reflected in the original array"
      ],
      "metadata": {
        "id": "GWU0EfaAG2ll"
      }
    },
    {
      "cell_type": "code",
      "source": [
        "a = np.array([[4,6,0], [0, 3, 1], [1, 8, 5]])"
      ],
      "metadata": {
        "id": "ijdgy02lHMJW"
      },
      "execution_count": null,
      "outputs": []
    },
    {
      "cell_type": "code",
      "source": [
        "# Write a NumPy function to copy the array 'a' and finally print an array where all elements are increased by 1\n",
        "import numpy as np\n",
        "\n",
        "def copy_and_increment(arr):\n",
        "    copy_arr = arr.copy()  # make a copy of the input array\n",
        "    copy_arr += 1  # increment all elements of the copy by 1\n",
        "    return copy_arr\n",
        "a = np.array([[4,6,0], [0, 3, 1], [1, 8, 5]])\n",
        "result = copy_and_increment(a)\n",
        "print(result)\n",
        "\n",
        "\n"
      ],
      "metadata": {
        "id": "FmgUdh66GuQH",
        "colab": {
          "base_uri": "https://localhost:8080/"
        },
        "outputId": "7150412d-b420-4d56-b5ff-c46a02a96650"
      },
      "execution_count": null,
      "outputs": [
        {
          "output_type": "stream",
          "name": "stdout",
          "text": [
            "[[5 7 1]\n",
            " [1 4 2]\n",
            " [2 9 6]]\n"
          ]
        }
      ]
    },
    {
      "cell_type": "markdown",
      "source": [
        "## Pandas ( Python Data Analysis Library)\n",
        "\n",
        "### Main Features\n",
        "- Easy handling of missing data in both floating point and non-floating point data.\n",
        "- Automatic and explicit data alignment, making it easy to perform computations and transformations on data sets.\n",
        "\n"
      ],
      "metadata": {
        "id": "M1KLD5QxHsVw"
      }
    },
    {
      "cell_type": "markdown",
      "source": [
        "#### Generating the dataset "
      ],
      "metadata": {
        "id": "v1CuU3FeIq1a"
      }
    },
    {
      "cell_type": "markdown",
      "source": [
        "Run the following load command to get the 2-Dim iris dataset. Do the following operations on it and please dont edit this cell"
      ],
      "metadata": {
        "id": "fp36ZqOMIy7k"
      }
    },
    {
      "cell_type": "code",
      "source": [
        "url = 'https://archive.ics.uci.edu/ml/machine-learning-databases/iris/iris.data'\n",
        "iris_2d = np.genfromtxt(url, delimiter=',', dtype='float', usecols=[0,1,2,3])"
      ],
      "metadata": {
        "id": "A_O5RTBXIyK-"
      },
      "execution_count": null,
      "outputs": []
    },
    {
      "cell_type": "markdown",
      "source": [
        "#### Basic Data Analysis"
      ],
      "metadata": {
        "id": "EILb6pPrS8Ju"
      }
    },
    {
      "cell_type": "code",
      "source": [
        "# Write a Pandas function to drop rows that contain a missing value. \n",
        "import pandas as pd\n",
        "\n",
        "def drop_missing_values(df):\n",
        "    return df.dropna()\n",
        "df = pd.DataFrame({'A': [1, 2, 3, None, 5], 'B': [4, 5, None, 7, 8]})\n",
        "result = drop_missing_values(df)\n",
        "print(result)\n",
        "\n",
        "\n"
      ],
      "metadata": {
        "id": "bViO1LLoI7sz",
        "colab": {
          "base_uri": "https://localhost:8080/"
        },
        "outputId": "a3ee07f3-c906-404e-8bac-a80df322c7a6"
      },
      "execution_count": null,
      "outputs": [
        {
          "output_type": "stream",
          "name": "stdout",
          "text": [
            "     A    B\n",
            "0  1.0  4.0\n",
            "1  2.0  5.0\n",
            "4  5.0  8.0\n"
          ]
        }
      ]
    },
    {
      "cell_type": "code",
      "source": [
        "# Write a Pandas function to find the correlation between the first two columns.\n",
        "import pandas as pd\n",
        "\n",
        "def compute_correlation(df):\n",
        "    return df.iloc[:, 0:2].corr()\n",
        "\n"
      ],
      "metadata": {
        "id": "zp_BYv5EJDjJ"
      },
      "execution_count": null,
      "outputs": []
    },
    {
      "cell_type": "code",
      "source": [
        "# Write a Pandas function to find the mean, median and standard deviation of column 3.\n",
        "import pandas as pd\n",
        "\n",
        "def stats_column3(df):\n",
        "    col3 = df.iloc[:, 2] # select column 3\n",
        "    return {'mean': col3.mean(), 'median': col3.median(), 'std_dev': col3.std()}\n",
        "df = pd.DataFrame({'A': [1, 2, 3, 4, 5], 'B': [2, 4, 6, 8, 10], 'C': [3, 6, 9, 12, 15]})\n",
        "result = stats_column3(df)\n",
        "print(result)\n",
        "\n",
        "\n"
      ],
      "metadata": {
        "id": "0mjeoZCwJDoW",
        "colab": {
          "base_uri": "https://localhost:8080/"
        },
        "outputId": "34c20178-d0ba-4de1-ba3a-f463d4f6b6bb"
      },
      "execution_count": null,
      "outputs": [
        {
          "output_type": "stream",
          "name": "stdout",
          "text": [
            "{'mean': 9.0, 'median': 9.0, 'std_dev': 4.743416490252569}\n"
          ]
        }
      ]
    },
    {
      "cell_type": "code",
      "source": [
        "# Write a Pandas function to create a new column for volume in iris_2d, where volume is (pi x petallength x sepal_length^2)/3\n",
        "import numpy as np\n",
        "import pandas as pd\n",
        "\n",
        "def add_volume_column(df):\n",
        "    petal_length = df.iloc[:, 2] # select petal_length column\n",
        "    sepal_length = df.iloc[:, 0] # select sepal_length column\n",
        "    volume = (np.pi * petal_length * sepal_length**2) / 3 # calculate volume\n",
        "    df['volume'] = volume # add volume as a new column in the DataFrame\n",
        "    return df\n",
        "\n",
        "# Hints: \n",
        "# 1. Introduce new dimension to match iris_2d's\n",
        "# 2. Add the new column"
      ],
      "metadata": {
        "id": "bRiYEhWTJDrM"
      },
      "execution_count": null,
      "outputs": []
    },
    {
      "cell_type": "markdown",
      "source": [
        "# Section B *(2 Marks each)*"
      ],
      "metadata": {
        "id": "dGqrG93ELEQ3"
      }
    },
    {
      "cell_type": "markdown",
      "source": [
        "###NumPy"
      ],
      "metadata": {
        "id": "OLm8jv7tMH6h"
      }
    },
    {
      "cell_type": "markdown",
      "source": [
        "Q1 Let x = np.arange(4, dtype=np.int64). Create an array of ones with the same shape and type as X."
      ],
      "metadata": {
        "id": "zE1n0x7ZLRLU"
      }
    },
    {
      "cell_type": "code",
      "source": [
        "import numpy as np\n",
        "\n",
        "def ones_like_x(x):\n",
        "   ones_array = np.ones_like(x)\n",
        "   return ones_array\n",
        "x = np.arange(4, dtype=np.int64)\n",
        "a = ones_like_x(x)   \n",
        "print(a)\n",
        "     \n"
      ],
      "metadata": {
        "id": "H8o9C6b7LJzA",
        "colab": {
          "base_uri": "https://localhost:8080/"
        },
        "outputId": "8b818eaa-ac31-457f-8f80-6cccf0fa38df"
      },
      "execution_count": null,
      "outputs": [
        {
          "output_type": "stream",
          "name": "stdout",
          "text": [
            "[1 1 1 1]\n"
          ]
        }
      ]
    },
    {
      "cell_type": "markdown",
      "source": [
        "Q2 Let x be an array [1, 2, 3, ..., 9]. Split x into 3 arrays, each of which has 4, 2, and 3 elements in the original order."
      ],
      "metadata": {
        "id": "PPYeTqoHLSNj"
      }
    },
    {
      "cell_type": "code",
      "source": [
        "import numpy as np\n",
        "\n",
        "def split_x():\n",
        "    x = np.arange(1,10) \n",
        "    split_array = np.split(x,[4,6])\n",
        "    return split_array\n",
        "split_array = split_x()  \n",
        "print(split_array)\n",
        "     "
      ],
      "metadata": {
        "id": "DS9mr30LLYdg"
      },
      "execution_count": null,
      "outputs": []
    },
    {
      "cell_type": "markdown",
      "source": [
        "Q3 Initiate x as a 2x5 array with random values from 0 to 10(not inclusive).Get the maximum and minimum values and their indices of x along the second axis."
      ],
      "metadata": {
        "id": "b1wJaooRLXjN"
      }
    },
    {
      "cell_type": "code",
      "source": [
        "def max_min_indices_x():\n",
        "    x = np.random.uniform(0, 10, size=(2, 5))\n",
        "    max_v = np.amax(x, axis=1)\n",
        "    max_i = np.argmax(x, axis=1)\n",
        "    min_v = np.amin(x, axis=1)\n",
        "    min_i = np.argmin(x, axis=1)\n",
        "    return max_v, max_i, min_v, min_i\n",
        "max_v, max_i, min_v, min_i = max_min_indices_x()\n",
        "print(\"Max values along the second axis\",max_v,)   \n",
        "print(\"Indices of Max values along the second axis\", max_i)\n",
        "print(\"Max values along the second axis\", min_v)\n",
        "print(\"Indices of Max values along the second axis\", min_i)"
      ],
      "metadata": {
        "id": "GnXDqksjLf89",
        "colab": {
          "base_uri": "https://localhost:8080/"
        },
        "outputId": "98766829-253c-4e48-e434-76ab84468ccf"
      },
      "execution_count": null,
      "outputs": [
        {
          "output_type": "stream",
          "name": "stdout",
          "text": [
            "Max values along the second axis [7.44765029 4.9892932 ]\n",
            "Indices of Max values along the second axis [3 0]\n",
            "Max values along the second axis [0.94996566 0.40911022]\n",
            "Indices of Max values along the second axis [0 1]\n"
          ]
        }
      ]
    },
    {
      "cell_type": "markdown",
      "source": [
        "### Pandas"
      ],
      "metadata": {
        "id": "8_Q7fbyxMMHM"
      }
    },
    {
      "cell_type": "markdown",
      "source": [
        "Run the following load command and solve the following questions"
      ],
      "metadata": {
        "id": "3QpaFHkxJUho"
      }
    },
    {
      "cell_type": "code",
      "source": [
        "url = 'https://archive.ics.uci.edu/ml/machine-learning-databases/iris/iris.data'\n",
        "iris = np.genfromtxt(url, delimiter=',', dtype='object')\n",
        "names = ('sepallength', 'sepalwidth', 'petallength', 'petalwidth', 'species')"
      ],
      "metadata": {
        "id": "mLdcY49iJDtl"
      },
      "execution_count": null,
      "outputs": []
    },
    {
      "cell_type": "markdown",
      "source": [
        "Q4 Write a Pandas function to find the count of unique species."
      ],
      "metadata": {
        "id": "zbDepnx9RtV8"
      }
    },
    {
      "cell_type": "code",
      "source": [
        "import pandas as pd\n",
        "\n",
        "url = 'https://archive.ics.uci.edu/ml/machine-learning-databases/iris/iris.data'\n",
        "iris = pd.read_csv(url, header=None, names=['sepallength', 'sepalwidth', 'petallength', 'petalwidth', 'species'])\n",
        "\n",
        "count_unique_species = iris['species'].nunique()\n",
        "\n",
        "print(count_unique_species)\n"
      ],
      "metadata": {
        "id": "oAkO0UnqJDv7",
        "colab": {
          "base_uri": "https://localhost:8080/"
        },
        "outputId": "9bdfc605-495c-4670-81dc-8a826fb681ec"
      },
      "execution_count": null,
      "outputs": [
        {
          "output_type": "stream",
          "name": "stdout",
          "text": [
            "3\n"
          ]
        }
      ]
    },
    {
      "cell_type": "markdown",
      "source": [
        "# Q5 Write a Pandas function to bin the petal length (3rd) column of iris_2d to form a text array, such that if petal length is:\n",
        "- Less than 3 –> ‘small’\n",
        "- 3-5 –> ‘medium’\n",
        "- greater than equal to 5 –> ‘large’"
      ],
      "metadata": {
        "id": "Usj5HlvyRxal"
      }
    },
    {
      "cell_type": "code",
      "source": [
        "\n",
        "\n",
        "import pandas as pd\n",
        "import numpy as np\n",
        "\n",
        "# Load the iris dataset from URL\n",
        "url = 'https://archive.ics.uci.edu/ml/machine-learning-databases/iris/iris.data'\n",
        "iris = pd.read_csv(url, header=None, names=['sepallength', 'sepalwidth', 'petallength', 'petalwidth', 'species'])\n",
        "\n",
        "# Define the bins and corresponding labels\n",
        "bins = [0, 3, 5, np.inf]\n",
        "labels = ['small', 'medium', 'large']\n",
        "\n",
        "# Create a new column with the binned petal length values\n",
        "iris['petal_length_bin'] = pd.cut(iris['petallength'], bins=bins, labels=labels)\n",
        "\n",
        "# Print the first 10 rows of the resulting dataframe\n",
        "print(iris.head(10))\n"
      ],
      "metadata": {
        "id": "gTWWJoLMJDxx",
        "colab": {
          "base_uri": "https://localhost:8080/"
        },
        "outputId": "74a9c152-88da-4cef-b251-3b5abccad728"
      },
      "execution_count": null,
      "outputs": [
        {
          "output_type": "stream",
          "name": "stdout",
          "text": [
            "   sepallength  sepalwidth  petallength  petalwidth      species  \\\n",
            "0          5.1         3.5          1.4         0.2  Iris-setosa   \n",
            "1          4.9         3.0          1.4         0.2  Iris-setosa   \n",
            "2          4.7         3.2          1.3         0.2  Iris-setosa   \n",
            "3          4.6         3.1          1.5         0.2  Iris-setosa   \n",
            "4          5.0         3.6          1.4         0.2  Iris-setosa   \n",
            "5          5.4         3.9          1.7         0.4  Iris-setosa   \n",
            "6          4.6         3.4          1.4         0.3  Iris-setosa   \n",
            "7          5.0         3.4          1.5         0.2  Iris-setosa   \n",
            "8          4.4         2.9          1.4         0.2  Iris-setosa   \n",
            "9          4.9         3.1          1.5         0.1  Iris-setosa   \n",
            "\n",
            "  petal_length_bin  \n",
            "0            small  \n",
            "1            small  \n",
            "2            small  \n",
            "3            small  \n",
            "4            small  \n",
            "5            small  \n",
            "6            small  \n",
            "7            small  \n",
            "8            small  \n",
            "9            small  \n"
          ]
        }
      ]
    },
    {
      "cell_type": "markdown",
      "source": [
        "Q6 Write a Pandas function to find the most frequent value of petal length (3rd column) in iris dataset"
      ],
      "metadata": {
        "id": "IbBYP_8sSBrB"
      }
    },
    {
      "cell_type": "code",
      "source": [
        "import pandas as pd\n",
        "\n",
        "# load iris dataset\n",
        "url = 'https://archive.ics.uci.edu/ml/machine-learning-databases/iris/iris.data'\n",
        "names = ['sepal-length', 'sepal-width', 'petal-length', 'petal-width', 'class']\n",
        "iris = pd.read_csv(url, names=names)\n",
        "\n",
        "# find the most frequent value of petal length\n",
        "most_frequent_petal_length = iris['petal-length'].mode()[0]\n",
        "\n",
        "print(\"The most frequent value of petal length is:\", most_frequent_petal_length)\n",
        "\n"
      ],
      "metadata": {
        "id": "DNk_tlVWJufR",
        "colab": {
          "base_uri": "https://localhost:8080/"
        },
        "outputId": "9739c060-34fa-4cf6-eb67-26df1166cd46"
      },
      "execution_count": null,
      "outputs": [
        {
          "output_type": "stream",
          "name": "stdout",
          "text": [
            "The most frequent value of petal length is: 1.5\n"
          ]
        }
      ]
    }
  ]
}