{
  "cells": [
    {
      "cell_type": "markdown",
      "source": [
        "> This assignment as two parts Section A and B. The first part is the implementation of function required in applying the CNN layers and the next section will be around the use of built in function of Tensorflow"
      ],
      "metadata": {
        "id": "P3hDtc9rMxkR"
      }
    },
    {
      "cell_type": "markdown",
      "source": [
        "\n",
        "\n",
        "`Before moving ahead as we have reached the stage of applying CNNs. We are going to deal with large number of parameters and hence more computational power. So you will need to connect runtime of collab to GPU: https://www.youtube.com/watch?v=-9CLfrZISRw`"
      ],
      "metadata": {
        "id": "48fGpBzYOjt1"
      }
    },
    {
      "cell_type": "markdown",
      "source": [
        "### **BOTH THE SECTION CAN BE SOLVED INDEPENDENTLY** BUT SECTION A has **3X** more weightage than SECTION B doesn't have any code to write."
      ],
      "metadata": {
        "id": "4mSFI4ExalwM"
      }
    },
    {
      "cell_type": "markdown",
      "source": [
        "## **SECTION:A**"
      ],
      "metadata": {
        "id": "CjXMqW4cMrFg"
      }
    },
    {
      "cell_type": "code",
      "execution_count": null,
      "metadata": {
        "id": "e8eFBZbMLxGM"
      },
      "outputs": [],
      "source": [
        "import numpy as np"
      ]
    },
    {
      "cell_type": "markdown",
      "metadata": {
        "id": "LbWwF7vkLxGP"
      },
      "source": [
        "### Q1: Complete the following function corr2d(X, K), which implements the cross correlation operation for matrix X and kernel K, both are two dimensional numpy arrays (height x width). The function should return a 2 dimensional numpy array which is the result of cross correlation operation between X and K. \n",
        "\n",
        "- not giving channels right now : assume channels = 1"
      ]
    },
    {
      "cell_type": "code",
      "execution_count": null,
      "metadata": {
        "id": "2rVZCrIDLxGT"
      },
      "outputs": [],
      "source": [
        "def corr2d(X: np.array, K: np.array) -> np.array:\n",
        "    # no padding for now and assume stride = 1\n",
        "\n",
        "    X_height, X_width = X.shape\n",
        "    K_height, K_width = K.shape\n",
        "\n",
        "\n",
        "\n",
        "    ft_map_height= X_height - K_height +1\n",
        "    ft_map_width =  X_width - K_width +1\n",
        "\n",
        "    #define feature map\n",
        "\n",
        "    ft_map = np.zeros((ft_map_height, ft_map_width), dtype=np.float32)\n",
        "\n",
        "    #dot product of X and filter array and run it all over the X\n",
        "\n",
        "    for i in range(ft_map_height):\n",
        "      for j in range(ft_map_width):\n",
        "        ft_map[i,j] = np.dot(X[i:i+K_height, j:j+ K_width].flatten(), K.flatten())\n",
        "    return ft_map\n"
      ]
    },
    {
      "cell_type": "code",
      "execution_count": null,
      "metadata": {
        "id": "FYF60FbvLxGd",
        "colab": {
          "base_uri": "https://localhost:8080/"
        },
        "outputId": "a9225127-22f1-46f9-c6b6-57daa77c903d"
      },
      "outputs": [
        {
          "output_type": "stream",
          "name": "stdout",
          "text": [
            "[[19. 25.]\n",
            " [37. 43.]]\n"
          ]
        }
      ],
      "source": [
        "X = np.array([[0.0, 1.0, 2.0], [3.0, 4.0, 5.0], [6.0, 7.0, 8.0]], dtype=np.float32)\n",
        "K = np.array([[0.0, 1.0], [2.0, 3.0]], dtype=np.float32)\n",
        "print(corr2d(X, K)) # example done in class, try to print this and check if you get the right answer"
      ]
    },
    {
      "cell_type": "markdown",
      "metadata": {
        "id": "uLMP6bE3LxGf"
      },
      "source": [
        "### now try to make a new function corr2d_multiple_input_channels(X, K) : where each X and K have the same number of channels, both of them are now 3 dimensional numpy arrays, the output should be a 2 dimensional numpy array (output_h, output_w).\n",
        "\n",
        "- hint : Use the above corr2d function and read about np.stack"
      ]
    },
    {
      "cell_type": "code",
      "execution_count": null,
      "metadata": {
        "id": "glmBGALxLxGg"
      },
      "outputs": [],
      "source": [
        "def corr2d_multiple_input_channels(X: np.array, K: np.array) -> np.array: \n",
        "    # write a function for this task\n",
        "    \n",
        "    X_channel, X_height, X_width = X.shape\n",
        "    K_channel, K_height, K_width = K.shape\n",
        "    \n",
        "\n",
        "    ft_map_height = X_height - K_height +1\n",
        "    ft_map_width = X_width - K_width +1\n",
        "\n",
        "    ft_map = np.zeros((ft_map_height, ft_map_width), dtype = np.float32)\n",
        "\n",
        "    for k in range(X_channel):\n",
        "      ft_map = np.sum((ft_map, corr2d(X[k], K[k])), axis = 0)\n",
        "    return ft_map\n",
        "     "
      ]
    },
    {
      "cell_type": "code",
      "execution_count": null,
      "metadata": {
        "id": "Iw3vxttBLxGg",
        "colab": {
          "base_uri": "https://localhost:8080/"
        },
        "outputId": "3fda5831-f67e-468d-b736-53b11e0558b4"
      },
      "outputs": [
        {
          "output_type": "stream",
          "name": "stdout",
          "text": [
            "new_X.shape = (3, 3, 3), new_K.shape = (3, 2, 2)\n",
            "[[119. 149.]\n",
            " [209. 239.]]\n"
          ]
        }
      ],
      "source": [
        "new_X = np.stack([X, X+1, X+2], axis=0) # stacking along a new dimension\n",
        "new_K = np.stack([K, K+1, K+2], axis=0) \n",
        "\n",
        "print(f\"new_X.shape = {new_X.shape}, new_K.shape = {new_K.shape}\")\n",
        "print(corr2d_multiple_input_channels(new_X, new_K))\n",
        "# calculate the output by hand and then check whether you get the same answer\n",
        "# answer should be a 2 dim np array : (output_height, output_width) "
      ]
    },
    {
      "cell_type": "markdown",
      "metadata": {
        "id": "fhXuwIj9LxGh"
      },
      "source": [
        "### Write another function corr2d_mutli_in_out(X, K): where X (3 dim np array), K (4 dim numpy array), 0th dimension of K represents the number of kernel/filters we are using. Perform the cross correlation operation for K on X and return the output : 3 dim numpy array whose shape should be (num_output_channels, output_height, output_width)\n",
        "\n",
        "- hint : use the above corr_2d_mutliple_input_channels(X, K) for each kernel in K and then stack them."
      ]
    },
    {
      "cell_type": "code",
      "execution_count": null,
      "metadata": {
        "id": "f3H-oe3xLxGi"
      },
      "outputs": [],
      "source": [
        "def corr2d_multi_in_out(X: np.array, K: np.array) -> np.array:\n",
        "    # X -> (num_in_channels, n_h, n_w)\n",
        "    num_in_channels, n_h, n_w = X.shape\n",
        "    # K -> (num_out_channels, num_in_channels, k_h, k_w)\n",
        "    num_out_channels, num_in_channels, k_h, k_w = K.shape\n",
        "    # output -> (num_out_channels, o_h, o_w)\n",
        "    \n",
        "\n",
        "    o_h = n_h - k_h +1\n",
        "    o_w = n_w - k_w +1\n",
        "\n",
        "    output = np.zeros((num_out_channels, o_h, o_w), dtype= np.float32)\n",
        "\n",
        "    for i in range(num_out_channels):\n",
        "      # for j in range(num_in_channels):\n",
        "        output[i] = np.sum((output, corr2d_multiple_input_channels(X, K[i] )), axis = 0)\n",
        "    return output"
      ]
    },
    {
      "cell_type": "code",
      "execution_count": null,
      "metadata": {
        "id": "8KvPQ4eYLxGi",
        "colab": {
          "base_uri": "https://localhost:8080/"
        },
        "outputId": "3fc97d4d-6080-4d25-e6e5-d9a36fb280b2"
      },
      "outputs": [
        {
          "output_type": "stream",
          "name": "stdout",
          "text": [
            "my_K.shape = (4, 3, 2, 2)\n",
            "[[[ 692.  884.]\n",
            "  [1268. 1460.]]\n",
            "\n",
            " [[ 692.  884.]\n",
            "  [1268. 1460.]]\n",
            "\n",
            " [[ 692.  884.]\n",
            "  [1268. 1460.]]\n",
            "\n",
            " [[ 692.  884.]\n",
            "  [1268. 1460.]]]\n"
          ]
        },
        {
          "output_type": "stream",
          "name": "stderr",
          "text": [
            "/usr/local/lib/python3.10/dist-packages/numpy/core/fromnumeric.py:86: VisibleDeprecationWarning: Creating an ndarray from ragged nested sequences (which is a list-or-tuple of lists-or-tuples-or ndarrays with different lengths or shapes) is deprecated. If you meant to do this, you must specify 'dtype=object' when creating the ndarray.\n",
            "  return ufunc.reduce(obj, axis, dtype, out, **passkwargs)\n"
          ]
        }
      ],
      "source": [
        "my_K = np.stack([new_K, new_K+1, new_K+2, new_K + 3], axis=0) \n",
        "print(f\"my_K.shape = {my_K.shape}\")\n",
        "print(new_x, '\\n',my_K)\n",
        "\n",
        "print(corr2d_multi_in_out(new_X, my_K)) # cross check the calculation"
      ]
    },
    {
      "cell_type": "markdown",
      "metadata": {
        "id": "uGjUjrXQLxGj"
      },
      "source": [
        "### Q2: What is the computational and statistical benefits of stride larger than 1?? (not more than 20 word answer for each)"
      ]
    },
    {
      "cell_type": "markdown",
      "source": [
        "Ans: Larger stride decreases overlapping which takes lesser memory and it makes processing of output easier due to less number of weights.\n",
        "\n",
        "Larger stride reduces size of feature map enables us to do detect broader patterns because a small region of input is representing a large region of input."
      ],
      "metadata": {
        "id": "CnCv-mDeCAWM"
      }
    },
    {
      "cell_type": "markdown",
      "metadata": {
        "id": "6_dSJFchLxGj"
      },
      "source": [
        "### Q3: Now let's implement a model with just a single convolution layer, given X(input), Y(output) and K(kernel). Y is the output of the cross-correlation operation of K on X. You need to build a model to learn that kernel K.(try to print the kernel at each epoch)\n",
        "\n",
        "- hint : conv_layer(output_channels = 1, input_channels = 1, kerenl_size=(1, 2), bias=False)"
      ]
    },
    {
      "cell_type": "code",
      "execution_count": null,
      "metadata": {
        "id": "uWAF0RPhLxGj",
        "colab": {
          "base_uri": "https://localhost:8080/"
        },
        "outputId": "6ec9e88e-b916-41dc-ee82-e406490e0684"
      },
      "outputs": [
        {
          "output_type": "stream",
          "name": "stdout",
          "text": [
            "[[1. 1. 0. 0. 0. 0. 1. 1.]\n",
            " [1. 1. 0. 0. 0. 0. 1. 1.]\n",
            " [1. 1. 0. 0. 0. 0. 1. 1.]\n",
            " [1. 1. 0. 0. 0. 0. 1. 1.]\n",
            " [1. 1. 0. 0. 0. 0. 1. 1.]\n",
            " [1. 1. 0. 0. 0. 0. 1. 1.]]\n"
          ]
        }
      ],
      "source": [
        "X = np.ones((6, 8), dtype=np.float32)\n",
        "X[:, 2:6] = 0\n",
        "print(X)"
      ]
    },
    {
      "cell_type": "code",
      "execution_count": null,
      "metadata": {
        "id": "pr0_V5lpLxGj",
        "colab": {
          "base_uri": "https://localhost:8080/"
        },
        "outputId": "eeef6e4a-67e0-453f-fa41-a8f91dbb2644"
      },
      "outputs": [
        {
          "output_type": "stream",
          "name": "stdout",
          "text": [
            "[[ 1. -1.]]\n",
            "[[ 0.  1.  0.  0.  0. -1.  0.]\n",
            " [ 0.  1.  0.  0.  0. -1.  0.]\n",
            " [ 0.  1.  0.  0.  0. -1.  0.]\n",
            " [ 0.  1.  0.  0.  0. -1.  0.]\n",
            " [ 0.  1.  0.  0.  0. -1.  0.]\n",
            " [ 0.  1.  0.  0.  0. -1.  0.]]\n"
          ]
        }
      ],
      "source": [
        "K = np.array([[1.0, -1.0]], dtype=np.float32) # kernel, you need to learn this using a model\n",
        "print(K)\n",
        "Y = corr2d(X, K) \n",
        "print(Y)"
      ]
    },
    {
      "cell_type": "code",
      "execution_count": null,
      "metadata": {
        "id": "4HSVk5foLxGk"
      },
      "outputs": [],
      "source": [
        "X = X.reshape((1, 1, 6, 8)) # this will be the input to the model\n",
        "Y = Y.reshape((1, 1, 6, 7)) # this is the output, to be used while calculation loss\n",
        "lr = 3e-2 # use this learning rate"
      ]
    },
    {
      "cell_type": "markdown",
      "metadata": {
        "id": "-sWbsvXQLxGk"
      },
      "source": [
        "### Q4: Complete the following function max_pool2d(X, K) which performs maxpooling with kernel size K on X and returns and two dim numpy array"
      ]
    },
    {
      "cell_type": "code",
      "execution_count": null,
      "metadata": {
        "id": "0Qjsv_v_LxGk"
      },
      "outputs": [],
      "source": [
        "def max_pool2d(X: np.array, K: tuple) -> np.array:\n",
        "    # write a function for this job\n",
        "\n",
        "    X_height, X_width = X.shape\n",
        "    K_height = K[0]\n",
        "    K_width = K[1]\n",
        "\n",
        "\n",
        "\n",
        "    max_pool_height= X_height - K_height +1\n",
        "    max_pool_width =  X_width - K_width +1\n",
        "\n",
        "\n",
        "    max_pool_layer = np.zeros((max_pool_height, max_pool_width), dtype=np.float32)\n",
        "\n",
        "\n",
        "    for i in range(max_pool_height):\n",
        "      for j in range(max_pool_width):\n",
        "         max_pool_layer[i,j] = np.max(X[i:i+K_height, j:j+K_width])\n",
        "    return max_pool_layer"
      ]
    },
    {
      "cell_type": "code",
      "execution_count": null,
      "metadata": {
        "id": "ZiLo_mjSLxGl",
        "colab": {
          "base_uri": "https://localhost:8080/"
        },
        "outputId": "8c814aa4-f4d0-4334-dc94-7365facd69ac"
      },
      "outputs": [
        {
          "output_type": "execute_result",
          "data": {
            "text/plain": [
              "array([[4., 5.],\n",
              "       [7., 8.]], dtype=float32)"
            ]
          },
          "metadata": {},
          "execution_count": 38
        }
      ],
      "source": [
        "X = np.array([[0.0, 1.0, 2.0], [3.0, 4.0, 5.0], [6.0, 7.0, 8.0]], dtype=np.float32)\n",
        "max_pool2d(X, (2, 2)) # check if the output matches with your calculation"
      ]
    },
    {
      "cell_type": "markdown",
      "source": [
        "yes, it matches with my calculation"
      ],
      "metadata": {
        "id": "ksXVAFdxfkLv"
      }
    },
    {
      "cell_type": "markdown",
      "metadata": {
        "id": "v-niSYY3LxGl"
      },
      "source": [
        "# **SECTION:B**\n",
        "\n"
      ]
    },
    {
      "cell_type": "markdown",
      "source": [
        "### **JUST RUN THE CELLS AND VISUALIZE**( Nothing to code 🙂 )\n",
        "\n",
        "> Indented block\n",
        "\n"
      ],
      "metadata": {
        "id": "pfa0otIGY4vf"
      }
    },
    {
      "cell_type": "code",
      "execution_count": null,
      "metadata": {
        "id": "mI1blAXSLxGl"
      },
      "outputs": [],
      "source": [
        "import matplotlib.pyplot as plt\n",
        "import tensorflow as tf"
      ]
    },
    {
      "cell_type": "code",
      "source": [
        "#importing the dataset\n",
        "(X_train,Y_train),(X_test,Y_test) = tf.keras.datasets.cifar10.load_data()\n",
        "from sklearn.model_selection import train_test_split\n",
        "X_train,X_test,Y_train,Y_test=train_test_split(X_train,Y_train,test_size=0.3)"
      ],
      "metadata": {
        "id": "hjSRQ2QuNf69",
        "colab": {
          "base_uri": "https://localhost:8080/"
        },
        "outputId": "d49644d9-82a2-4427-bc3a-9ab9d71bd02a"
      },
      "execution_count": null,
      "outputs": [
        {
          "output_type": "stream",
          "name": "stdout",
          "text": [
            "Downloading data from https://www.cs.toronto.edu/~kriz/cifar-10-python.tar.gz\n",
            "170498071/170498071 [==============================] - 6s 0us/step\n"
          ]
        }
      ]
    },
    {
      "cell_type": "code",
      "source": [
        "# Print shape of all 4 variables: X_train,Y_train,X_test, and Y_test\n",
        "print(X_train.shape)\n",
        "print(X_test.shape)\n",
        "print(Y_train.shape)\n",
        "print(Y_test.shape)"
      ],
      "metadata": {
        "id": "fhl64KENQSuq",
        "colab": {
          "base_uri": "https://localhost:8080/"
        },
        "outputId": "40d64744-3573-4d97-9e29-030bc0452933"
      },
      "execution_count": null,
      "outputs": [
        {
          "output_type": "stream",
          "name": "stdout",
          "text": [
            "(35000, 32, 32, 3)\n",
            "(15000, 32, 32, 3)\n",
            "(35000, 1)\n",
            "(15000, 1)\n"
          ]
        }
      ]
    },
    {
      "cell_type": "code",
      "source": [
        "#Lets visualize the CIFAR-10 dataset\n",
        "\n",
        "import random\n",
        "figure = plt.figure(figsize=(6,6))\n",
        "\n",
        "for i in range(9):\n",
        "  index = random.randint(0,len(X_train)-1) # showing the index_th image\n",
        "  \n",
        "  plt.subplot(3,3,i+1)\n",
        "  plt.imshow(X_train[index])\n",
        "  plt.title(Y_train[index])\n",
        "  plt.axis(False)"
      ],
      "metadata": {
        "id": "Oygw7B1fNm0O",
        "colab": {
          "base_uri": "https://localhost:8080/",
          "height": 576
        },
        "outputId": "55b66cbc-ed4d-4f87-f26f-2a587d1c5a3f"
      },
      "execution_count": null,
      "outputs": [
        {
          "output_type": "stream",
          "name": "stderr",
          "text": [
            "/usr/local/lib/python3.10/dist-packages/matplotlib/text.py:1279: FutureWarning: elementwise comparison failed; returning scalar instead, but in the future will perform elementwise comparison\n",
            "  if s != self._text:\n"
          ]
        },
        {
          "output_type": "display_data",
          "data": {
            "text/plain": [
              "<Figure size 600x600 with 9 Axes>"
            ],
            "image/png": "[encoded data removed]"
          },
          "metadata": {}
        }
      ]
    },
    {
      "cell_type": "code",
      "source": [
        "\"\"\"\n",
        "So you can probably notice here that the images are 3D(coloured) but still \n",
        "not of great quality ( what can you expect from 32x32 image). Also there are\n",
        "certain other factors which makes the classification a bit tougher than the \n",
        "cases of 2D( the digit and the fashion data) you dealt before. We will try to\n",
        "understand the difficulties and find probable solution for them.\n",
        "\"\"\""
      ],
      "metadata": {
        "id": "mIY0GmLjSMvK",
        "colab": {
          "base_uri": "https://localhost:8080/",
          "height": 70
        },
        "outputId": "ad5a5434-3175-49d8-cd54-2e1d4f1d6092"
      },
      "execution_count": null,
      "outputs": [
        {
          "output_type": "execute_result",
          "data": {
            "text/plain": [
              "'\\nSo you can probably notice here that the images are 3D(coloured) but still \\nnot of great quality ( what can you expect from 32x32 image). Also there are\\ncertain other factors which makes the classification a bit tougher than the \\ncases of 2D( the digit and the fashion data) you dealt before. We will try to\\nunderstand the difficulties and find probable solution for them.\\n'"
            ],
            "application/vnd.google.colaboratory.intrinsic+json": {
              "type": "string"
            }
          },
          "metadata": {},
          "execution_count": 43
        }
      ]
    },
    {
      "cell_type": "markdown",
      "source": [
        "![image.png](data:image/png;base64,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)"
      ],
      "metadata": {
        "id": "ATuu2w_SNuCU"
      }
    },
    {
      "cell_type": "code",
      "source": [
        "\"\"\"\n",
        "Lets first start with the CNN model discussed in the class for digit\n",
        " classification. Notice that I have changed the input shape for this usecase.\n",
        " Earlier it was (28,28,1) for the digit dataset.\n",
        "\"\"\""
      ],
      "metadata": {
        "id": "w1yCGBaMSz5Q",
        "colab": {
          "base_uri": "https://localhost:8080/",
          "height": 52
        },
        "outputId": "5408aab5-527b-4e33-ec3e-518f3dd7bf80"
      },
      "execution_count": null,
      "outputs": [
        {
          "output_type": "execute_result",
          "data": {
            "text/plain": [
              "'\\nLets first start with the CNN model discussed in the class for digit\\n classification. Notice that I have changed the input shape for this usecase.\\n Earlier it was (28,28,1) for the digit dataset.\\n'"
            ],
            "application/vnd.google.colaboratory.intrinsic+json": {
              "type": "string"
            }
          },
          "metadata": {},
          "execution_count": 44
        }
      ]
    },
    {
      "cell_type": "code",
      "source": [
        "# model initialization\n",
        "cnn_model = tf.keras.Sequential()\n",
        "\n",
        "# adding the 1st layer of CNN\n",
        "cnn_model.add(tf.keras.layers.Conv2D(26, (5,5), activation = 'relu', input_shape=(32,32,3)))\n",
        "\n",
        "# adding a maxpooling\n",
        "cnn_model.add(tf.keras.layers.MaxPooling2D((2,2)))\n",
        "\n",
        "#adding another CNN layer\n",
        "cnn_model.add(tf.keras.layers.Conv2D(16, (5,5), activation = 'relu'))\n",
        "\n",
        "# adding another maxpooling layer\n",
        "cnn_model.add(tf.keras.layers.MaxPooling2D((2,2)))\n",
        "\n",
        "#flattening the layer\n",
        "cnn_model.add(tf.keras.layers.Flatten())\n",
        "\n",
        "# 20 x 20 x 16\n",
        "#dense layer\n",
        "cnn_model.add(tf.keras.layers.Dense(64, activation='relu'))\n",
        "\n",
        "# final layer \n",
        "cnn_model.add(tf.keras.layers.Dense(10, activation='softmax'))"
      ],
      "metadata": {
        "id": "UNr0XFiKNpnE"
      },
      "execution_count": null,
      "outputs": []
    },
    {
      "cell_type": "code",
      "source": [
        "cnn_model.compile(optimizer = tf.keras.optimizers.Adam(learning_rate=0.001),\n",
        "                  loss = tf.keras.losses.SparseCategoricalCrossentropy(from_logits=True),\n",
        "                  metrics=['accuracy'])"
      ],
      "metadata": {
        "id": "tWoQIGv7N0tY"
      },
      "execution_count": null,
      "outputs": []
    },
    {
      "cell_type": "code",
      "source": [
        "\"\"\"\n",
        "Explain what is Adam optimizer below in atleast 250 words.[ read on web and explain ]\n",
        "\n",
        "Answer: Adam parameter is a pre defined function in tensor flow . It automatically initialises the weights, compute gradients, and update weights.\n",
        "So we don't have to do that manually it can do that automatically.2\n",
        "\"\"\""
      ],
      "metadata": {
        "id": "yau4nndbTU4r",
        "colab": {
          "base_uri": "https://localhost:8080/",
          "height": 35
        },
        "outputId": "a58509ec-d0a9-4d58-ef43-05ec28cdcf9f"
      },
      "execution_count": null,
      "outputs": [
        {
          "output_type": "execute_result",
          "data": {
            "text/plain": [
              "'\\nExplain what is Adam optimizer below in atleast 250 words.[ read on web and explain ]\\n\\nAnswer:\\n'"
            ],
            "application/vnd.google.colaboratory.intrinsic+json": {
              "type": "string"
            }
          },
          "metadata": {},
          "execution_count": 47
        }
      ]
    },
    {
      "cell_type": "markdown",
      "source": [
        "### **Make sure that you are connected to GPU runtime other wise the training in next cell is going to take a long time**"
      ],
      "metadata": {
        "id": "x5rLNjUlPKrH"
      }
    },
    {
      "cell_type": "code",
      "source": [
        "history = cnn_model.fit(X_train, Y_train, epochs=10, validation_split=0.2)"
      ],
      "metadata": {
        "id": "9RPCnjevN3W7",
        "colab": {
          "base_uri": "https://localhost:8080/"
        },
        "outputId": "4a1bbddd-ca21-485c-bac6-18147265c97a"
      },
      "execution_count": 48,
      "outputs": [
        {
          "metadata": {
            "tags": null
          },
          "name": "stdout",
          "output_type": "stream",
          "text": [
            "Epoch 1/10\n"
          ]
        },
        {
          "metadata": {
            "tags": null
          },
          "name": "stderr",
          "output_type": "stream",
          "text": [
            "/usr/local/lib/python3.10/dist-packages/keras/backend.py:5612: UserWarning: \"`sparse_categorical_crossentropy` received `from_logits=True`, but the `output` argument was produced by a Softmax activation and thus does not represent logits. Was this intended?\n",
            "  output, from_logits = _get_logits(\n"
          ]
        },
        {
          "output_type": "stream",
          "name": "stdout",
          "text": [
            "875/875 [==============================] - 57s 63ms/step - loss: 2.7027 - accuracy: 0.1029 - val_loss: 2.3033 - val_accuracy: 0.0994\n",
            "Epoch 2/10\n",
            "875/875 [==============================] - 47s 53ms/step - loss: 2.3011 - accuracy: 0.1042 - val_loss: 2.3025 - val_accuracy: 0.0953\n",
            "Epoch 3/10\n",
            "875/875 [==============================] - 44s 51ms/step - loss: 2.3004 - accuracy: 0.1050 - val_loss: 2.2987 - val_accuracy: 0.0961\n",
            "Epoch 4/10\n",
            "875/875 [==============================] - 44s 51ms/step - loss: 2.2996 - accuracy: 0.1060 - val_loss: 2.3031 - val_accuracy: 0.0936\n",
            "Epoch 5/10\n",
            "875/875 [==============================] - 42s 48ms/step - loss: 2.2991 - accuracy: 0.1089 - val_loss: 2.3031 - val_accuracy: 0.1004\n",
            "Epoch 6/10\n",
            "875/875 [==============================] - 40s 45ms/step - loss: 2.2970 - accuracy: 0.1114 - val_loss: 2.3015 - val_accuracy: 0.1027\n",
            "Epoch 7/10\n",
            "875/875 [==============================] - 40s 46ms/step - loss: 2.2966 - accuracy: 0.1145 - val_loss: 2.3039 - val_accuracy: 0.0983\n",
            "Epoch 8/10\n",
            "875/875 [==============================] - 40s 45ms/step - loss: 2.3000 - accuracy: 0.1078 - val_loss: 2.3045 - val_accuracy: 0.0930\n",
            "Epoch 9/10\n",
            "875/875 [==============================] - 41s 46ms/step - loss: 2.2991 - accuracy: 0.1036 - val_loss: 2.3093 - val_accuracy: 0.0980\n",
            "Epoch 10/10\n",
            "875/875 [==============================] - 43s 49ms/step - loss: 2.2978 - accuracy: 0.1049 - val_loss: 2.3101 - val_accuracy: 0.0953\n"
          ]
        }
      ]
    },
    {
      "cell_type": "code",
      "source": [
        "\"\"\" \n",
        "Write about validation accuracy in 100 words.\n",
        "\n",
        "Answer: \n",
        "\"\"\""
      ],
      "metadata": {
        "id": "XMqr0nejTrrM",
        "colab": {
          "base_uri": "https://localhost:8080/",
          "height": 35
        },
        "outputId": "62e507bf-70e0-4c53-f20d-51f5fca2b153"
      },
      "execution_count": 49,
      "outputs": [
        {
          "output_type": "execute_result",
          "data": {
            "text/plain": [
              "' \\nWrite about validation accuracy in 100 words.\\n\\nAnswer: \\n'"
            ],
            "application/vnd.google.colaboratory.intrinsic+json": {
              "type": "string"
            }
          },
          "metadata": {},
          "execution_count": 49
        }
      ]
    },
    {
      "cell_type": "code",
      "source": [
        "plt.plot(history.history['accuracy'],label=\"Train accuracy\")\n",
        "plt.plot(history.history['val_accuracy'], label = \"Validation accuracy\")\n",
        "plt.legend()"
      ],
      "metadata": {
        "id": "2AkZcRmbN6SF",
        "colab": {
          "base_uri": "https://localhost:8080/",
          "height": 447
        },
        "outputId": "fb20384a-5305-4b35-9983-93ce6aaeae37"
      },
      "execution_count": 50,
      "outputs": [
        {
          "output_type": "execute_result",
          "data": {
            "text/plain": [
              "<matplotlib.legend.Legend at 0x7f1755b33f70>"
            ]
          },
          "metadata": {},
          "execution_count": 50
        },
        {
          "output_type": "display_data",
          "data": {
            "text/plain": [
              "<Figure size 640x480 with 1 Axes>"
            ],
            "image/png": "[encoded data removed]"
          },
          "metadata": {}
        }
      ]
    },
    {
      "cell_type": "code",
      "source": [
        "\"\"\"\n",
        "What do you think is happening? Is the model training or not?\n",
        " You can see that both the training and validation accuracy are\n",
        " just roaming around 0.1. \n",
        " One reason for this can be our model architecture. We had 26 filters\n",
        " in our first layer and 16 filters in our next layer. This funnel down approach\n",
        " works for dense layers but for Conv layers( which are good at feature extraction)\n",
        " we want them to extract more and more features.\n",
        "\n",
        " So lets change that to funne up --> 16 and 32 in the layers respectively\n",
        "\"\"\""
      ],
      "metadata": {
        "id": "xEQ0UpBDTN_9",
        "colab": {
          "base_uri": "https://localhost:8080/",
          "height": 87
        },
        "outputId": "61fd0c67-273d-4b53-91e7-df3d01643faf"
      },
      "execution_count": 51,
      "outputs": [
        {
          "output_type": "execute_result",
          "data": {
            "text/plain": [
              "'\\nWhat do you think is happening? Is the model training or not?\\n You can see that both the training and validation accuracy are\\n just roaming around 0.1. \\n One reason for this can be our model architecture. We had 26 filters\\n in our first layer and 16 filters in our next layer. This funnel down approach\\n works for dense layers but for Conv layers( which are good at feature extraction)\\n we want them to extract more and more features.\\n\\n So lets change that to funne up --> 16 and 32 in the layers respectively\\n'"
            ],
            "application/vnd.google.colaboratory.intrinsic+json": {
              "type": "string"
            }
          },
          "metadata": {},
          "execution_count": 51
        }
      ]
    },
    {
      "cell_type": "code",
      "source": [
        "# model initialization\n",
        "cnn_model = tf.keras.Sequential()\n",
        "\n",
        "\"\"\"adding the 1st layer of CNN(Changed)\"\"\"\n",
        "cnn_model.add(tf.keras.layers.Conv2D(16, (5,5), activation = 'relu', input_shape=(32,32,3)))\n",
        "\n",
        "# adding a maxpooling\n",
        "cnn_model.add(tf.keras.layers.MaxPooling2D((2,2)))\n",
        "\n",
        "\"\"\"adding the 2nd layer of CNN(Changed)\"\"\"\n",
        "cnn_model.add(tf.keras.layers.Conv2D(32, (5,5), activation = 'relu'))\n",
        "\n",
        "# adding another maxpooling layer\n",
        "cnn_model.add(tf.keras.layers.MaxPooling2D((2,2)))\n",
        "\n",
        "#flattening the layer\n",
        "cnn_model.add(tf.keras.layers.Flatten())\n",
        "\n",
        "# 20 x 20 x 16\n",
        "#dense layer\n",
        "cnn_model.add(tf.keras.layers.Dense(64, activation='relu'))\n",
        "\n",
        "# final layer \n",
        "cnn_model.add(tf.keras.layers.Dense(10, activation='softmax'))"
      ],
      "metadata": {
        "id": "6HcpdtBuN8_F"
      },
      "execution_count": 52,
      "outputs": []
    },
    {
      "cell_type": "code",
      "source": [
        "cnn_model.compile(optimizer = tf.keras.optimizers.Adam(learning_rate=0.001),\n",
        "                  loss = tf.keras.losses.SparseCategoricalCrossentropy(from_logits=True),\n",
        "                  metrics=['accuracy'])"
      ],
      "metadata": {
        "id": "tFXQBRGPRjK6"
      },
      "execution_count": 53,
      "outputs": []
    },
    {
      "cell_type": "code",
      "source": [
        "history = cnn_model.fit(X_train, Y_train, epochs=20, validation_split=0.2)"
      ],
      "metadata": {
        "id": "WzC0iaowRmpb",
        "colab": {
          "base_uri": "https://localhost:8080/"
        },
        "outputId": "06769be5-41cb-4da7-a630-b3538ba281c5"
      },
      "execution_count": null,
      "outputs": [
        {
          "output_type": "stream",
          "name": "stdout",
          "text": [
            "Epoch 1/20\n",
            "875/875 [==============================] - 34s 38ms/step - loss: 2.5573 - accuracy: 0.2142 - val_loss: 1.7863 - val_accuracy: 0.3406\n",
            "Epoch 2/20\n",
            "875/875 [==============================] - 34s 39ms/step - loss: 1.7139 - accuracy: 0.3808 - val_loss: 1.6303 - val_accuracy: 0.4061\n",
            "Epoch 3/20\n",
            "875/875 [==============================] - 34s 39ms/step - loss: 1.5244 - accuracy: 0.4527 - val_loss: 1.5655 - val_accuracy: 0.4431\n",
            "Epoch 4/20\n",
            "637/875 [====================>.........] - ETA: 8s - loss: 1.4124 - accuracy: 0.4946"
          ]
        }
      ]
    },
    {
      "cell_type": "code",
      "source": [
        "plt.plot(history.history['accuracy'],label=\"Train accuracy\")\n",
        "plt.plot(history.history['val_accuracy'], label = \"Validation accuracy\")\n",
        "plt.legend()"
      ],
      "metadata": {
        "id": "HdnpcDQoRrGo"
      },
      "execution_count": null,
      "outputs": []
    },
    {
      "cell_type": "code",
      "source": [
        "\"\"\"\n",
        "Did our model improved??\n",
        "Are we done with the job?\n",
        "What is happening after 5( roughly ) epochs? Why is there a gap between\n",
        "training and validation accuracy?\n",
        "\n",
        "Our training accuracy reached to 0.73( and still increasing ) but \n",
        "the validation accuracy seems to stagnate at 0.52.\n",
        "\n",
        "Is our model overfitting on the training data so much that it can't work well \n",
        "on unseen data.\n",
        "\"\"\""
      ],
      "metadata": {
        "id": "MX4njN_DUwlU"
      },
      "execution_count": null,
      "outputs": []
    },
    {
      "cell_type": "code",
      "source": [
        "\"\"\"\n",
        "How are we gonna tackel this problem?\n",
        "Well, we will see that in next part of this assignment.\n",
        "Till then lets learn about about overfitting.\n",
        "\"\"\""
      ],
      "metadata": {
        "id": "3l82eHENWI-R"
      },
      "execution_count": null,
      "outputs": []
    },
    {
      "cell_type": "markdown",
      "source": [
        "> **Well using Chatgpt to answer these question is something which everyone can think of right?? To create a difference write answer in your own terms after reading from web or reading the answer of Chatgpt.**\n",
        "### **After all this is your midterm evaluation. Cheating is something we can catch easily** ( we have also done this )"
      ],
      "metadata": {
        "id": "m5PHy4o-XSpQ"
      }
    },
    {
      "cell_type": "code",
      "source": [
        "\"\"\"\n",
        "[CLARIFICATION]: Reading and understanding by searching on Chatgpt is not \n",
        "considered as cheating as long as you are writing that in your own word\n",
        "( only problem is the crediblity of its information)\n",
        "\n",
        "\"\"\""
      ],
      "metadata": {
        "id": "7AzClJq2Z8zI"
      },
      "execution_count": null,
      "outputs": []
    },
    {
      "cell_type": "code",
      "source": [
        "\"\"\"\n",
        "Question: What is overfitting and underfitting below ( atleast 200 words )\n",
        "\n",
        "Answer: Underfitting: This is the condition when our model is not able to generalize its predictions over testing data. It performs well for training\n",
        "data. It happens when we have less size dataset and our model is very simple and has not much non-linearity. Due to less size of dataset,we get a \n",
        "very simple curve which give very wrong predictions.So it fails completely for new data.Tbe problem of underfitting can be overcome by using a larger \n",
        "data set and if we introduce a little complexity in our dataset so that we get a better curve which can generalize our data. Increasing number of\n",
        "epochs can also help as updating weights can help in getting better result every time.\n",
        "\n",
        "Overfitting: The problem is same as in underfitting, an overfitting model cannot generalize its predictions over testing data. It performs very well\n",
        "over training data and we get a very high accuracy. Our model trains itself so well on training data that it can only give good result on training data.\n",
        "But the reasons are slightly opposite of underfitting. In this,  model becomes very complex. So it we can use linear algorithms to reduce its complexity.\n",
        "We can increase size of training data so that it can get better patterns. We can use dropout method to decrease the complexity and each time we give\n",
        "data so that our model don't just memorize our training data and can generalize the model to unseen data/testing data.\n",
        "\n",
        "\n",
        "\"\"\""
      ],
      "metadata": {
        "id": "aNTS7DqAWXVl"
      },
      "execution_count": null,
      "outputs": []
    },
    {
      "cell_type": "code",
      "source": [
        "\"\"\"\n",
        "Question: What are regularization techniques in machine learning?(200 words)\n",
        "\n",
        "Answer: Dropout:  we drop some neurons in our model(by updating their weights to zero) and now we train our model based on the remaining neurons.\n",
        " And in each iterations it changes the neurons. So it basically means that now our model is being trained using new data set each time which helps\n",
        "to generalize when we use testing data. It also helps in increasing in computation speed as we drop neurons so their weights are zero.\n",
        "\n",
        "Data Argumentation: When we have small dataset or we want our model to be of high accuracy then we can data argumentation. In this, we increases our \n",
        "dataset by modifying our dataset. Like if we a have then we can do modification as different orientation, stretching image, compressing the image,\n",
        "different positions etc. By this our model trains basically trains itself on same image but differnt patterns so it will generalize well. \n",
        "\n",
        "We can also do L1 normalization, L2 normaliztion, and changing the size of training data set, changing the number of epochs, chaning the learning \n",
        "rate, batch normalization.\n",
        "\"\"\""
      ],
      "metadata": {
        "id": "TfDCiJG1X652"
      },
      "execution_count": null,
      "outputs": []
    },
    {
      "cell_type": "code",
      "source": [
        "\"\"\"\n",
        "Question: What dropout layer and what does it do?( read it from Tensorflow.org and write in 200 words)\n",
        "\n",
        "Answer: We add dropout layer to overcome overfitting in our model. Our model overfits because it sees same data during epochs so it memorizes that \n",
        "data and so it can give best results only for that data. But when we add dropout layer what we do is, we drop some neurons in our model(by updating\n",
        "their weights to zero) and now we train our model based on the remaining neurons. And in each iterations it changes the neurons. So it basically means that now our model is \n",
        "being trained using new data set each time which helps to generalize when we use testing data. But when we run our model on testing data, it \n",
        "removes that dropout layer and our model now consider each neuron. \n",
        "It also helps in increasing in computation speed as we drop neurons so their weights are zero. So we have now decreased the complexity of our model.\n",
        "So adding a dropout layer is a good regulariztion technique.\n",
        "\"\"\""
      ],
      "metadata": {
        "id": "_VGMmK3XYEcn"
      },
      "execution_count": null,
      "outputs": []
    },
    {
      "cell_type": "code",
      "source": [
        "\"\"\"\n",
        "Question: What is L1 normalization? write its formulae as well( atleast 200 words )\n",
        "\n",
        "Answer: In L1 normalizatino we add a penality term in our loss function which is absolute. It basically tries to minimize the weights to zero of \n",
        "less significant features in our model. It helps to overcome overfitting in our model.\n",
        "\n",
        "Loss=Error(Y−Y_hat)+λ sigma(1 to n) |w(i)|\n",
        "\n",
        "\n",
        "\"\"\""
      ],
      "metadata": {
        "id": "xxRFxeCzYqir"
      },
      "execution_count": null,
      "outputs": []
    },
    {
      "cell_type": "code",
      "source": [
        "\"\"\"\n",
        "Question: What is L2 normalization? write its formulae as well( atleast 200 words )\n",
        "\n",
        "Answer: In L1 normalizatino we add a penality term in our loss function which is squared value. It basically tries to minimize the weights to zero of \n",
        "less significant features in our model. It also helps to overcome overfitting in our model.\n",
        "\n",
        "Loss=Error(Y−Y_hat)+λ sigma(1 to n) w^2(i)\n",
        "\"\"\""
      ],
      "metadata": {
        "id": "Qdqqsw9iYyMW"
      },
      "execution_count": null,
      "outputs": []
    },
    {
      "cell_type": "code",
      "source": [
        "\"\"\"\n",
        "Question: What is data augmentation techniques and why is it needed in machine learning?( atleast 200 words )\n",
        "\n",
        "Answer: Data Argumentation: When we have small dataset or we want our model to be of high accuracy then we can data argumentation. In this, we \n",
        "increases our dataset by modifying our dataset. Like if we a have then we can do modification as different orientation, stretching image, compressing the image,\n",
        "different positions, image flipping, changing color etc. We can increase our data by 4 or 5 times by using these techniques.\n",
        " So now what we are doing is training our model on a larger data set but we know that we have used the same image 4 or 5 times, so by this our model\n",
        " will able to generalize well as it scanning the same image but in different pattern. so it can help in reducing overfitting also.\n",
        " \n",
        "\"\"\""
      ],
      "metadata": {
        "id": "E-U7uWKxY0yv"
      },
      "execution_count": null,
      "outputs": []
    }
  ],
  "metadata": {
    "kernelspec": {
      "display_name": "Python 3",
      "name": "python3"
    },
    "language_info": {
      "codemirror_mode": {
        "name": "ipython",
        "version": 3
      },
      "file_extension": ".py",
      "mimetype": "text/x-python",
      "name": "python",
      "nbconvert_exporter": "python",
      "pygments_lexer": "ipython3",
      "version": "3.10.8"
    },
    "orig_nbformat": 4,
    "colab": {
      "provenance": [],
      "gpuType": "T4"
    },
    "accelerator": "GPU"
  },
  "nbformat": 4,
  "nbformat_minor": 0
}