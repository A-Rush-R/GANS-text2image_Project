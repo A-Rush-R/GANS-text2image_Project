{
  "nbformat": 4,
  "nbformat_minor": 0,
  "metadata": {
    "colab": {
      "provenance": []
    },
    "kernelspec": {
      "name": "python3",
      "display_name": "Python 3"
    },
    "language_info": {
      "name": "python"
    }
  },
  "cells": [
    {
      "cell_type": "markdown",
      "source": [
        "Instructions for the assignment\n",
        "\n",
        "\n",
        "*   Fill the codeblocks according to the comments given\n",
        "*   Hints are given wherever required\n",
        "*   Please note that copying will not be tolerated, and appropriate action will be taken if we suspect any misconduct.\n",
        "*   You're welcome to utilize any online resources in case you feel stuck anywhere :-)\n",
        "\n",
        "\n",
        "\n",
        "\n",
        "\n",
        "\n",
        "\n"
      ],
      "metadata": {
        "id": "kIAcUXNYVeGR"
      }
    },
    {
      "cell_type": "markdown",
      "source": [
        "# Section A *(2 Marks each)*"
      ],
      "metadata": {
        "id": "UhXvUdK6Stt_"
      }
    },
    {
      "cell_type": "markdown",
      "source": [
        "## NumPy (Numerical Python)\n",
        "**bold text**\n",
        "### Multidimensional array object\n",
        "- Array is a grid of homogeneous elements which can be indexed in various ways \n",
        "- Different from Python list which can store different data types\n",
        "- NumPy stores multidimensional arrays as an instance of **ndarray** \n",
        "\n"
      ],
      "metadata": {
        "id": "oc77CrhjAGlR"
      }
    },
    {
      "cell_type": "code",
      "source": [
        "import numpy as np"
      ],
      "metadata": {
        "id": "WGtRigfyBpgb"
      },
      "execution_count": 2,
      "outputs": []
    },
    {
      "cell_type": "code",
      "execution_count": null,
      "metadata": {
        "id": "UR9ftRnU8_lu",
        "outputId": "6b9426d6-c5fa-4bf0-958b-736de37fa6d1",
        "colab": {
          "base_uri": "https://localhost:8080/"
        }
      },
      "outputs": [
        {
          "output_type": "stream",
          "name": "stdout",
          "text": [
            "[1, 2, 3, 4, 5]\n",
            "[[1 2 3]\n",
            " [4 5 6]\n",
            " [7 8 9]]\n"
          ]
        }
      ],
      "source": [
        "# Python list to initialize a one dimensional NumPy array of numbers 1 to 5 and then print it \n",
        "list=[1,2,3,4,5]\n",
        "p=np.array(list)\n",
        "print(list)\n",
        "\n",
        "# Python list to initialize a two dimensional NumPy array of shape [3,3] and then print it\n",
        "list_2d=np.array([[1,2,3],[4,5,6],[7,8,9]])\n",
        "print(list_2d) "
      ]
    },
    {
      "cell_type": "code",
      "source": [
        "# Write a NumPy function to create an array with random values of shape [3,4]\n",
        "def randoms(a,b):\n",
        "  return np.random.rand(a,b)\n",
        "\n",
        "r=randoms(3,4)\n",
        "print(r)\n",
        "# write a NumPy function to create an array with all elements initialized as zeros of shape [3,4]\n",
        "def zero(a,b):\n",
        "  return np.zeros((a,b))\n",
        "p=zero(3,4)\n",
        "print(p)\n",
        "# Write a NumPy function to create an array with all elements initialized as ones of shape [3,4]\n",
        "def inti_as_one(a,b,i):\n",
        " return  np.full((a,b),i)\n",
        "p=inti_as_one(3,3,1)\n",
        "print(p)"
      ],
      "metadata": {
        "id": "WZf-M7KnBkhu",
        "outputId": "6f87104f-48ae-4f13-ecfe-1e8676e830c5",
        "colab": {
          "base_uri": "https://localhost:8080/"
        }
      },
      "execution_count": 7,
      "outputs": [
        {
          "output_type": "stream",
          "name": "stdout",
          "text": [
            "[[0.61625833 0.23676914 0.09112502 0.54811057]\n",
            " [0.28316909 0.27399935 0.90539212 0.27328339]\n",
            " [0.34687705 0.12597381 0.23953489 0.04645401]]\n",
            "[[0. 0. 0. 0.]\n",
            " [0. 0. 0. 0.]\n",
            " [0. 0. 0. 0.]]\n",
            "[[1 1 1]\n",
            " [1 1 1]\n",
            " [1 1 1]]\n"
          ]
        }
      ]
    },
    {
      "cell_type": "code",
      "source": [
        "# Write a NumPy function to create an array containing a range of evenly spaced intervals\n",
        "# Hint : Use np.arange or np.linspace\n",
        "import numpy as np\n",
        "def evenly_spaced(int,end,interval) : \n",
        "  return np.linspace(int,end,interval)\n",
        "\n",
        "lsp=evenly_spaced(1,10,5)\n",
        "\n",
        "print(lsp)"
      ],
      "metadata": {
        "id": "Uagv5WtWBknb",
        "outputId": "eee96eb2-2c42-448c-b004-d372a4ceed52",
        "colab": {
          "base_uri": "https://localhost:8080/"
        }
      },
      "execution_count": null,
      "outputs": [
        {
          "output_type": "stream",
          "name": "stdout",
          "text": [
            "[ 1.    3.25  5.5   7.75 10.  ]\n"
          ]
        }
      ]
    },
    {
      "cell_type": "markdown",
      "source": [
        "### Basic array operations\n",
        "- algebraic operations \n",
        "- logical operations"
      ],
      "metadata": {
        "id": "dFeKiGA5CNXx"
      }
    },
    {
      "cell_type": "code",
      "source": [
        "a = np.array([[-4,6,8], [9, 3, 1], [1, 8, 5]])\n",
        "b = np.array([[11,16,18], [90, 37, 81], [61, 48, 75]])"
      ],
      "metadata": {
        "id": "mZbgCNnRDVbV"
      },
      "execution_count": null,
      "outputs": []
    },
    {
      "cell_type": "code",
      "source": [
        "# Write a NumPy function to add, subtract, multiply and divide arrays 'a' and 'b'\n",
        "\n",
        "A=np.add(a,b)\n",
        "B=np.subtract(a,b)\n",
        "C=np.multiply(a,b)\n",
        "D=np.divide(a,b)\n",
        "print(A)\n",
        "print(B)\n",
        "print(C)\n",
        "print(D)"
      ],
      "metadata": {
        "id": "QajfAkNHCMqe",
        "outputId": "8e44fa6f-cb5e-433a-d7cc-4fee4dc2ecf3",
        "colab": {
          "base_uri": "https://localhost:8080/"
        }
      },
      "execution_count": null,
      "outputs": [
        {
          "output_type": "stream",
          "name": "stdout",
          "text": [
            "[[ 7 22 26]\n",
            " [99 40 82]\n",
            " [62 56 80]]\n",
            "[[-15 -10 -10]\n",
            " [-81 -34 -80]\n",
            " [-60 -40 -70]]\n",
            "[[-44  96 144]\n",
            " [810 111  81]\n",
            " [ 61 384 375]]\n",
            "[[-0.36363636  0.375       0.44444444]\n",
            " [ 0.1         0.08108108  0.01234568]\n",
            " [ 0.01639344  0.16666667  0.06666667]]\n"
          ]
        }
      ]
    },
    {
      "cell_type": "code",
      "source": [
        "# Write a NumPy function to get the sum of the array 'a' along axis=0 \n",
        "def sum_along_axis(a,i) :\n",
        "  return np.sum(a,axis=i)\n",
        "sum=sum_along_axis(a,0)\n",
        "print(sum)\n",
        "\n",
        "# Write a NumPy function to get the sum of the array 'a' along axis=1 \n",
        "def sum_along_axis(a,i) :\n",
        "  return np.sum(a,axis=i)\n",
        "sum=sum_along_axis(a,1)\n",
        "print(sum)\n"
      ],
      "metadata": {
        "id": "hfBR7r80C_qh",
        "outputId": "824c8005-b2ee-40e1-ffbd-4a44cd6d7b77",
        "colab": {
          "base_uri": "https://localhost:8080/"
        }
      },
      "execution_count": null,
      "outputs": [
        {
          "output_type": "stream",
          "name": "stdout",
          "text": [
            "[ 6 17 14]\n",
            "[10 13 14]\n"
          ]
        }
      ]
    },
    {
      "cell_type": "code",
      "source": [
        "# Write a NumPy function to reverse the array 'a' \n",
        "def reversed(a): \n",
        "  return np.flip(a)\n",
        "reversed1=reversed(a)\n",
        "print(reversed1)\n",
        "# Write a NumPy function to reverse the array 'a' along axis=0\n",
        "def reversing_along_axis0(a,axis=0):\n",
        "  return np.flip(a,axis=0)\n",
        "  reversal0=reversing_along_axis0(a,axis=0)\n",
        "print(reversal0)\n",
        "# Write a NumPy function to reverse the array 'a' along axis=1\n",
        "def reversing_along_axis1(a,axis=1):\n",
        "  return np.flip(a,axis=1)\n",
        "  reversal1=reversing_along_axis1(a,axis=1)\n",
        "print(reversal1)\n"
      ],
      "metadata": {
        "id": "rBTxfTuFDSiA",
        "outputId": "e5cc15f2-bcae-4185-a5ef-b519f5fdca2e",
        "colab": {
          "base_uri": "https://localhost:8080/"
        }
      },
      "execution_count": null,
      "outputs": [
        {
          "output_type": "stream",
          "name": "stdout",
          "text": [
            "[[ 5  8  1]\n",
            " [ 1  3  9]\n",
            " [ 8  6 -4]]\n",
            "[[ 1  8  5]\n",
            " [ 9  3  1]\n",
            " [-4  6  8]]\n",
            "[[ 8  6 -4]\n",
            " [ 1  3  9]\n",
            " [ 5  8  1]]\n",
            "[[ 8  6 -4]\n",
            " [ 1  3  9]\n",
            " [ 5  8  1]]\n"
          ]
        }
      ]
    },
    {
      "cell_type": "markdown",
      "source": [
        "### Sorting and concatenation\n",
        "- sort arrays\n",
        "- join multiple arrays\n"
      ],
      "metadata": {
        "id": "WnCvXc3jCdWH"
      }
    },
    {
      "cell_type": "code",
      "source": [
        "a = np.array([[-4,6,8], [9, 3, 1], [1, 8, 5]])\n",
        "b = np.array([[11,16,18], [90, 37, 81], [61, 48, 75]])"
      ],
      "metadata": {
        "id": "Qsg-EPq7EbPx"
      },
      "execution_count": null,
      "outputs": []
    },
    {
      "cell_type": "code",
      "source": [
        "# Write a NumPy function to sort the array 'a' \n",
        "def sorting_array(arr):\n",
        "  return np.sort(arr)\n",
        "sorted=sorting_array(a)\n",
        "print(sorted)\n",
        "# Write a NumPy function to sort the array 'a' along axis=0\n",
        "def sorting_array(arr,axis):\n",
        "  return np.sort(arr,axis)\n",
        "sorted0=sorting_array(a,axis=0)\n",
        "print(sorted0)\n",
        "\n",
        "# Write a NumPy function to sort the array 'a' along axis=1\n",
        "def sorting_array_along_axis1(arr,axis):\n",
        "  return np.sort(arr,axis)\n",
        "sorted_along_axis1=sorting_array_along_axis1(a,axis=1)\n",
        "print(sorted)\n",
        "# Write a NumPy function to sort the array 'a' in descending order along axis=0\n",
        "sorted0=np.sort(a,axis=0)\n",
        "des=np.flip(sorted0,axis=0)\n",
        "print(des)\n",
        "sorted=np.sort(a)\n",
        "\n"
      ],
      "metadata": {
        "id": "_7VfP1anCc0O",
        "outputId": "47048285-b7af-4d80-ec0e-6945f69b85a9",
        "colab": {
          "base_uri": "https://localhost:8080/"
        }
      },
      "execution_count": null,
      "outputs": [
        {
          "output_type": "stream",
          "name": "stdout",
          "text": [
            "[[-4  6  8]\n",
            " [ 1  3  9]\n",
            " [ 1  5  8]]\n",
            "[[-4  3  1]\n",
            " [ 1  6  5]\n",
            " [ 9  8  8]]\n",
            "[[-4  6  8]\n",
            " [ 1  3  9]\n",
            " [ 1  5  8]]\n",
            "[[ 9  8  8]\n",
            " [ 1  6  5]\n",
            " [-4  3  1]]\n"
          ]
        }
      ]
    },
    {
      "cell_type": "code",
      "source": [
        "# Write a NumPy function to argsort the array along axis=0\n",
        "def argsort_along_axis0(a,axis):\n",
        "  return np.argsort(a,axis)\n",
        "arg=argsort_along_axis0(a,axis=0)\n",
        "print(arg)\n",
        "# Write a NumPy function to argsort the array along axis=1\n",
        "array=a\n",
        "def argsort_along_axis1(arr,axis):\n",
        "  return np.argsort(array,axis)\n",
        "arg1=argsort_along_axis1(array,axis=1)\n",
        "print(arg1)"
      ],
      "metadata": {
        "id": "6BqbtdLYEWng",
        "outputId": "9ffbaf64-0468-4c91-fc0e-cd58d7f83e1a",
        "colab": {
          "base_uri": "https://localhost:8080/"
        }
      },
      "execution_count": null,
      "outputs": [
        {
          "output_type": "stream",
          "name": "stdout",
          "text": [
            "[[0 1 1]\n",
            " [2 0 2]\n",
            " [1 2 0]]\n",
            "[[0 1 2]\n",
            " [2 1 0]\n",
            " [0 2 1]]\n"
          ]
        }
      ]
    },
    {
      "cell_type": "code",
      "source": [
        "# Write a NumPy function to concatenate the arrays 'a' and 'b'\n",
        "def concatenating(arr1,arr2):\n",
        "  return np.concatenate((arr1,arr2))\n",
        "  arr1=a\n",
        "  arr2=b\n",
        "con=concatenating(a,b)\n",
        "print(con)\n",
        "\n",
        "# Write a NumPy function to concatenate the arrays 'a' and 'b' along axis = 0\n",
        "def concatenating(arr1,arr2,axis):\n",
        "  return np.concatenate((arr1,arr2),axis)\n",
        "  arr1=a\n",
        "  arr2=b\n",
        "con0=concatenating(a,b,0)\n",
        "print(con0)\n",
        "\n",
        "\n",
        "# Note: You can do the same function using stacking, discover and try that :)\n",
        "con1=np.stack((a,b),axis=0)\n",
        "print(con1)"
      ],
      "metadata": {
        "id": "cixOoXZhEY8-",
        "colab": {
          "base_uri": "https://localhost:8080/"
        },
        "outputId": "89df3fb5-9eb4-43d1-c620-3e6d04d0acbf"
      },
      "execution_count": null,
      "outputs": [
        {
          "output_type": "stream",
          "name": "stdout",
          "text": [
            "[[-4  6  8]\n",
            " [ 9  3  1]\n",
            " [ 1  8  5]\n",
            " [11 16 18]\n",
            " [90 37 81]\n",
            " [61 48 75]]\n",
            "[[-4  6  8]\n",
            " [ 9  3  1]\n",
            " [ 1  8  5]\n",
            " [11 16 18]\n",
            " [90 37 81]\n",
            " [61 48 75]]\n",
            "[[[-4  6  8]\n",
            "  [ 9  3  1]\n",
            "  [ 1  8  5]]\n",
            "\n",
            " [[11 16 18]\n",
            "  [90 37 81]\n",
            "  [61 48 75]]]\n"
          ]
        }
      ]
    },
    {
      "cell_type": "markdown",
      "source": [
        "### Reshaping arrays\n",
        "- the number of dimensions of the array\n",
        "-  shape of n-dimensional array as a tuple with n elements s.t. $i^{th}$ element is the length of the $i^{th}$ dimension of the array\n",
        "- total number of elements of the array\n",
        "- reshapes the array\n",
        "- flattens multidimensional array into a 1D array\n",
        "- adds new dimensions to the array"
      ],
      "metadata": {
        "id": "aY0j33z2EjNx"
      }
    },
    {
      "cell_type": "code",
      "source": [
        "import numpy as np\n"
      ],
      "metadata": {
        "id": "A5UAg2goOgiq"
      },
      "execution_count": null,
      "outputs": []
    },
    {
      "cell_type": "code",
      "source": [
        "a = np.array([[4,6,8], [9, 3, 1], [1, 8, 5]])"
      ],
      "metadata": {
        "id": "sStUkoh1FG4N"
      },
      "execution_count": null,
      "outputs": []
    },
    {
      "cell_type": "code",
      "source": [
        "# Write a NumPy function to get the Number of dimensions\n",
        "import numpy as np\n",
        "\n",
        "def num_dimensions(arr):\n",
        "  return np.ndim(arr)\n",
        "\n",
        "Number = num_dimensions(a)\n",
        "print(Number)\n",
        "\n",
        "# Write a NumPy function to get the Shape of the array  \n",
        "def shapeofarray(array):\n",
        "  return np.shape(array)\n",
        "\n",
        "shap=shapeofarray(a)\n",
        "print(shap)\n",
        "# Write a NumPy function to get the Size of the array\n",
        "def sizeof(array):\n",
        "  return np.size(array)\n",
        "  \n",
        "arraysize=sizeof(a)\n",
        "print(arraysize)"
      ],
      "metadata": {
        "id": "vb35oi57Ev1f",
        "outputId": "279feb80-d45b-4a1a-89fe-8e9a1a14e1ad",
        "colab": {
          "base_uri": "https://localhost:8080/"
        }
      },
      "execution_count": null,
      "outputs": [
        {
          "output_type": "stream",
          "name": "stdout",
          "text": [
            "2\n",
            "(3, 3)\n",
            "9\n"
          ]
        }
      ]
    },
    {
      "cell_type": "code",
      "source": [
        "# Write a NumPy function to Reshape the array 'a' to the dimension (1,9)\n",
        "def reshaping(array,rows,columns):\n",
        "  return np.reshape(array,(rows,columns))\n",
        "\n",
        "reshaped_array=reshaping(a,1,9) \n",
        "\n",
        "print(reshaped_array)"
      ],
      "metadata": {
        "id": "MznU0NWKE54c",
        "outputId": "716409db-d2f7-48a8-dde1-186727cdd18f",
        "colab": {
          "base_uri": "https://localhost:8080/"
        }
      },
      "execution_count": null,
      "outputs": [
        {
          "output_type": "stream",
          "name": "stdout",
          "text": [
            "[[4 6 8 9 3 1 1 8 5]]\n"
          ]
        }
      ]
    },
    {
      "cell_type": "code",
      "source": [
        "# Write a NumPy function to add a new axis to the array 'a' \n",
        "def expansionof_dimension(array,axis):\n",
        "  return np.expand_dims(array,axis)\n",
        "\n",
        "print(\"by expansion \")\n",
        "array_with_new_axis=expansionof_dimension(a,axis=0)\n",
        "print(array_with_new_axis)\n",
        "\n",
        "print(\"by new axis method\")\n",
        "def expansion_by_new_axis(array):\n",
        "\n",
        " return a[np.newaxis,:]\n",
        "\n",
        "\n",
        "array_newaxis= expansion_by_new_axis(a)\n",
        "print(array_newaxis)\n",
        "# Note that Show atleast two different ways of doing this \n"
      ],
      "metadata": {
        "id": "p1dlxcNYE8tv",
        "colab": {
          "base_uri": "https://localhost:8080/"
        },
        "outputId": "bf783f66-c59d-48ec-a116-6ca9e7b0abab"
      },
      "execution_count": null,
      "outputs": [
        {
          "output_type": "stream",
          "name": "stdout",
          "text": [
            "by expansion \n",
            "[[[4 6 0]\n",
            "  [0 3 1]\n",
            "  [1 8 5]]]\n",
            "by new axis method\n",
            "[[[4 6 0]\n",
            "  [0 3 1]\n",
            "  [1 8 5]]]\n"
          ]
        }
      ]
    },
    {
      "cell_type": "markdown",
      "source": [
        "### Indexing and slicing\n",
        "- NumPy allows indexing array using tuple of nonnegative integers, booleans, array or integers"
      ],
      "metadata": {
        "id": "Ng4xWkwpFtao"
      }
    },
    {
      "cell_type": "code",
      "source": [
        "import numpy as np"
      ],
      "metadata": {
        "id": "w8PNiTmuoGyC"
      },
      "execution_count": null,
      "outputs": []
    },
    {
      "cell_type": "code",
      "source": [
        "a = np.array([[4,6,0], [0, 3, 1], [1, 8, 5]])"
      ],
      "metadata": {
        "id": "swrtOhPGGB7r"
      },
      "execution_count": null,
      "outputs": []
    },
    {
      "cell_type": "code",
      "source": [
        "#write a numpy function to indexing and sclicing the array like in python list.\n",
        "def indexing_by_int(a,i):\n",
        "  return  a[i]\n",
        "using_index= indexing_by_int(a,1)\n",
        "print(\"this is indexing by integer:\",using_index)\n",
        "\n",
        "def indexing_by_tuple(array,i,j):\n",
        " return array[i][j]\n",
        "using_tuple= indexing_by_tuple(a,1,2)\n",
        "print(\"by tuple:\",using_tuple)\n",
        "\n",
        "def indexing_by_slicing(array,i,j,k,l):\n",
        " return array[i:j, k:l]\n",
        "using_slicing= indexing_by_slicing(a,1,3,0,2)\n",
        "print(\" by sclicing:\",using_slicing)\n",
        "\n",
        "\n",
        "def index_array_by_range(arr, start, end):\n",
        "    return arr[start:end]\n",
        "result = index_array_by_range(a, 1, 3)\n",
        "print(\"indexing by range:\", result)\n",
        "\n",
        "#show it by indexing using integer,by tuple,and range\n"
      ],
      "metadata": {
        "colab": {
          "base_uri": "https://localhost:8080/"
        },
        "id": "sH89LqcEUkBo",
        "outputId": "a4ee8224-6960-41fd-b820-579801380355"
      },
      "execution_count": null,
      "outputs": [
        {
          "output_type": "stream",
          "name": "stdout",
          "text": [
            "this is indexing by integer: [0 3 1]\n",
            "by tuple: 1\n",
            " by sclicing: [[0 3]\n",
            " [1 8]]\n",
            "indexing by range: [[0 3 1]\n",
            " [1 8 5]]\n"
          ]
        }
      ]
    },
    {
      "cell_type": "code",
      "source": [
        "# Write a NumPy function to select values satisfying a specific condition like Values greater than 4 \n",
        "def greator_value_in(array):\n",
        "  return array[np.where(a>4)]\n",
        "\n",
        "vals=greator_value_in(a)\n",
        "print(vals)\n",
        "\n",
        "# Write a NumPy function to select values satisfying mulitple conditions like Values greater than 4 and divisible by 2\n",
        "def even_and_greatorthan4(array):\n",
        "  return array[np.where((array>4) & (array%2==0))]\n",
        "  \n",
        "vals2=even_and_greatorthan4(a)\n",
        "print(vals2)\n"
      ],
      "metadata": {
        "id": "Xn2_z5h-Fmrd",
        "colab": {
          "base_uri": "https://localhost:8080/"
        },
        "outputId": "210e1c5b-7be6-4448-9af5-4141b053e530"
      },
      "execution_count": null,
      "outputs": [
        {
          "output_type": "stream",
          "name": "stdout",
          "text": [
            "[6 8 9 8 5]\n",
            "[6 8 8]\n"
          ]
        }
      ]
    },
    {
      "cell_type": "markdown",
      "source": [
        "### Copying arrays\n",
        "- new array object with a copy of the data\n",
        "- Changes made in the copy array is not reflected in the original array"
      ],
      "metadata": {
        "id": "GWU0EfaAG2ll"
      }
    },
    {
      "cell_type": "code",
      "source": [
        "a = np.array([[4,6,0], [0, 3, 1], [1, 8, 5]])"
      ],
      "metadata": {
        "id": "ijdgy02lHMJW"
      },
      "execution_count": null,
      "outputs": []
    },
    {
      "cell_type": "code",
      "source": [
        "# Write a NumPy function to copy the array 'a' and finally print an array where all elements are increased by 1\n",
        "def arr(array,i):\n",
        "  return np.empty_like(a) + i\n",
        "  a1=arr(a,1)\n",
        "  \n",
        "  print(a1)"
      ],
      "metadata": {
        "id": "FmgUdh66GuQH"
      },
      "execution_count": null,
      "outputs": []
    },
    {
      "cell_type": "markdown",
      "source": [
        "## Pandas ( Python Data Analysis Library)\n",
        "\n",
        "### Main Features\n",
        "- Easy handling of missing data in both floating point and non-floating point data.\n",
        "- Automatic and explicit data alignment, making it easy to perform computations and transformations on data sets.\n",
        "\n"
      ],
      "metadata": {
        "id": "M1KLD5QxHsVw"
      }
    },
    {
      "cell_type": "markdown",
      "source": [
        "#### Generating the dataset "
      ],
      "metadata": {
        "id": "v1CuU3FeIq1a"
      }
    },
    {
      "cell_type": "markdown",
      "source": [
        "Run the following load command to get the 2-Dim iris dataset. Do the following operations on it and please dont edit this cell"
      ],
      "metadata": {
        "id": "fp36ZqOMIy7k"
      }
    },
    {
      "cell_type": "code",
      "source": [
        "import numpy as np"
      ],
      "metadata": {
        "id": "Yn82xAuta8Km"
      },
      "execution_count": null,
      "outputs": []
    },
    {
      "cell_type": "markdown",
      "source": [],
      "metadata": {
        "id": "BSC6Nlk8UAG0"
      }
    },
    {
      "cell_type": "code",
      "source": [
        "url = 'https://archive.ics.uci.edu/ml/machine-learning-databases/iris/iris.data'\n",
        "iris_2d = np.genfromtxt(url, delimiter=',', dtype='float', usecols=[0,1,2,3])"
      ],
      "metadata": {
        "id": "A_O5RTBXIyK-"
      },
      "execution_count": null,
      "outputs": []
    },
    {
      "cell_type": "markdown",
      "source": [
        "#### Basic Data Analysis"
      ],
      "metadata": {
        "id": "EILb6pPrS8Ju"
      }
    },
    {
      "cell_type": "code",
      "source": [
        "import pandas as pd"
      ],
      "metadata": {
        "id": "WEKY0H9WiePn"
      },
      "execution_count": null,
      "outputs": []
    },
    {
      "cell_type": "code",
      "source": [
        "# Write a Pandas function to drop rows that contain a missing value.\n",
        "def func(arr):\n",
        "  return arr.dropna()\n",
        "\n",
        "df=pd.DataFrame(iris_2d)\n",
        "k=func(df)\n",
        "print(k)"
      ],
      "metadata": {
        "id": "bViO1LLoI7sz",
        "colab": {
          "base_uri": "https://localhost:8080/"
        },
        "outputId": "2825af41-1172-456d-b3ce-4d254775d9f5"
      },
      "execution_count": null,
      "outputs": [
        {
          "output_type": "stream",
          "name": "stdout",
          "text": [
            "       0    1    2    3\n",
            "0    5.1  3.5  1.4  0.2\n",
            "1    4.9  3.0  1.4  0.2\n",
            "2    4.7  3.2  1.3  0.2\n",
            "3    4.6  3.1  1.5  0.2\n",
            "4    5.0  3.6  1.4  0.2\n",
            "..   ...  ...  ...  ...\n",
            "145  6.7  3.0  5.2  2.3\n",
            "146  6.3  2.5  5.0  1.9\n",
            "147  6.5  3.0  5.2  2.0\n",
            "148  6.2  3.4  5.4  2.3\n",
            "149  5.9  3.0  5.1  1.8\n",
            "\n",
            "[150 rows x 4 columns]\n"
          ]
        }
      ]
    },
    {
      "cell_type": "code",
      "source": [
        "# Write a Pandas function to find the correlation between the first two columns.\n",
        "df[0].corr(df[1])\n"
      ],
      "metadata": {
        "id": "zp_BYv5EJDjJ",
        "colab": {
          "base_uri": "https://localhost:8080/"
        },
        "outputId": "58d38aae-c605-4c02-edb6-9eecea523aa2"
      },
      "execution_count": null,
      "outputs": [
        {
          "output_type": "execute_result",
          "data": {
            "text/plain": [
              "-0.10936924995064937"
            ]
          },
          "metadata": {},
          "execution_count": 14
        }
      ]
    },
    {
      "cell_type": "code",
      "source": [
        "# Write a Pandas function to find the mean, median and standard deviation of column 3.\n",
        "import numpy as np\n",
        "import pandas as pd\n",
        "\n",
        "url = 'https://archive.ics.uci.edu/ml/machine-learning-databases/iris/iris.data'\n",
        "iris_2d = np.genfromtxt(url, delimiter=',', dtype='float', usecols=[0, 1, 2, 3])\n",
        "\n",
        "\n",
        "df = pd.DataFrame(iris_2d, columns=['sepallength', 'sepalwidth', 'petallength', 'petalwidth'])\n",
        "\n",
        "\n",
        "def calculate_mean(data):\n",
        "    return data.mean()\n",
        "\n",
        "def calculate_median(data):\n",
        "    return data.median()\n",
        "\n",
        "def calculate_std_dev(data):\n",
        "    return data.std()\n",
        "\n",
        "\n",
        "mean = calculate_mean(df['petallength'])\n",
        "median = calculate_median(df['petallength'])\n",
        "std_dev = calculate_std_dev(df['petallength'])\n",
        "\n",
        "print(\"Mean:\", mean)\n",
        "print(\"Median:\", median)\n",
        "print(\"Standard Deviation:\", std_dev)\n",
        "\n"
      ],
      "metadata": {
        "id": "0mjeoZCwJDoW",
        "colab": {
          "base_uri": "https://localhost:8080/"
        },
        "outputId": "6e5d593e-3143-4c4b-8b8b-8c7431f5b6d9"
      },
      "execution_count": null,
      "outputs": [
        {
          "output_type": "stream",
          "name": "stdout",
          "text": [
            "Mean: 3.758666666666666\n",
            "Median: 4.35\n",
            "Standard Deviation: 1.7644204199522626\n"
          ]
        }
      ]
    },
    {
      "cell_type": "code",
      "source": [
        "# Write a Pandas function to create a new column for volume in iris_2d, where volume is (pi x petallength x sepal_length^2)/3\n",
        "# Hints: \n",
        "# 1. Introduce new dimension to match iris_2d's\n",
        "# 2. Add the new column\n",
        "import pandas as pd\n",
        "import numpy as np\n",
        "from math import pi\n",
        "\n",
        "def add_volume_column(data):\n",
        "   volume = (pi * data['petallength'] * data['sepallength']**2) / 3\n",
        "\n",
        "   data['volume'] = volume\n",
        "   return data\n",
        "url = 'https://archive.ics.uci.edu/ml/machine-learning-databases/iris/iris.data'\n",
        "iris_2d = pd.read_csv(url, header=None, names=['sepallength', 'sepalwidth', 'petallength', 'petalwidth', 'species'])\n",
        "\n",
        "iris_2d_with_volume = add_volume_column(iris_2d)\n",
        "\n",
        "print(iris_2d_with_volume)"
      ],
      "metadata": {
        "id": "bRiYEhWTJDrM",
        "colab": {
          "base_uri": "https://localhost:8080/"
        },
        "outputId": "16f557f8-7157-4811-d3f7-a2f560178783"
      },
      "execution_count": null,
      "outputs": [
        {
          "output_type": "stream",
          "name": "stdout",
          "text": [
            "     sepallength  sepalwidth  petallength  petalwidth         species  \\\n",
            "0            5.1         3.5          1.4         0.2     Iris-setosa   \n",
            "1            4.9         3.0          1.4         0.2     Iris-setosa   \n",
            "2            4.7         3.2          1.3         0.2     Iris-setosa   \n",
            "3            4.6         3.1          1.5         0.2     Iris-setosa   \n",
            "4            5.0         3.6          1.4         0.2     Iris-setosa   \n",
            "..           ...         ...          ...         ...             ...   \n",
            "145          6.7         3.0          5.2         2.3  Iris-virginica   \n",
            "146          6.3         2.5          5.0         1.9  Iris-virginica   \n",
            "147          6.5         3.0          5.2         2.0  Iris-virginica   \n",
            "148          6.2         3.4          5.4         2.3  Iris-virginica   \n",
            "149          5.9         3.0          5.1         1.8  Iris-virginica   \n",
            "\n",
            "         volume  \n",
            "0     38.132652  \n",
            "1     35.200498  \n",
            "2     30.072372  \n",
            "3     33.238050  \n",
            "4     36.651914  \n",
            "..          ...  \n",
            "145  244.445230  \n",
            "146  207.816354  \n",
            "147  230.069302  \n",
            "148  217.373079  \n",
            "149  185.910028  \n",
            "\n",
            "[150 rows x 6 columns]\n"
          ]
        }
      ]
    },
    {
      "cell_type": "markdown",
      "source": [
        "# Section B *(2 Marks each)*"
      ],
      "metadata": {
        "id": "dGqrG93ELEQ3"
      }
    },
    {
      "cell_type": "markdown",
      "source": [
        "###NumPy"
      ],
      "metadata": {
        "id": "OLm8jv7tMH6h"
      }
    },
    {
      "cell_type": "markdown",
      "source": [
        "Q1 Let x = np.arange(4, dtype=np.int64). Create an array of ones with the same shape and type as X."
      ],
      "metadata": {
        "id": "zE1n0x7ZLRLU"
      }
    },
    {
      "cell_type": "code",
      "source": [
        "y=np.arange(1,5,dtype=np.int64)\n",
        "print(y)"
      ],
      "metadata": {
        "id": "H8o9C6b7LJzA",
        "colab": {
          "base_uri": "https://localhost:8080/"
        },
        "outputId": "69e6cfbe-b463-49ed-cd38-fa579e7fdca3"
      },
      "execution_count": null,
      "outputs": [
        {
          "output_type": "stream",
          "name": "stdout",
          "text": [
            "[1 2 3 4]\n"
          ]
        }
      ]
    },
    {
      "cell_type": "markdown",
      "source": [
        "Q2 Let x be an array [1, 2, 3, ..., 9]. Split x into 3 arrays, each of which has 4, 2, and 3 elements in the original order."
      ],
      "metadata": {
        "id": "PPYeTqoHLSNj"
      }
    },
    {
      "cell_type": "code",
      "source": [
        "x=np.arange(1,10)\n",
        "y=x[0:4]\n",
        "z=x[4:6]\n",
        "a=x[6:9]\n",
        "x=[y,z,a]\n",
        "print(x)"
      ],
      "metadata": {
        "id": "DS9mr30LLYdg",
        "colab": {
          "base_uri": "https://localhost:8080/"
        },
        "outputId": "1756ef0f-0a04-4df5-b881-aa22321400ed"
      },
      "execution_count": null,
      "outputs": [
        {
          "output_type": "stream",
          "name": "stdout",
          "text": [
            "[array([1, 2, 3, 4]), array([5, 6]), array([7, 8, 9])]\n"
          ]
        }
      ]
    },
    {
      "cell_type": "markdown",
      "source": [
        "Q3 Initiate x as a 2x5 array with random values from 0 to 10(not inclusive).Get the maximum and minimum values and their indices of x along the second axis."
      ],
      "metadata": {
        "id": "b1wJaooRLXjN"
      }
    },
    {
      "cell_type": "code",
      "source": [
        "array=np.random.rand(2,5)*10\n",
        "print(\"Array is:\",array)\n",
        "\n",
        "def max_value(x):\n",
        "  return np.amax(x,axis=1)\n",
        "A=max_value(array)\n",
        "def min_value(x):\n",
        "  return np.amin(x,axis=1)\n",
        "B=min_value(array)\n",
        "def max_indices(x):\n",
        "  return np.argmax(x,axis=1)\n",
        "C=max_indices(array)\n",
        "def min_indices(x):\n",
        "  return np.argmin(x,axis=1)\n",
        "D=min_indices(array)\n",
        "print(A)\n",
        "print(B)\n",
        "print(C)\n",
        "print(D)"
      ],
      "metadata": {
        "id": "GnXDqksjLf89",
        "colab": {
          "base_uri": "https://localhost:8080/"
        },
        "outputId": "8a0b270e-a134-489f-e14f-3ebd55d34f6f"
      },
      "execution_count": null,
      "outputs": [
        {
          "output_type": "stream",
          "name": "stdout",
          "text": [
            "Array is: [[3.15995752 3.3450931  1.60489283 2.13685289 1.21362363]\n",
            " [4.25737583 8.37000817 0.89396868 9.38034001 1.46282762]]\n",
            "[3.3450931  9.38034001]\n",
            "[1.21362363 0.89396868]\n",
            "[1 3]\n",
            "[4 2]\n"
          ]
        }
      ]
    },
    {
      "cell_type": "markdown",
      "source": [
        "### Pandas"
      ],
      "metadata": {
        "id": "8_Q7fbyxMMHM"
      }
    },
    {
      "cell_type": "markdown",
      "source": [
        "Run the following load command and solve the following questions"
      ],
      "metadata": {
        "id": "3QpaFHkxJUho"
      }
    },
    {
      "cell_type": "code",
      "source": [
        "url = 'https://archive.ics.uci.edu/ml/machine-learning-databases/iris/iris.data'\n",
        "iris = np.genfromtxt(url, delimiter=',', dtype='object')\n",
        "names = ('sepallength', 'sepalwidth', 'petallength', 'petalwidth', 'species')"
      ],
      "metadata": {
        "id": "mLdcY49iJDtl"
      },
      "execution_count": null,
      "outputs": []
    },
    {
      "cell_type": "markdown",
      "source": [
        "Q4 Write a Pandas function to find the count of unique species."
      ],
      "metadata": {
        "id": "zbDepnx9RtV8"
      }
    },
    {
      "cell_type": "code",
      "source": [
        "dp=pd.DataFrame(iris)\n",
        "unique_speices=dp.nunique()\n",
        "\n",
        "print(unique_speices)"
      ],
      "metadata": {
        "id": "oAkO0UnqJDv7",
        "colab": {
          "base_uri": "https://localhost:8080/"
        },
        "outputId": "deeddaac-f3ba-46a6-af16-1f6ff597987c"
      },
      "execution_count": null,
      "outputs": [
        {
          "output_type": "stream",
          "name": "stdout",
          "text": [
            "0    35\n",
            "1    23\n",
            "2    43\n",
            "3    22\n",
            "4     3\n",
            "dtype: int64\n"
          ]
        }
      ]
    },
    {
      "cell_type": "markdown",
      "source": [
        "# Q5 Write a Pandas function to bin the petal length (3rd) column of iris_2d to form a text array, such that if petal length is:\n",
        "- Less than 3 –> ‘small’\n",
        "- 3-5 –> ‘medium’\n",
        "- greater than equal to 5 –> ‘large’"
      ],
      "metadata": {
        "id": "Usj5HlvyRxal"
      }
    },
    {
      "cell_type": "code",
      "source": [
        "import numpy as np\n",
        "import pandas as pd\n",
        "\n",
        "url = 'https://archive.ics.uci.edu/ml/machine-learning-databases/iris/iris.data'\n",
        "iris_2d = np.genfromtxt(url, delimiter=',', dtype='float', usecols=[0,1,2,3])\n",
        "\n",
        "# Creating a DataFrame from the iris_2d array\n",
        "df = pd.DataFrame(iris_2d, columns=['sepallength', 'sepalwidth', 'petallength', 'petalwidth'])\n",
        "\n",
        "# Binning the petal length column\n",
        "bins = [0, 3, 5, np.inf]\n",
        "labels = ['small', 'medium', 'large']\n",
        "df['petal_length_category'] = pd.cut(df['petallength'], bins=bins, labels=labels)\n",
        "\n",
        "# Getting the resulting text array\n",
        "result_array = df['petal_length_category'].values\n",
        "\n",
        "print(result_array)\n"
      ],
      "metadata": {
        "id": "gTWWJoLMJDxx",
        "colab": {
          "base_uri": "https://localhost:8080/"
        },
        "outputId": "753e3e42-19aa-4d54-bbe8-76a5801c7e9b"
      },
      "execution_count": null,
      "outputs": [
        {
          "output_type": "stream",
          "name": "stdout",
          "text": [
            "['small', 'small', 'small', 'small', 'small', ..., 'large', 'medium', 'large', 'large', 'large']\n",
            "Length: 150\n",
            "Categories (3, object): ['small' < 'medium' < 'large']\n"
          ]
        }
      ]
    },
    {
      "cell_type": "markdown",
      "source": [
        "Q6 Write a Pandas function to find the most frequent value of petal length (3rd column) in iris dataset"
      ],
      "metadata": {
        "id": "IbBYP_8sSBrB"
      }
    },
    {
      "cell_type": "code",
      "source": [
        "import numpy as np\n",
        "import pandas as pd\n",
        "\n",
        "url = 'https://archive.ics.uci.edu/ml/machine-learning-databases/iris/iris.data'\n",
        "iris = np.genfromtxt(url, delimiter=',', dtype='object')\n",
        "names = ('sepallength', 'sepalwidth', 'petallength', 'petalwidth', 'species')\n",
        "\n",
        "# Creating a DataFrame from the iris array\n",
        "df = pd.DataFrame(iris, columns=names)\n",
        "\n",
        "# Cleaning the petal length column\n",
        "df['petallength'] = df['petallength'].str.decode('utf-8').str.strip()\n",
        "\n",
        "# Finding the most frequent value of petal length\n",
        "most_frequent_petal_length = df['petallength'].value_counts().idxmax()\n",
        "\n",
        "print(\"Most frequent value of petal length:\", most_frequent_petal_length)\n"
      ],
      "metadata": {
        "id": "DNk_tlVWJufR",
        "colab": {
          "base_uri": "https://localhost:8080/"
        },
        "outputId": "6572cd03-6177-4636-c91b-55790197be7b"
      },
      "execution_count": null,
      "outputs": [
        {
          "output_type": "stream",
          "name": "stdout",
          "text": [
            "Most frequent value of petal length: 1.5\n"
          ]
        }
      ]
    }
  ]
}